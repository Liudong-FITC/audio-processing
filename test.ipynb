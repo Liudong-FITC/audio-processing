{
 "cells": [
  {
   "cell_type": "code",
   "execution_count": 25,
   "metadata": {},
   "outputs": [],
   "source": [
    "import os\n",
    "import moviepy.editor as mp\n",
    "from pydub import AudioSegment\n",
    "import numpy as np\n",
    "import librosa\n",
    "import soundfile as sf"
   ]
  },
  {
   "cell_type": "code",
   "execution_count": 2,
   "metadata": {},
   "outputs": [],
   "source": [
    "# 提取音频\n",
    "def extract_audio_from_mp4(video_path):\n",
    "    video = mp.VideoFileClip(video_path)\n",
    "    audio = video.audio\n",
    "    audio_path = video_path.rsplit('.', 1)[0] + '.wav'\n",
    "    audio.write_audiofile(audio_path)\n",
    "    return audio_path"
   ]
  },
  {
   "cell_type": "code",
   "execution_count": 4,
   "metadata": {},
   "outputs": [
    {
     "name": "stdout",
     "output_type": "stream",
     "text": [
      "MoviePy - Writing audio in C:/Users/Liudong/Desktop/MyData/4875c316bf9677f69a794ddf546e219c.wav\n"
     ]
    },
    {
     "name": "stderr",
     "output_type": "stream",
     "text": [
      "                                                       "
     ]
    },
    {
     "name": "stdout",
     "output_type": "stream",
     "text": [
      "MoviePy - Done.\n"
     ]
    },
    {
     "name": "stderr",
     "output_type": "stream",
     "text": [
      "\r"
     ]
    }
   ],
   "source": [
    "audio_path = extract_audio_from_mp4('C:/Users/Liudong/Desktop/MyData/4875c316bf9677f69a794ddf546e219c.mp4')"
   ]
  },
  {
   "cell_type": "code",
   "execution_count": 18,
   "metadata": {},
   "outputs": [],
   "source": [
    "# 音频合并\n",
    "def merge_audio_with_length_of_b(audio_a_path, audio_b_path):\n",
    "    audio_a = AudioSegment.from_file(audio_a_path)\n",
    "    audio_b = AudioSegment.from_file(audio_b_path)\n",
    "    # 创建 2 秒的空白音频\n",
    "    silence = AudioSegment.silent(duration=2000)\n",
    "\n",
    "    # 在音频 b 前后添加空白音频\n",
    "    padded_audio_b = silence + audio_b + silence\n",
    "    adjusted_audio_a = audio_a - 20\n",
    "\n",
    "    # 取音频 b 的长度\n",
    "    target_length = len(padded_audio_b)\n",
    "\n",
    "    # 如果音频 a 长度大于音频 b，裁剪音频 a 到音频 b 的长度\n",
    "    if len(adjusted_audio_a) > target_length:\n",
    "        adjusted_audio_a = adjusted_audio_a[:target_length]\n",
    "\n",
    "    adjusted_audio_b = padded_audio_b + 5\n",
    "\n",
    "    mixed_audio = adjusted_audio_a.overlay(adjusted_audio_b)\n",
    "\n",
    "    return mixed_audio"
   ]
  },
  {
   "cell_type": "code",
   "execution_count": 19,
   "metadata": {},
   "outputs": [
    {
     "data": {
      "text/plain": [
       "<_io.BufferedRandom name='C:/Users/Liudong/Desktop/MyData/mixed_audio_with_length_of_b.wav'>"
      ]
     },
     "execution_count": 19,
     "metadata": {},
     "output_type": "execute_result"
    }
   ],
   "source": [
    "audio_a_path = \"C:/Users/Liudong/Desktop/MyData/噪音视频.wav\"\n",
    "audio_b_path = \"C:/Users/Liudong/Desktop/MyData/4875c316bf9677f69a794ddf546e219c.wav\"\n",
    "audio_path = audio_a_path.rsplit('.', 1)[0] + '.wav'\n",
    "mixed_audio = merge_audio_with_length_of_b(audio_a_path, audio_b_path)\n",
    "mixed_audio.export(\"C:/Users/Liudong/Desktop/MyData/mixed_audio_with_length_of_b.wav\", format=\"wav\")"
   ]
  },
  {
   "cell_type": "code",
   "execution_count": 29,
   "metadata": {},
   "outputs": [],
   "source": [
    "# 谱减法降噪\n",
    "'''\n",
    "假设音频开始的一部分为噪声，用于估计噪声功率谱，然后进行谱减法降噪\n",
    "'''\n",
    "def spectral_subtraction_without_noise_file(audio_signal, window_size=2048, hop_length=512, alpha=2):\n",
    "    stft = librosa.stft(audio_signal, n_fft=window_size, hop_length=hop_length)\n",
    "    magnitude = np.abs(stft)\n",
    "    phase = np.angle(stft)\n",
    "\n",
    "    # 估计噪声功率谱（假设音频开始部分为噪声）\n",
    "    noise_magnitude = magnitude[:, :window_size // hop_length]\n",
    "    noise_mean_magnitude = np.mean(noise_magnitude, axis=-1, keepdims=True)\n",
    "\n",
    "    # 谱减法降噪\n",
    "    subtracted_magnitude = np.maximum(magnitude - alpha * noise_mean_magnitude, 0)\n",
    "\n",
    "    # 重构降噪后的音频信号\n",
    "    subtracted_stft = subtracted_magnitude * np.exp(1j * phase)\n",
    "    denoised_signal = librosa.istft(subtracted_stft, hop_length=hop_length)\n",
    "\n",
    "    return denoised_signal"
   ]
  },
  {
   "cell_type": "code",
   "execution_count": 30,
   "metadata": {},
   "outputs": [],
   "source": [
    "# 加载音频文件（假设音频文件为 wav 格式）\n",
    "audio_path = \"C:/Users/Liudong/Desktop/MyData/mixed_audio_with_length_of_b.wav\"\n",
    "audio_signal, sample_rate = librosa.load(audio_path, sr=None)\n",
    "\n",
    "# 进行谱减法降噪\n",
    "denoised_audio = spectral_subtraction_without_noise_file(audio_signal)\n",
    "\n",
    "# 保存降噪后的音频\n",
    "output_path = \"C:/Users/Liudong/Desktop/MyData/denoised_audio_without_noise_file.wav\"\n",
    "sf.write(output_path, denoised_audio, samplerate=sample_rate)"
   ]
  },
  {
   "cell_type": "code",
   "execution_count": 31,
   "metadata": {},
   "outputs": [],
   "source": [
    "# 谱减法降噪\n",
    "'''\n",
    "具备噪声音频\n",
    "'''\n",
    "def spectral_subtraction(audio_signal, noise_signal, alpha=2):\n",
    "    # 计算音频信号和噪声信号的短时傅里叶变换\n",
    "    audio_stft = librosa.stft(audio_signal)\n",
    "    noise_stft = librosa.stft(noise_signal)\n",
    "\n",
    "    # 计算噪声功率谱\n",
    "    noise_power = np.abs(noise_stft)**2\n",
    "\n",
    "    # 计算音频功率谱\n",
    "    audio_power = np.abs(audio_stft)**2\n",
    "\n",
    "    # 估计噪声平均功率谱\n",
    "    noise_mean_power = np.mean(noise_power, axis=-1, keepdims=True)\n",
    "\n",
    "    # 谱减法降噪\n",
    "    subtracted_power = np.maximum(audio_power - alpha * noise_mean_power, 0)\n",
    "\n",
    "    # 计算降噪后的幅度谱\n",
    "    subtracted_magnitude = np.sqrt(subtracted_power)\n",
    "\n",
    "    # 重构降噪后的音频信号\n",
    "    subtracted_stft = subtracted_magnitude * np.exp(1j * np.angle(audio_stft))\n",
    "    denoised_signal = librosa.istft(subtracted_stft)\n",
    "\n",
    "    return denoised_signal"
   ]
  },
  {
   "cell_type": "code",
   "execution_count": 32,
   "metadata": {},
   "outputs": [],
   "source": [
    "# 加载音频文件\n",
    "audio_path = \"C:/Users/Liudong/Desktop/MyData/mixed_audio_with_length_of_b.wav\"\n",
    "noise_path = \"C:/Users/Liudong/Desktop/MyData/噪音视频.wav\"\n",
    "audio_signal, _ = librosa.load(audio_path, sr=None)\n",
    "noise_signal, _ = librosa.load(noise_path, sr=None)\n",
    "\n",
    "# 进行谱减法降噪\n",
    "denoised_audio = spectral_subtraction(audio_signal, noise_signal)\n",
    "output_path = \"C:/Users/Liudong/Desktop/MyData/denoised_audio.wav\"\n",
    "sf.write(output_path, denoised_audio, samplerate=sample_rate)"
   ]
  },
  {
   "cell_type": "code",
   "execution_count": 33,
   "metadata": {},
   "outputs": [],
   "source": [
    "# 维纳滤波\n",
    "def wiener_filtering(audio_signal, noise_signal):\n",
    "    # 计算音频信号和噪声信号的短时傅里叶变换\n",
    "    audio_stft = librosa.stft(audio_signal)\n",
    "    noise_stft = librosa.stft(noise_signal)\n",
    "\n",
    "    # 计算噪声功率谱\n",
    "    noise_power = np.abs(noise_stft)**2\n",
    "\n",
    "    # 计算音频功率谱\n",
    "    audio_power = np.abs(audio_stft)**2\n",
    "\n",
    "    # 估计噪声平均功率谱\n",
    "    noise_mean_power = np.mean(noise_power, axis=-1, keepdims=True)\n",
    "\n",
    "    # 计算维纳滤波器系数\n",
    "    filter_coeff = audio_power / (audio_power + noise_mean_power)\n",
    "\n",
    "    # 应用维纳滤波器\n",
    "    filtered_stft = filter_coeff * audio_stft\n",
    "\n",
    "    # 重构降噪后的音频信号\n",
    "    denoised_signal = librosa.istft(filtered_stft)\n",
    "\n",
    "    return denoised_signal"
   ]
  },
  {
   "cell_type": "code",
   "execution_count": 36,
   "metadata": {},
   "outputs": [],
   "source": [
    "# 加载音频文件（假设音频文件为 wav 格式）\n",
    "audio_path = \"C:/Users/Liudong/Desktop/MyData/mixed_audio_with_length_of_b.wav\"\n",
    "noise_path = \"C:/Users/Liudong/Desktop/MyData/噪音视频.wav\"\n",
    "audio_signal, _ = librosa.load(audio_path, sr=None)\n",
    "noise_signal, _ = librosa.load(noise_path, sr=None)\n",
    "\n",
    "# 进行维纳滤波降噪\n",
    "denoised_audio = wiener_filtering(audio_signal, noise_signal)\n",
    "\n",
    "# 保存降噪后的音频\n",
    "output_path = \"C:/Users/Liudong/Desktop/MyData/denoised_audio_wiener_filter.wav\"\n",
    "sf.write(output_path, denoised_audio, samplerate=sample_rate)"
   ]
  },
  {
   "cell_type": "code",
   "execution_count": null,
   "metadata": {},
   "outputs": [],
   "source": []
  }
 ],
 "metadata": {
  "kernelspec": {
   "display_name": "spider",
   "language": "python",
   "name": "python3"
  },
  "language_info": {
   "codemirror_mode": {
    "name": "ipython",
    "version": 3
   },
   "file_extension": ".py",
   "mimetype": "text/x-python",
   "name": "python",
   "nbconvert_exporter": "python",
   "pygments_lexer": "ipython3",
   "version": "3.9.0"
  }
 },
 "nbformat": 4,
 "nbformat_minor": 2
}
