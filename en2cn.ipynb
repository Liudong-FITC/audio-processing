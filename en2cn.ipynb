{
 "cells": [
  {
   "cell_type": "markdown",
   "metadata": {},
   "source": [
    "# 读取csv文件中的文本列，调用api转换为中文"
   ]
  },
  {
   "cell_type": "code",
   "execution_count": null,
   "metadata": {},
   "outputs": [
    {
     "name": "stdout",
     "output_type": "stream",
     "text": [
      "{\n",
      "    \"from\": \"en\",\n",
      "    \"to\": \"zh\",\n",
      "    \"trans_result\": [\n",
      "        {\n",
      "            \"src\": \"Hello World! This is 1st paragraph.\",\n",
      "            \"dst\": \"你好，世界！这是第一段。\"\n",
      "        },\n",
      "        {\n",
      "            \"src\": \"This is 2nd paragraph.\",\n",
      "            \"dst\": \"这是第二段。\"\n",
      "        }\n",
      "    ]\n",
      "}\n"
     ]
    }
   ],
   "source": [
    "# 调用百度翻译API，获得中文的文本\n",
    "# -*- coding: utf-8 -*-\n",
    "\n",
    "# This code shows an example of text translation from English to Simplified-Chinese.\n",
    "# This code runs on Python 2.7.x and Python 3.x.\n",
    "# You may install `requests` to run this code: pip install requests\n",
    "# Please refer to `https://api.fanyi.baidu.com/doc/21` for complete api document\n",
    "\n",
    "import requests\n",
    "import random\n",
    "import json\n",
    "from hashlib import md5\n",
    "\n",
    "# Set your own appid/appkey.\n",
    "appid = '20241101002191878'\n",
    "appkey = 'red5g2K4zBzJMX1tF_52'\n",
    "\n",
    "# For list of language codes, please refer to `https://api.fanyi.baidu.com/doc/21`\n",
    "from_lang = 'en'\n",
    "to_lang =  'zh'\n",
    "\n",
    "endpoint = 'http://api.fanyi.baidu.com'\n",
    "path = '/api/trans/vip/translate'\n",
    "url = endpoint + path\n",
    "\n",
    "query = 'Hello World! This is 1st paragraph.\\nThis is 2nd paragraph.'\n",
    "\n",
    "# Generate salt and sign\n",
    "def make_md5(s, encoding='utf-8'):\n",
    "    return md5(s.encode(encoding)).hexdigest()\n",
    "\n",
    "salt = random.randint(32768, 65536)\n",
    "sign = make_md5(appid + query + str(salt) + appkey)\n",
    "\n",
    "# Build request\n",
    "headers = {'Content-Type': 'application/x-www-form-urlencoded'}\n",
    "payload = {'appid': appid, 'q': query, 'from': from_lang, 'to': to_lang, 'salt': salt, 'sign': sign}\n",
    "\n",
    "# Send request\n",
    "r = requests.post(url, params=payload, headers=headers)\n",
    "result = r.json()\n",
    "\n",
    "# Show response\n",
    "print(json.dumps(result, indent=4, ensure_ascii=False))\n"
   ]
  },
  {
   "cell_type": "code",
   "execution_count": 2,
   "metadata": {},
   "outputs": [
    {
     "name": "stdout",
     "output_type": "stream",
     "text": [
      "你好，世界！这是第一段。\n"
     ]
    }
   ],
   "source": [
    "print(result[\"trans_result\"][0][\"dst\"])"
   ]
  },
  {
   "cell_type": "code",
   "execution_count": null,
   "metadata": {},
   "outputs": [],
   "source": [
    "import requests\n",
    "import random\n",
    "import json\n",
    "from hashlib import md5\n",
    "\n",
    "# Set your own appid/appkey.\n",
    "appid = '20241101002191878'\n",
    "appkey = 'red5g2K4zBzJMX1tF_52'\n",
    "\n",
    "# For list of language codes, please refer to `https://api.fanyi.baidu.com/doc/21`\n",
    "from_lang = 'en'\n",
    "to_lang =  'zh'\n",
    "\n",
    "endpoint = 'http://api.fanyi.baidu.com'\n",
    "path = '/api/trans/vip/translate'\n",
    "url = endpoint + path\n",
    "\n",
    "\n",
    "\n",
    "def en2cn(query):\n",
    "    # Generate salt and sign\n",
    "    def make_md5(s, encoding='utf-8'):\n",
    "        return md5(s.encode(encoding)).hexdigest()\n",
    "\n",
    "    salt = random.randint(32768, 65536)\n",
    "    sign = make_md5(appid + query + str(salt) + appkey)\n",
    "    \n",
    "    # Build request\n",
    "    headers = {'Content-Type': 'application/x-www-form-urlencoded'}\n",
    "    payload = {'appid': appid, 'q': query, 'from': from_lang, 'to': to_lang, 'salt': salt, 'sign': sign}\n",
    "\n",
    "    # Send request\n",
    "    r = requests.post(url, params=payload, headers=headers)\n",
    "    result = r.json()\n",
    "    print(result[\"trans_result\"][0][\"src\"])\n",
    "    print(result[\"trans_result\"][0][\"dst\"])\n",
    "    print(\"----------------------------------------------\")"
   ]
  },
  {
   "cell_type": "code",
   "execution_count": null,
   "metadata": {},
   "outputs": [
    {
     "name": "stdout",
     "output_type": "stream",
     "text": [
      "Key is part of the people that we use to solve those issues, whether it's stretch or outdoor resistance or abrasions or different technical aspects that we really need to solve to get into new markets, they've been able to bring solutions.\n",
      "They've been able to find solutions or at least bring some answers to the table.\n",
      "We're a huge user of adhesives for our operation, called flocking, and we don't have the technical inside compounding or the technical expertise to do these types of things.\n",
      "Key Polymer brings a technical aspect to our operation that we don't have internally.\n",
      "Key brings those types of aspects to a business on new markets, new potentials, and even on our equipment of how things run and operate with a pretty big, long experience with their team.\n",
      "We have many new opportunities through the way things have changed through the years, looking for new niche high-end, value-added products.\n",
      "Introduction Speaker: Dr. Erma Jean Sims, Sonoma State University My name is Dr. Erma Jean Sims I'm a member of the faculty of the School of Education at Sonoma State University.\n",
      "It's important for teachers to understand their legal, ethical, and professional obligations in an educational setting.\n",
      "Noncompliance can result in legal liability to you and to the school district in which you are employed.\n"
     ]
    },
    {
     "ename": "",
     "evalue": "",
     "output_type": "error",
     "traceback": [
      "\u001b[1;31mThe Kernel crashed while executing code in the current cell or a previous cell. \n",
      "\u001b[1;31mPlease review the code in the cell(s) to identify a possible cause of the failure. \n",
      "\u001b[1;31mClick <a href='https://aka.ms/vscodeJupyterKernelCrash'>here</a> for more info. \n",
      "\u001b[1;31mView Jupyter <a href='command:jupyter.viewOutput'>log</a> for further details."
     ]
    }
   ],
   "source": [
    "import pandas as pd\n",
    "\n",
    "# 读取 CSV 文件\n",
    "df = pd.read_csv('MOSEI_label_test.csv')\n",
    "\n",
    "# 打印列名为 \"myrow\" 的每一行\n",
    "for value in df['text']:\n",
    "    print(value)\n"
   ]
  },
  {
   "cell_type": "markdown",
   "metadata": {},
   "source": []
  }
 ],
 "metadata": {
  "kernelspec": {
   "display_name": "dfsmn",
   "language": "python",
   "name": "python3"
  },
  "language_info": {
   "codemirror_mode": {
    "name": "ipython",
    "version": 3
   },
   "file_extension": ".py",
   "mimetype": "text/x-python",
   "name": "python",
   "nbconvert_exporter": "python",
   "pygments_lexer": "ipython3",
   "version": "3.8.20"
  }
 },
 "nbformat": 4,
 "nbformat_minor": 2
}
