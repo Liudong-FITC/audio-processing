{
 "cells": [
  {
   "cell_type": "code",
   "execution_count": null,
   "metadata": {},
   "outputs": [],
   "source": [
    "import os\n",
    "import moviepy.editor as mp\n",
    "from pydub import AudioSegment\n",
    "import numpy as np\n",
    "import librosa\n",
    "import soundfile as sf\n",
    "from modelscope.pipelines import pipeline\n",
    "from modelscope.utils.constant import Tasks"
   ]
  },
  {
   "cell_type": "code",
   "execution_count": null,
   "metadata": {},
   "outputs": [],
   "source": [
    "# 提取音频\n",
    "def extract_audio_from_mp4(video_path):\n",
    "    video = mp.VideoFileClip(video_path)\n",
    "    audio = video.audio\n",
    "    audio_path = video_path.rsplit('.', 1)[0] + '.wav'\n",
    "    audio.write_audiofile(audio_path)\n",
    "    return audio_path"
   ]
  },
  {
   "cell_type": "code",
   "execution_count": null,
   "metadata": {},
   "outputs": [],
   "source": [
    "# 将wav文件调整为48000Hz采样率的单声道wav文件\n",
    "def convert_wav(input_file, output_file):\n",
    "    data, samplerate = sf.read(input_file)\n",
    "    # 如果是多声道，取第一个声道\n",
    "    if len(data.shape) > 1:\n",
    "        data = data[:, 0]\n",
    "    sf.write(output_file, data, 48000)"
   ]
  },
  {
   "cell_type": "code",
   "execution_count": null,
   "metadata": {},
   "outputs": [],
   "source": [
    "# DFSMN模型去噪\n",
    "def denoisings(audio_path, output_path):\n",
    "    ans = pipeline(\n",
    "        Tasks.acoustic_noise_suppression,\n",
    "        model='damo/speech_dfsmn_ans_psm_48k_causal')\n",
    "    result = ans(\n",
    "        audio_path,\n",
    "        output_path=output_path)"
   ]
  }
 ],
 "metadata": {
  "language_info": {
   "name": "python"
  }
 },
 "nbformat": 4,
 "nbformat_minor": 2
}
