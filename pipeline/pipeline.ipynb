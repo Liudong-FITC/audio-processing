{
 "cells": [
  {
   "cell_type": "code",
   "execution_count": 1,
   "metadata": {},
   "outputs": [],
   "source": [
    "import os\n",
    "import moviepy.editor as mp\n",
    "from pydub import AudioSegment\n",
    "import numpy as np\n",
    "import librosa\n",
    "import soundfile as sf\n",
    "from modelscope.pipelines import pipeline\n",
    "from modelscope.utils.constant import Tasks\n",
    "from speed_process import *\n",
    "from pre_wav2csv import wav2csv, wav2csv_file"
   ]
  },
  {
   "cell_type": "code",
   "execution_count": 2,
   "metadata": {},
   "outputs": [],
   "source": [
    "# 提取音频\n",
    "def extract_audio_from_mp4(video_path, audio_path):\n",
    "    video = mp.VideoFileClip(video_path)\n",
    "    audio = video.audio\n",
    "    # audio_path = video_path.rsplit('.', 1)[0] + '.wav'\n",
    "    audio.write_audiofile(audio_path)"
   ]
  },
  {
   "cell_type": "code",
   "execution_count": 3,
   "metadata": {},
   "outputs": [],
   "source": [
    "# 将wav文件调整为48000Hz采样率的单声道wav文件\n",
    "def convert_wav(input_file, output_file):\n",
    "    data, samplerate = sf.read(input_file)\n",
    "    # 如果是多声道，取第一个声道\n",
    "    if len(data.shape) > 1:\n",
    "        data = data[:, 0]\n",
    "    sf.write(output_file, data, 48000)"
   ]
  },
  {
   "cell_type": "code",
   "execution_count": 4,
   "metadata": {},
   "outputs": [],
   "source": [
    "# DFSMN模型去噪\n",
    "def denoisings(audio_path, output_path):\n",
    "    ans = pipeline(\n",
    "        Tasks.acoustic_noise_suppression,\n",
    "        model='damo/speech_dfsmn_ans_psm_48k_causal')\n",
    "    result = ans(\n",
    "        audio_path,\n",
    "        output_path=output_path)"
   ]
  },
  {
   "cell_type": "code",
   "execution_count": null,
   "metadata": {},
   "outputs": [
    {
     "name": "stdout",
     "output_type": "stream",
     "text": [
      "MoviePy - Writing audio in C:/Users/Liudong/Desktop/MER/pipeline/VID_20241104_150939.wav\n"
     ]
    },
    {
     "name": "stderr",
     "output_type": "stream",
     "text": [
      "                                                       "
     ]
    },
    {
     "name": "stdout",
     "output_type": "stream",
     "text": [
      "MoviePy - Done.\n"
     ]
    },
    {
     "name": "stderr",
     "output_type": "stream",
     "text": [
      "2024-11-06 15:51:11,642 - modelscope - WARNING - Model revision not specified, use revision: v1.0.2\n",
      "2024-11-06 15:51:11,955 - modelscope - INFO - initiate model from C:\\Users\\Liudong\\.cache\\modelscope\\hub\\damo\\speech_dfsmn_ans_psm_48k_causal\n",
      "2024-11-06 15:51:11,955 - modelscope - INFO - initiate model from location C:\\Users\\Liudong\\.cache\\modelscope\\hub\\damo\\speech_dfsmn_ans_psm_48k_causal.\n",
      "2024-11-06 15:51:11,964 - modelscope - INFO - initialize model from C:\\Users\\Liudong\\.cache\\modelscope\\hub\\damo\\speech_dfsmn_ans_psm_48k_causal\n",
      "2024-11-06 15:51:11,987 - modelscope - WARNING - No preprocessor field found in cfg.\n",
      "2024-11-06 15:51:11,987 - modelscope - WARNING - No val key and type key found in preprocessor domain of configuration.json file.\n",
      "2024-11-06 15:51:11,987 - modelscope - WARNING - Cannot find available config to build preprocessor at mode inference, current config: {'model_dir': 'C:\\\\Users\\\\Liudong\\\\.cache\\\\modelscope\\\\hub\\\\damo\\\\speech_dfsmn_ans_psm_48k_causal'}. trying to build by task and model information.\n",
      "2024-11-06 15:51:11,996 - modelscope - WARNING - No preprocessor key ('speech_dfsmn_ans', 'acoustic-noise-suppression') found in PREPROCESSOR_MAP, skip building preprocessor.\n"
     ]
    },
    {
     "name": "stdout",
     "output_type": "stream",
     "text": [
      "正在进行语音识别...\n",
      "Converted temp_segment.wav to temp_segment_temp.wav\n",
      "No text content recognized!\n",
      "识别结果: None\n",
      "Converted temp_segment.wav to temp_segment_temp.wav\n",
      "识别结果: 那年冬季长跑，我跑第一。\n",
      "完整识别结果: 那年冬季长跑，我跑第一。\n",
      "语音段数: 2\n",
      "语音段语速: 187.50 帧/秒\n",
      "18.75\n",
      "语音段语速: 7.92 帧/秒\n",
      "0.7922535211267606\n",
      "处理后的音频已保存至: C:/Users/Liudong/Desktop/MER/pipeline/VID_20241104_150939_adjusted.wav\n",
      "356.66512021890065\n",
      "0.2410119902679974\n",
      "Converted VID_20241104_150939_new3.wav to VID_20241104_150939_new3_temp.wav\n",
      "Recognized Text: 那年走起床跑步跑毕业。\n",
      "Data has been appended to CSV file './label_test.csv'.\n",
      "那年走起床跑步跑毕业。\n"
     ]
    }
   ],
   "source": [
    "video_path = 'E:/BaiduNetdiskDownload/video_0016/0001.mp4'\n",
    "audio_path = 'C:/Users/Liudong/Desktop/MER/pipeline/VID_20241104_150939.wav'\n",
    "output_file = 'C:/Users/Liudong/Desktop/MER/pipeline/VID_20241104_150939_new.wav'\n",
    "output_path = 'C:/Users/Liudong/Desktop/MER/pipeline/VID_20241104_150939_new2.wav'\n",
    "output_adjusted = 'C:/Users/Liudong/Desktop/MER/pipeline/VID_20241104_150939_adjusted.wav'\n",
    "output_path2 = 'C:/Users/Liudong/Desktop/MER/pipeline/VID_20241104_150939_new3.wav'\n",
    "extract_audio_from_mp4(video_path, audio_path)\n",
    "convert_wav(audio_path, output_file)\n",
    "denoisings(output_file, output_path)\n",
    "speed_by_segment(output_path, output_adjusted)\n",
    "pitch_by_segment(output_adjusted, output_path2)\n",
    "result_text = wav2csv(output_path2, showDetail=False, select_model=1, saveCsv=True, csv_path=\"./label_test.csv\")\n",
    "print(result_text)\n"
   ]
  },
  {
   "cell_type": "code",
   "execution_count": 8,
   "metadata": {},
   "outputs": [
    {
     "name": "stdout",
     "output_type": "stream",
     "text": [
      "MoviePy - Writing audio in C:/Users/Liudong/Desktop/MER/pipeline/VID_20241104_150939.wav\n"
     ]
    },
    {
     "name": "stderr",
     "output_type": "stream",
     "text": [
      "                                                       "
     ]
    },
    {
     "name": "stdout",
     "output_type": "stream",
     "text": [
      "MoviePy - Done.\n"
     ]
    },
    {
     "name": "stderr",
     "output_type": "stream",
     "text": [
      "2024-11-06 15:34:27,913 - modelscope - WARNING - Model revision not specified, use revision: v1.0.2\n",
      "2024-11-06 15:34:28,215 - modelscope - INFO - initiate model from C:\\Users\\Liudong\\.cache\\modelscope\\hub\\damo\\speech_dfsmn_ans_psm_48k_causal\n",
      "2024-11-06 15:34:28,216 - modelscope - INFO - initiate model from location C:\\Users\\Liudong\\.cache\\modelscope\\hub\\damo\\speech_dfsmn_ans_psm_48k_causal.\n",
      "2024-11-06 15:34:28,220 - modelscope - INFO - initialize model from C:\\Users\\Liudong\\.cache\\modelscope\\hub\\damo\\speech_dfsmn_ans_psm_48k_causal\n",
      "2024-11-06 15:34:28,266 - modelscope - WARNING - No preprocessor field found in cfg.\n",
      "2024-11-06 15:34:28,267 - modelscope - WARNING - No val key and type key found in preprocessor domain of configuration.json file.\n",
      "2024-11-06 15:34:28,267 - modelscope - WARNING - Cannot find available config to build preprocessor at mode inference, current config: {'model_dir': 'C:\\\\Users\\\\Liudong\\\\.cache\\\\modelscope\\\\hub\\\\damo\\\\speech_dfsmn_ans_psm_48k_causal'}. trying to build by task and model information.\n",
      "2024-11-06 15:34:28,268 - modelscope - WARNING - No preprocessor key ('speech_dfsmn_ans', 'acoustic-noise-suppression') found in PREPROCESSOR_MAP, skip building preprocessor.\n"
     ]
    },
    {
     "name": "stdout",
     "output_type": "stream",
     "text": [
      "正在进行语音识别...\n",
      "Converted temp_segment.wav to temp_segment_temp.wav\n",
      "No text content recognized!\n",
      "识别结果: None\n",
      "Converted temp_segment.wav to temp_segment_temp.wav\n",
      "识别结果: 那年冬季，城堡我扫地。\n",
      "完整识别结果: 那年冬季，城堡我扫地。\n",
      "语音段数: 2\n",
      "语音段语速: 171.88 帧/秒\n",
      "17.1875\n",
      "语音段语速: 7.21 帧/秒\n",
      "0.721153846153846\n",
      "处理后的音频已保存至: C:/Users/Liudong/Desktop/MER/pipeline/VID_20241104_150939_adjusted.wav\n",
      "358.26040378435096\n",
      "0.2399462003417619\n",
      "Converted VID_20241104_150939_new3.wav to VID_20241104_150939_new3_temp.wav\n",
      "Recognized Text: 那年踪迹场跑步否毕业。\n",
      "Data has been appended to CSV file './label_test3.csv'.\n",
      "那年踪迹场跑步否毕业。\n",
      "MoviePy - Writing audio in C:/Users/Liudong/Desktop/MER/pipeline/VID_20241104_150939.wav\n"
     ]
    },
    {
     "name": "stderr",
     "output_type": "stream",
     "text": [
      "                                                       "
     ]
    },
    {
     "name": "stdout",
     "output_type": "stream",
     "text": [
      "MoviePy - Done.\n"
     ]
    },
    {
     "name": "stderr",
     "output_type": "stream",
     "text": [
      "2024-11-06 15:34:31,131 - modelscope - WARNING - Model revision not specified, use revision: v1.0.2\n",
      "2024-11-06 15:34:31,454 - modelscope - INFO - initiate model from C:\\Users\\Liudong\\.cache\\modelscope\\hub\\damo\\speech_dfsmn_ans_psm_48k_causal\n",
      "2024-11-06 15:34:31,454 - modelscope - INFO - initiate model from location C:\\Users\\Liudong\\.cache\\modelscope\\hub\\damo\\speech_dfsmn_ans_psm_48k_causal.\n",
      "2024-11-06 15:34:31,464 - modelscope - INFO - initialize model from C:\\Users\\Liudong\\.cache\\modelscope\\hub\\damo\\speech_dfsmn_ans_psm_48k_causal\n",
      "2024-11-06 15:34:31,494 - modelscope - WARNING - No preprocessor field found in cfg.\n",
      "2024-11-06 15:34:31,494 - modelscope - WARNING - No val key and type key found in preprocessor domain of configuration.json file.\n",
      "2024-11-06 15:34:31,494 - modelscope - WARNING - Cannot find available config to build preprocessor at mode inference, current config: {'model_dir': 'C:\\\\Users\\\\Liudong\\\\.cache\\\\modelscope\\\\hub\\\\damo\\\\speech_dfsmn_ans_psm_48k_causal'}. trying to build by task and model information.\n",
      "2024-11-06 15:34:31,494 - modelscope - WARNING - No preprocessor key ('speech_dfsmn_ans', 'acoustic-noise-suppression') found in PREPROCESSOR_MAP, skip building preprocessor.\n"
     ]
    },
    {
     "name": "stdout",
     "output_type": "stream",
     "text": [
      "正在进行语音识别...\n",
      "Converted temp_segment.wav to temp_segment_temp.wav\n",
      "No text content recognized!\n",
      "识别结果: None\n",
      "Converted temp_segment.wav to temp_segment_temp.wav\n",
      "识别结果: 年年过年。\n",
      "Converted temp_segment.wav to temp_segment_temp.wav\n",
      "识别结果: 我爸去给您送了一个死一生。\n",
      "完整识别结果: 年年过年。 我爸去给您送了一个死一生。\n",
      "语音段数: 3\n",
      "语音段语速: 445.31 帧/秒\n",
      "44.53125\n",
      "语音段语速: 15.76 帧/秒\n",
      "1.5763274336283186\n",
      "语音段语速: 9.18 帧/秒\n",
      "0.9178651583619327\n",
      "处理后的音频已保存至: C:/Users/Liudong/Desktop/MER/pipeline/VID_20241104_150939_adjusted.wav\n",
      "172.10918442178485\n",
      "0.4957792936734151\n",
      "Converted VID_20241104_150939_new3.wav to VID_20241104_150939_new3_temp.wav\n",
      "Recognized Text: 给你填补填，我爸去给给送来个死一生。\n",
      "Data has been appended to CSV file './label_test3.csv'.\n",
      "给你填补填，我爸去给给送来个死一生。\n",
      "MoviePy - Writing audio in C:/Users/Liudong/Desktop/MER/pipeline/VID_20241104_150939.wav\n"
     ]
    },
    {
     "name": "stderr",
     "output_type": "stream",
     "text": [
      "                                                                 "
     ]
    },
    {
     "name": "stdout",
     "output_type": "stream",
     "text": [
      "MoviePy - Done.\n"
     ]
    },
    {
     "name": "stderr",
     "output_type": "stream",
     "text": [
      "2024-11-06 15:34:34,934 - modelscope - WARNING - Model revision not specified, use revision: v1.0.2\n",
      "2024-11-06 15:34:35,263 - modelscope - INFO - initiate model from C:\\Users\\Liudong\\.cache\\modelscope\\hub\\damo\\speech_dfsmn_ans_psm_48k_causal\n",
      "2024-11-06 15:34:35,265 - modelscope - INFO - initiate model from location C:\\Users\\Liudong\\.cache\\modelscope\\hub\\damo\\speech_dfsmn_ans_psm_48k_causal.\n",
      "2024-11-06 15:34:35,268 - modelscope - INFO - initialize model from C:\\Users\\Liudong\\.cache\\modelscope\\hub\\damo\\speech_dfsmn_ans_psm_48k_causal\n",
      "2024-11-06 15:34:35,293 - modelscope - WARNING - No preprocessor field found in cfg.\n",
      "2024-11-06 15:34:35,293 - modelscope - WARNING - No val key and type key found in preprocessor domain of configuration.json file.\n",
      "2024-11-06 15:34:35,293 - modelscope - WARNING - Cannot find available config to build preprocessor at mode inference, current config: {'model_dir': 'C:\\\\Users\\\\Liudong\\\\.cache\\\\modelscope\\\\hub\\\\damo\\\\speech_dfsmn_ans_psm_48k_causal'}. trying to build by task and model information.\n",
      "2024-11-06 15:34:35,293 - modelscope - WARNING - No preprocessor key ('speech_dfsmn_ans', 'acoustic-noise-suppression') found in PREPROCESSOR_MAP, skip building preprocessor.\n"
     ]
    },
    {
     "name": "stdout",
     "output_type": "stream",
     "text": [
      "正在进行语音识别...\n",
      "Converted temp_segment.wav to temp_segment_temp.wav\n",
      "识别结果: 我是梦特。\n",
      "Converted temp_segment.wav to temp_segment_temp.wav\n",
      "No text content recognized!\n",
      "识别结果: None\n",
      "Converted temp_segment.wav to temp_segment_temp.wav\n",
      "识别结果: 不不不，我现在叫孟特娇。\n",
      "完整识别结果: 我是梦特。 不不不，我现在叫孟特娇。\n",
      "语音段数: 3\n",
      "语音段语速: 18.34 帧/秒\n",
      "1.8342391304347827\n",
      "语音段语速: 210.94 帧/秒\n",
      "21.09375\n",
      "语音段语速: 8.10 帧/秒\n",
      "0.8098000806051007\n",
      "处理后的音频已保存至: C:/Users/Liudong/Desktop/MER/pipeline/VID_20241104_150939_adjusted.wav\n",
      "327.98237588929055\n",
      "0.2619303175622564\n",
      "Converted VID_20241104_150939_new3.wav to VID_20241104_150939_new3_temp.wav\n",
      "Recognized Text: 我说柯梦梦，我现在叫孟特娇。\n",
      "Data has been appended to CSV file './label_test3.csv'.\n",
      "我说柯梦梦，我现在叫孟特娇。\n",
      "MoviePy - Writing audio in C:/Users/Liudong/Desktop/MER/pipeline/VID_20241104_150939.wav\n"
     ]
    },
    {
     "name": "stderr",
     "output_type": "stream",
     "text": [
      "                                                       "
     ]
    },
    {
     "name": "stdout",
     "output_type": "stream",
     "text": [
      "MoviePy - Done.\n"
     ]
    },
    {
     "name": "stderr",
     "output_type": "stream",
     "text": [
      "2024-11-06 15:34:38,437 - modelscope - WARNING - Model revision not specified, use revision: v1.0.2\n",
      "2024-11-06 15:34:38,846 - modelscope - INFO - initiate model from C:\\Users\\Liudong\\.cache\\modelscope\\hub\\damo\\speech_dfsmn_ans_psm_48k_causal\n",
      "2024-11-06 15:34:38,846 - modelscope - INFO - initiate model from location C:\\Users\\Liudong\\.cache\\modelscope\\hub\\damo\\speech_dfsmn_ans_psm_48k_causal.\n",
      "2024-11-06 15:34:38,846 - modelscope - INFO - initialize model from C:\\Users\\Liudong\\.cache\\modelscope\\hub\\damo\\speech_dfsmn_ans_psm_48k_causal\n",
      "2024-11-06 15:34:38,877 - modelscope - WARNING - No preprocessor field found in cfg.\n",
      "2024-11-06 15:34:38,877 - modelscope - WARNING - No val key and type key found in preprocessor domain of configuration.json file.\n",
      "2024-11-06 15:34:38,877 - modelscope - WARNING - Cannot find available config to build preprocessor at mode inference, current config: {'model_dir': 'C:\\\\Users\\\\Liudong\\\\.cache\\\\modelscope\\\\hub\\\\damo\\\\speech_dfsmn_ans_psm_48k_causal'}. trying to build by task and model information.\n",
      "2024-11-06 15:34:38,877 - modelscope - WARNING - No preprocessor key ('speech_dfsmn_ans', 'acoustic-noise-suppression') found in PREPROCESSOR_MAP, skip building preprocessor.\n"
     ]
    },
    {
     "name": "stdout",
     "output_type": "stream",
     "text": [
      "正在进行语音识别...\n",
      "Converted temp_segment.wav to temp_segment_temp.wav\n",
      "识别结果: 不是同学啊，他们一个代表讲讲就好了哈。\n",
      "完整识别结果: 不是同学啊，他们一个代表讲讲就好了哈。\n",
      "语音段数: 1\n",
      "语音段语速: 4.79 帧/秒\n",
      "0.47888847464569084\n",
      "处理后的音频已保存至: C:/Users/Liudong/Desktop/MER/pipeline/VID_20241104_150939_adjusted.wav\n",
      "272.995265435367\n",
      "0.3142125817943162\n",
      "Converted VID_20241104_150939_new3.wav to VID_20241104_150939_new3_temp.wav\n",
      "Recognized Text: 都是同学啊，咱们派个代表加上去啊哈哈大了啊！\n",
      "Data has been appended to CSV file './label_test3.csv'.\n",
      "都是同学啊，咱们派个代表加上去啊哈哈大了啊！\n",
      "MoviePy - Writing audio in C:/Users/Liudong/Desktop/MER/pipeline/VID_20241104_150939.wav\n"
     ]
    },
    {
     "name": "stderr",
     "output_type": "stream",
     "text": [
      "                                                                 "
     ]
    },
    {
     "name": "stdout",
     "output_type": "stream",
     "text": [
      "MoviePy - Done.\n"
     ]
    },
    {
     "name": "stderr",
     "output_type": "stream",
     "text": [
      "2024-11-06 15:34:42,221 - modelscope - WARNING - Model revision not specified, use revision: v1.0.2\n",
      "2024-11-06 15:34:42,496 - modelscope - INFO - initiate model from C:\\Users\\Liudong\\.cache\\modelscope\\hub\\damo\\speech_dfsmn_ans_psm_48k_causal\n",
      "2024-11-06 15:34:42,496 - modelscope - INFO - initiate model from location C:\\Users\\Liudong\\.cache\\modelscope\\hub\\damo\\speech_dfsmn_ans_psm_48k_causal.\n",
      "2024-11-06 15:34:42,496 - modelscope - INFO - initialize model from C:\\Users\\Liudong\\.cache\\modelscope\\hub\\damo\\speech_dfsmn_ans_psm_48k_causal\n",
      "2024-11-06 15:34:42,530 - modelscope - WARNING - No preprocessor field found in cfg.\n",
      "2024-11-06 15:34:42,531 - modelscope - WARNING - No val key and type key found in preprocessor domain of configuration.json file.\n",
      "2024-11-06 15:34:42,532 - modelscope - WARNING - Cannot find available config to build preprocessor at mode inference, current config: {'model_dir': 'C:\\\\Users\\\\Liudong\\\\.cache\\\\modelscope\\\\hub\\\\damo\\\\speech_dfsmn_ans_psm_48k_causal'}. trying to build by task and model information.\n",
      "2024-11-06 15:34:42,532 - modelscope - WARNING - No preprocessor key ('speech_dfsmn_ans', 'acoustic-noise-suppression') found in PREPROCESSOR_MAP, skip building preprocessor.\n"
     ]
    },
    {
     "name": "stdout",
     "output_type": "stream",
     "text": [
      "正在进行语音识别...\n",
      "Converted temp_segment.wav to temp_segment_temp.wav\n",
      "No text content recognized!\n",
      "识别结果: None\n",
      "Converted temp_segment.wav to temp_segment_temp.wav\n",
      "识别结果: \n",
      "Converted temp_segment.wav to temp_segment_temp.wav\n",
      "识别结果: 你不是跟我说。\n",
      "Converted temp_segment.wav to temp_segment_temp.wav\n",
      "识别结果: 你给你妈扫墓去了吗？\n",
      "完整识别结果: 你不是跟我说。 你给你妈扫墓去了吗？\n",
      "语音段数: 4\n",
      "语音段语速: 337.50 帧/秒\n",
      "33.75\n",
      "语音段语速: 140.62 帧/秒\n",
      "14.0625\n",
      "语音段语速: 20.83 帧/秒\n",
      "2.083333333333333\n",
      "语音段语速: 15.09 帧/秒\n",
      "1.5089858008627766\n",
      "处理后的音频已保存至: C:/Users/Liudong/Desktop/MER/pipeline/VID_20241104_150939_adjusted.wav\n",
      "277.4581447029181\n",
      "0.30920337594907343\n",
      "Converted VID_20241104_150939_new3.wav to VID_20241104_150939_new3_temp.wav\n",
      "Recognized Text: 医生说，一拿伞不行。\n",
      "Data has been appended to CSV file './label_test3.csv'.\n",
      "医生说，一拿伞不行。\n",
      "MoviePy - Writing audio in C:/Users/Liudong/Desktop/MER/pipeline/VID_20241104_150939.wav\n"
     ]
    },
    {
     "name": "stderr",
     "output_type": "stream",
     "text": [
      "                                                                    "
     ]
    },
    {
     "name": "stdout",
     "output_type": "stream",
     "text": [
      "MoviePy - Done.\n"
     ]
    },
    {
     "name": "stderr",
     "output_type": "stream",
     "text": [
      "2024-11-06 15:34:45,903 - modelscope - WARNING - Model revision not specified, use revision: v1.0.2\n",
      "2024-11-06 15:34:46,301 - modelscope - INFO - initiate model from C:\\Users\\Liudong\\.cache\\modelscope\\hub\\damo\\speech_dfsmn_ans_psm_48k_causal\n",
      "2024-11-06 15:34:46,302 - modelscope - INFO - initiate model from location C:\\Users\\Liudong\\.cache\\modelscope\\hub\\damo\\speech_dfsmn_ans_psm_48k_causal.\n",
      "2024-11-06 15:34:46,302 - modelscope - INFO - initialize model from C:\\Users\\Liudong\\.cache\\modelscope\\hub\\damo\\speech_dfsmn_ans_psm_48k_causal\n",
      "2024-11-06 15:34:46,337 - modelscope - WARNING - No preprocessor field found in cfg.\n",
      "2024-11-06 15:34:46,338 - modelscope - WARNING - No val key and type key found in preprocessor domain of configuration.json file.\n",
      "2024-11-06 15:34:46,339 - modelscope - WARNING - Cannot find available config to build preprocessor at mode inference, current config: {'model_dir': 'C:\\\\Users\\\\Liudong\\\\.cache\\\\modelscope\\\\hub\\\\damo\\\\speech_dfsmn_ans_psm_48k_causal'}. trying to build by task and model information.\n",
      "2024-11-06 15:34:46,339 - modelscope - WARNING - No preprocessor key ('speech_dfsmn_ans', 'acoustic-noise-suppression') found in PREPROCESSOR_MAP, skip building preprocessor.\n"
     ]
    },
    {
     "name": "stdout",
     "output_type": "stream",
     "text": [
      "正在进行语音识别...\n",
      "Converted temp_segment.wav to temp_segment_temp.wav\n",
      "识别结果: 你看，我都不知道你结婚我就穿成这样就来了，实在是不好意思。\n",
      "Converted temp_segment.wav to temp_segment_temp.wav\n",
      "识别结果: 东西。\n",
      "Converted temp_segment.wav to temp_segment_temp.wav\n",
      "识别结果: 啊？\n",
      "Converted temp_segment.wav to temp_segment_temp.wav\n",
      "识别结果: 东西要不？\n",
      "完整识别结果: 你看，我都不知道你结婚我就穿成这样就来了，实在是不好意思。 东西。 啊？ 东西要不？\n",
      "语音段数: 4\n",
      "语音段语速: 10.56 帧/秒\n",
      "1.0556300268096515\n",
      "语音段语速: 48.02 帧/秒\n",
      "4.801829268292683\n",
      "语音段语速: 164.06 帧/秒\n",
      "16.40625\n",
      "语音段语速: 76.01 帧/秒\n",
      "7.6006635499924595\n",
      "处理后的音频已保存至: C:/Users/Liudong/Desktop/MER/pipeline/VID_20241104_150939_adjusted.wav\n",
      "278.0063131302489\n",
      "0.30859909538441366\n",
      "Converted VID_20241104_150939_new3.wav to VID_20241104_150939_new3_temp.wav\n",
      "Recognized Text: 你看，我都不知道你结婚我不说出这样就来了，实在是不好意思。\n",
      "Data has been appended to CSV file './label_test3.csv'.\n",
      "你看，我都不知道你结婚我不说出这样就来了，实在是不好意思。\n",
      "MoviePy - Writing audio in C:/Users/Liudong/Desktop/MER/pipeline/VID_20241104_150939.wav\n"
     ]
    },
    {
     "name": "stderr",
     "output_type": "stream",
     "text": [
      "                                                        "
     ]
    },
    {
     "name": "stdout",
     "output_type": "stream",
     "text": [
      "MoviePy - Done.\n"
     ]
    },
    {
     "name": "stderr",
     "output_type": "stream",
     "text": [
      "2024-11-06 15:34:50,200 - modelscope - WARNING - Model revision not specified, use revision: v1.0.2\n",
      "2024-11-06 15:34:50,482 - modelscope - INFO - initiate model from C:\\Users\\Liudong\\.cache\\modelscope\\hub\\damo\\speech_dfsmn_ans_psm_48k_causal\n",
      "2024-11-06 15:34:50,483 - modelscope - INFO - initiate model from location C:\\Users\\Liudong\\.cache\\modelscope\\hub\\damo\\speech_dfsmn_ans_psm_48k_causal.\n",
      "2024-11-06 15:34:50,488 - modelscope - INFO - initialize model from C:\\Users\\Liudong\\.cache\\modelscope\\hub\\damo\\speech_dfsmn_ans_psm_48k_causal\n",
      "2024-11-06 15:34:50,508 - modelscope - WARNING - No preprocessor field found in cfg.\n",
      "2024-11-06 15:34:50,508 - modelscope - WARNING - No val key and type key found in preprocessor domain of configuration.json file.\n",
      "2024-11-06 15:34:50,508 - modelscope - WARNING - Cannot find available config to build preprocessor at mode inference, current config: {'model_dir': 'C:\\\\Users\\\\Liudong\\\\.cache\\\\modelscope\\\\hub\\\\damo\\\\speech_dfsmn_ans_psm_48k_causal'}. trying to build by task and model information.\n",
      "2024-11-06 15:34:50,508 - modelscope - WARNING - No preprocessor key ('speech_dfsmn_ans', 'acoustic-noise-suppression') found in PREPROCESSOR_MAP, skip building preprocessor.\n"
     ]
    },
    {
     "name": "stdout",
     "output_type": "stream",
     "text": [
      "正在进行语音识别...\n",
      "Converted temp_segment.wav to temp_segment_temp.wav\n",
      "识别结果: 妹子。\n",
      "Converted temp_segment.wav to temp_segment_temp.wav\n",
      "No text content recognized!\n",
      "识别结果: None\n",
      "Converted temp_segment.wav to temp_segment_temp.wav\n",
      "识别结果: 你好累。\n",
      "Converted temp_segment.wav to temp_segment_temp.wav\n",
      "识别结果: \n",
      "Converted temp_segment.wav to temp_segment_temp.wav\n",
      "识别结果: 要喝一下，回家了。\n",
      "Converted temp_segment.wav to temp_segment_temp.wav\n",
      "识别结果: 寒假也有酒吧。\n",
      "Converted temp_segment.wav to temp_segment_temp.wav\n",
      "识别结果: 啊？\n",
      "完整识别结果: 妹子。 你好累。 要喝一下，回家了。 寒假也有酒吧。 啊？\n",
      "语音段数: 7\n",
      "语音段语速: 50.35 帧/秒\n",
      "5.034722222222223\n",
      "语音段语速: 453.12 帧/秒\n",
      "45.3125\n",
      "语音段语速: 47.70 帧/秒\n",
      "4.769736842105263\n",
      "语音段语速: 75.52 帧/秒\n",
      "7.552083333333333\n",
      "语音段语速: 25.17 帧/秒\n",
      "2.5173611111111116\n",
      "语音段语速: 27.74 帧/秒\n",
      "2.7742346938775513\n",
      "语音段语速: 82.87 帧/秒\n",
      "8.286700797714014\n",
      "处理后的音频已保存至: C:/Users/Liudong/Desktop/MER/pipeline/VID_20241104_150939_adjusted.wav\n",
      "220.68492317721018\n",
      "0.3878636687430828\n",
      "Converted VID_20241104_150939_new3.wav to VID_20241104_150939_new3_temp.wav\n",
      "Recognized Text: 想想一个男的吧！\n",
      "Data has been appended to CSV file './label_test3.csv'.\n",
      "想想一个男的吧！\n",
      "MoviePy - Writing audio in C:/Users/Liudong/Desktop/MER/pipeline/VID_20241104_150939.wav\n"
     ]
    },
    {
     "name": "stderr",
     "output_type": "stream",
     "text": [
      "                                                       "
     ]
    },
    {
     "name": "stdout",
     "output_type": "stream",
     "text": [
      "MoviePy - Done.\n"
     ]
    },
    {
     "name": "stderr",
     "output_type": "stream",
     "text": [
      "2024-11-06 15:34:54,849 - modelscope - WARNING - Model revision not specified, use revision: v1.0.2\n",
      "2024-11-06 15:34:55,133 - modelscope - INFO - initiate model from C:\\Users\\Liudong\\.cache\\modelscope\\hub\\damo\\speech_dfsmn_ans_psm_48k_causal\n",
      "2024-11-06 15:34:55,134 - modelscope - INFO - initiate model from location C:\\Users\\Liudong\\.cache\\modelscope\\hub\\damo\\speech_dfsmn_ans_psm_48k_causal.\n",
      "2024-11-06 15:34:55,137 - modelscope - INFO - initialize model from C:\\Users\\Liudong\\.cache\\modelscope\\hub\\damo\\speech_dfsmn_ans_psm_48k_causal\n",
      "2024-11-06 15:34:55,171 - modelscope - WARNING - No preprocessor field found in cfg.\n",
      "2024-11-06 15:34:55,173 - modelscope - WARNING - No val key and type key found in preprocessor domain of configuration.json file.\n",
      "2024-11-06 15:34:55,173 - modelscope - WARNING - Cannot find available config to build preprocessor at mode inference, current config: {'model_dir': 'C:\\\\Users\\\\Liudong\\\\.cache\\\\modelscope\\\\hub\\\\damo\\\\speech_dfsmn_ans_psm_48k_causal'}. trying to build by task and model information.\n",
      "2024-11-06 15:34:55,174 - modelscope - WARNING - No preprocessor key ('speech_dfsmn_ans', 'acoustic-noise-suppression') found in PREPROCESSOR_MAP, skip building preprocessor.\n"
     ]
    },
    {
     "name": "stdout",
     "output_type": "stream",
     "text": [
      "正在进行语音识别...\n",
      "Converted temp_segment.wav to temp_segment_temp.wav\n",
      "识别结果: 死了。\n",
      "Converted temp_segment.wav to temp_segment_temp.wav\n",
      "识别结果: 对。\n",
      "Converted temp_segment.wav to temp_segment_temp.wav\n",
      "识别结果: 喝点酒，有吃有上。\n",
      "Converted temp_segment.wav to temp_segment_temp.wav\n",
      "识别结果: 把你给弄。\n",
      "完整识别结果: 死了。 对。 喝点酒，有吃有上。 把你给弄。\n",
      "语音段数: 4\n",
      "语音段语速: 52.88 帧/秒\n",
      "5.288461538461538\n",
      "语音段语速: 137.50 帧/秒\n",
      "13.75\n",
      "语音段语速: 14.73 帧/秒\n",
      "1.4732142857142856\n",
      "语音段语速: 54.46 帧/秒\n",
      "5.4458253829095975\n",
      "处理后的音频已保存至: C:/Users/Liudong/Desktop/MER/pipeline/VID_20241104_150939_adjusted.wav\n",
      "144.774479231744\n",
      "0.5878141190300001\n",
      "Converted VID_20241104_150939_new3.wav to VID_20241104_150939_new3_temp.wav\n",
      "Recognized Text: 喝点酒，有石头的。\n",
      "Data has been appended to CSV file './label_test3.csv'.\n",
      "喝点酒，有石头的。\n",
      "MoviePy - Writing audio in C:/Users/Liudong/Desktop/MER/pipeline/VID_20241104_150939.wav\n"
     ]
    },
    {
     "name": "stderr",
     "output_type": "stream",
     "text": [
      "                                                                 "
     ]
    },
    {
     "name": "stdout",
     "output_type": "stream",
     "text": [
      "MoviePy - Done.\n"
     ]
    },
    {
     "name": "stderr",
     "output_type": "stream",
     "text": [
      "2024-11-06 15:34:57,939 - modelscope - WARNING - Model revision not specified, use revision: v1.0.2\n",
      "2024-11-06 15:34:58,390 - modelscope - INFO - initiate model from C:\\Users\\Liudong\\.cache\\modelscope\\hub\\damo\\speech_dfsmn_ans_psm_48k_causal\n",
      "2024-11-06 15:34:58,390 - modelscope - INFO - initiate model from location C:\\Users\\Liudong\\.cache\\modelscope\\hub\\damo\\speech_dfsmn_ans_psm_48k_causal.\n",
      "2024-11-06 15:34:58,390 - modelscope - INFO - initialize model from C:\\Users\\Liudong\\.cache\\modelscope\\hub\\damo\\speech_dfsmn_ans_psm_48k_causal\n",
      "2024-11-06 15:34:58,426 - modelscope - WARNING - No preprocessor field found in cfg.\n",
      "2024-11-06 15:34:58,427 - modelscope - WARNING - No val key and type key found in preprocessor domain of configuration.json file.\n",
      "2024-11-06 15:34:58,427 - modelscope - WARNING - Cannot find available config to build preprocessor at mode inference, current config: {'model_dir': 'C:\\\\Users\\\\Liudong\\\\.cache\\\\modelscope\\\\hub\\\\damo\\\\speech_dfsmn_ans_psm_48k_causal'}. trying to build by task and model information.\n",
      "2024-11-06 15:34:58,428 - modelscope - WARNING - No preprocessor key ('speech_dfsmn_ans', 'acoustic-noise-suppression') found in PREPROCESSOR_MAP, skip building preprocessor.\n"
     ]
    },
    {
     "name": "stdout",
     "output_type": "stream",
     "text": [
      "正在进行语音识别...\n",
      "Converted temp_segment.wav to temp_segment_temp.wav\n",
      "识别结果: 你感觉又唱又跳，穿的跟个鸡毛掸子是。\n",
      "Converted temp_segment.wav to temp_segment_temp.wav\n",
      "识别结果: 那你吃的什么呀？\n",
      "完整识别结果: 你感觉又唱又跳，穿的跟个鸡毛掸子是。 那你吃的什么呀？\n",
      "语音段数: 2\n",
      "语音段语速: 12.78 帧/秒\n",
      "1.2784090909090908\n",
      "语音段语速: 26.38 帧/秒\n",
      "2.6381679389312978\n",
      "处理后的音频已保存至: C:/Users/Liudong/Desktop/MER/pipeline/VID_20241104_150939_adjusted.wav\n",
      "314.42676703256\n",
      "0.2731340705412118\n",
      "Converted VID_20241104_150939_new3.wav to VID_20241104_150939_new3_temp.wav\n",
      "Recognized Text: 第三天就超过三天，跟他继续干，他说第三天。\n",
      "Data has been appended to CSV file './label_test3.csv'.\n",
      "第三天就超过三天，跟他继续干，他说第三天。\n",
      "MoviePy - Writing audio in C:/Users/Liudong/Desktop/MER/pipeline/VID_20241104_150939.wav\n"
     ]
    },
    {
     "name": "stderr",
     "output_type": "stream",
     "text": [
      "                                                                    "
     ]
    },
    {
     "name": "stdout",
     "output_type": "stream",
     "text": [
      "MoviePy - Done.\n"
     ]
    },
    {
     "name": "stderr",
     "output_type": "stream",
     "text": [
      "2024-11-06 15:35:03,514 - modelscope - WARNING - Model revision not specified, use revision: v1.0.2\n",
      "2024-11-06 15:35:03,938 - modelscope - INFO - initiate model from C:\\Users\\Liudong\\.cache\\modelscope\\hub\\damo\\speech_dfsmn_ans_psm_48k_causal\n",
      "2024-11-06 15:35:03,939 - modelscope - INFO - initiate model from location C:\\Users\\Liudong\\.cache\\modelscope\\hub\\damo\\speech_dfsmn_ans_psm_48k_causal.\n",
      "2024-11-06 15:35:03,942 - modelscope - INFO - initialize model from C:\\Users\\Liudong\\.cache\\modelscope\\hub\\damo\\speech_dfsmn_ans_psm_48k_causal\n",
      "2024-11-06 15:35:03,984 - modelscope - WARNING - No preprocessor field found in cfg.\n",
      "2024-11-06 15:35:03,985 - modelscope - WARNING - No val key and type key found in preprocessor domain of configuration.json file.\n",
      "2024-11-06 15:35:03,986 - modelscope - WARNING - Cannot find available config to build preprocessor at mode inference, current config: {'model_dir': 'C:\\\\Users\\\\Liudong\\\\.cache\\\\modelscope\\\\hub\\\\damo\\\\speech_dfsmn_ans_psm_48k_causal'}. trying to build by task and model information.\n",
      "2024-11-06 15:35:03,986 - modelscope - WARNING - No preprocessor key ('speech_dfsmn_ans', 'acoustic-noise-suppression') found in PREPROCESSOR_MAP, skip building preprocessor.\n"
     ]
    },
    {
     "name": "stdout",
     "output_type": "stream",
     "text": [
      "正在进行语音识别...\n",
      "Converted temp_segment.wav to temp_segment_temp.wav\n",
      "识别结果: 自己挣的钱。\n",
      "Converted temp_segment.wav to temp_segment_temp.wav\n",
      "No text content recognized!\n",
      "识别结果: None\n",
      "Converted temp_segment.wav to temp_segment_temp.wav\n",
      "识别结果: 你好意思吗夏洛？\n",
      "Converted temp_segment.wav to temp_segment_temp.wav\n",
      "No text content recognized!\n",
      "识别结果: None\n",
      "Converted temp_segment.wav to temp_segment_temp.wav\n",
      "No text content recognized!\n",
      "识别结果: None\n",
      "Converted temp_segment.wav to temp_segment_temp.wav\n",
      "识别结果: \n",
      "Converted temp_segment.wav to temp_segment_temp.wav\n",
      "识别结果: 从毕业到现在，你挣过一分钱。\n",
      "Converted temp_segment.wav to temp_segment_temp.wav\n",
      "No text content recognized!\n",
      "识别结果: None\n",
      "完整识别结果: 自己挣的钱。 你好意思吗夏洛？ 从毕业到现在，你挣过一分钱。\n",
      "语音段数: 8\n",
      "语音段语速: 34.72 帧/秒\n",
      "3.4722222222222223\n",
      "语音段语速: 2812.50 帧/秒\n",
      "281.25\n",
      "语音段语速: 29.92 帧/秒\n",
      "2.992021276595745\n",
      "语音段语速: 703.12 帧/秒\n",
      "70.3125\n",
      "语音段语速: 351.56 帧/秒\n",
      "35.15625\n",
      "语音段语速: 140.62 帧/秒\n",
      "14.0625\n",
      "语音段语速: 17.25 帧/秒\n",
      "1.7254601226993866\n",
      "语音段语速: 1406.25 帧/秒\n",
      "140.625\n",
      "处理后的音频已保存至: C:/Users/Liudong/Desktop/MER/pipeline/VID_20241104_150939_adjusted.wav\n",
      "312.64490186855994\n",
      "0.2746784662921479\n",
      "Converted VID_20241104_150939_new3.wav to VID_20241104_150939_new3_temp.wav\n",
      "Recognized Text: 就充电器在这个硬件。\n",
      "Data has been appended to CSV file './label_test3.csv'.\n",
      "就充电器在这个硬件。\n",
      "MoviePy - Writing audio in C:/Users/Liudong/Desktop/MER/pipeline/VID_20241104_150939.wav\n"
     ]
    },
    {
     "name": "stderr",
     "output_type": "stream",
     "text": [
      "                                                        "
     ]
    },
    {
     "name": "stdout",
     "output_type": "stream",
     "text": [
      "MoviePy - Done.\n"
     ]
    },
    {
     "name": "stderr",
     "output_type": "stream",
     "text": [
      "2024-11-06 15:35:08,556 - modelscope - WARNING - Model revision not specified, use revision: v1.0.2\n",
      "2024-11-06 15:35:08,985 - modelscope - INFO - initiate model from C:\\Users\\Liudong\\.cache\\modelscope\\hub\\damo\\speech_dfsmn_ans_psm_48k_causal\n",
      "2024-11-06 15:35:08,986 - modelscope - INFO - initiate model from location C:\\Users\\Liudong\\.cache\\modelscope\\hub\\damo\\speech_dfsmn_ans_psm_48k_causal.\n",
      "2024-11-06 15:35:08,990 - modelscope - INFO - initialize model from C:\\Users\\Liudong\\.cache\\modelscope\\hub\\damo\\speech_dfsmn_ans_psm_48k_causal\n",
      "2024-11-06 15:35:09,016 - modelscope - WARNING - No preprocessor field found in cfg.\n",
      "2024-11-06 15:35:09,016 - modelscope - WARNING - No val key and type key found in preprocessor domain of configuration.json file.\n",
      "2024-11-06 15:35:09,017 - modelscope - WARNING - Cannot find available config to build preprocessor at mode inference, current config: {'model_dir': 'C:\\\\Users\\\\Liudong\\\\.cache\\\\modelscope\\\\hub\\\\damo\\\\speech_dfsmn_ans_psm_48k_causal'}. trying to build by task and model information.\n",
      "2024-11-06 15:35:09,017 - modelscope - WARNING - No preprocessor key ('speech_dfsmn_ans', 'acoustic-noise-suppression') found in PREPROCESSOR_MAP, skip building preprocessor.\n"
     ]
    },
    {
     "name": "stdout",
     "output_type": "stream",
     "text": [
      "正在进行语音识别...\n",
      "Converted temp_segment.wav to temp_segment_temp.wav\n",
      "识别结果: 你可能。\n",
      "Converted temp_segment.wav to temp_segment_temp.wav\n",
      "识别结果: 你随个份子，你把我杀掉。\n",
      "完整识别结果: 你可能。 你随个份子，你把我杀掉。\n",
      "语音段数: 2\n",
      "语音段语速: 29.51 帧/秒\n",
      "2.9513888888888893\n",
      "语音段语速: 9.78 帧/秒\n",
      "0.977760736196319\n",
      "处理后的音频已保存至: C:/Users/Liudong/Desktop/MER/pipeline/VID_20241104_150939_adjusted.wav\n",
      "282.36175512288617\n",
      "0.3038804731374447\n",
      "Converted VID_20241104_150939_new3.wav to VID_20241104_150939_new3_temp.wav\n",
      "Recognized Text: 你你个一个问题，口才好。\n",
      "Data has been appended to CSV file './label_test3.csv'.\n",
      "你你个一个问题，口才好。\n",
      "MoviePy - Writing audio in C:/Users/Liudong/Desktop/MER/pipeline/VID_20241104_150939.wav\n"
     ]
    },
    {
     "name": "stderr",
     "output_type": "stream",
     "text": [
      "                                                        "
     ]
    },
    {
     "name": "stdout",
     "output_type": "stream",
     "text": [
      "MoviePy - Done.\n"
     ]
    },
    {
     "name": "stderr",
     "output_type": "stream",
     "text": [
      "2024-11-06 15:35:13,446 - modelscope - WARNING - Model revision not specified, use revision: v1.0.2\n",
      "2024-11-06 15:35:13,853 - modelscope - INFO - initiate model from C:\\Users\\Liudong\\.cache\\modelscope\\hub\\damo\\speech_dfsmn_ans_psm_48k_causal\n",
      "2024-11-06 15:35:13,854 - modelscope - INFO - initiate model from location C:\\Users\\Liudong\\.cache\\modelscope\\hub\\damo\\speech_dfsmn_ans_psm_48k_causal.\n",
      "2024-11-06 15:35:13,854 - modelscope - INFO - initialize model from C:\\Users\\Liudong\\.cache\\modelscope\\hub\\damo\\speech_dfsmn_ans_psm_48k_causal\n",
      "2024-11-06 15:35:13,883 - modelscope - WARNING - No preprocessor field found in cfg.\n",
      "2024-11-06 15:35:13,883 - modelscope - WARNING - No val key and type key found in preprocessor domain of configuration.json file.\n",
      "2024-11-06 15:35:13,883 - modelscope - WARNING - Cannot find available config to build preprocessor at mode inference, current config: {'model_dir': 'C:\\\\Users\\\\Liudong\\\\.cache\\\\modelscope\\\\hub\\\\damo\\\\speech_dfsmn_ans_psm_48k_causal'}. trying to build by task and model information.\n",
      "2024-11-06 15:35:13,885 - modelscope - WARNING - No preprocessor key ('speech_dfsmn_ans', 'acoustic-noise-suppression') found in PREPROCESSOR_MAP, skip building preprocessor.\n"
     ]
    },
    {
     "name": "stdout",
     "output_type": "stream",
     "text": [
      "正在进行语音识别...\n",
      "Converted temp_segment.wav to temp_segment_temp.wav\n",
      "No text content recognized!\n",
      "识别结果: None\n",
      "Converted temp_segment.wav to temp_segment_temp.wav\n",
      "识别结果: 咱俩结婚的事儿。\n",
      "Converted temp_segment.wav to temp_segment_temp.wav\n",
      "识别结果: \n",
      "Converted temp_segment.wav to temp_segment_temp.wav\n",
      "识别结果: \n",
      "Converted temp_segment.wav to temp_segment_temp.wav\n",
      "No text content recognized!\n",
      "识别结果: None\n",
      "Converted temp_segment.wav to temp_segment_temp.wav\n",
      "识别结果: 什么意思都没有。\n",
      "Converted temp_segment.wav to temp_segment_temp.wav\n",
      "No text content recognized!\n",
      "识别结果: None\n",
      "Converted temp_segment.wav to temp_segment_temp.wav\n",
      "识别结果: \n",
      "Converted temp_segment.wav to temp_segment_temp.wav\n",
      "No text content recognized!\n",
      "识别结果: None\n",
      "完整识别结果: 咱俩结婚的事儿。 什么意思都没有。\n",
      "语音段数: 9\n",
      "语音段语速: 796.88 帧/秒\n",
      "79.6875\n",
      "语音段语速: 12.07 帧/秒\n",
      "1.2073863636363638\n",
      "语音段语速: 79.69 帧/秒\n",
      "7.96875\n",
      "语音段语速: 113.84 帧/秒\n",
      "11.383928571428571\n",
      "语音段语速: 318.75 帧/秒\n",
      "31.875\n",
      "语音段语速: 11.81 帧/秒\n",
      "1.1805555555555556\n",
      "语音段语速: 1593.75 帧/秒\n",
      "159.375\n",
      "语音段语速: 88.54 帧/秒\n",
      "8.854166666666668\n",
      "语音段语速: 318.75 帧/秒\n",
      "31.875\n",
      "处理后的音频已保存至: C:/Users/Liudong/Desktop/MER/pipeline/VID_20241104_150939_adjusted.wav\n",
      "189.46661844560685\n",
      "0.4509460931529633\n",
      "Converted VID_20241104_150939_new3.wav to VID_20241104_150939_new3_temp.wav\n",
      "Recognized Text: 摘辣椒，那你吃什什么你吃的我觉得。\n",
      "Data has been appended to CSV file './label_test3.csv'.\n",
      "摘辣椒，那你吃什什么你吃的我觉得。\n",
      "MoviePy - Writing audio in C:/Users/Liudong/Desktop/MER/pipeline/VID_20241104_150939.wav\n"
     ]
    },
    {
     "name": "stderr",
     "output_type": "stream",
     "text": [
      "                                                       "
     ]
    },
    {
     "name": "stdout",
     "output_type": "stream",
     "text": [
      "MoviePy - Done.\n"
     ]
    },
    {
     "name": "stderr",
     "output_type": "stream",
     "text": [
      "2024-11-06 15:35:20,391 - modelscope - WARNING - Model revision not specified, use revision: v1.0.2\n",
      "2024-11-06 15:35:20,842 - modelscope - INFO - initiate model from C:\\Users\\Liudong\\.cache\\modelscope\\hub\\damo\\speech_dfsmn_ans_psm_48k_causal\n",
      "2024-11-06 15:35:20,842 - modelscope - INFO - initiate model from location C:\\Users\\Liudong\\.cache\\modelscope\\hub\\damo\\speech_dfsmn_ans_psm_48k_causal.\n",
      "2024-11-06 15:35:20,842 - modelscope - INFO - initialize model from C:\\Users\\Liudong\\.cache\\modelscope\\hub\\damo\\speech_dfsmn_ans_psm_48k_causal\n",
      "2024-11-06 15:35:20,878 - modelscope - WARNING - No preprocessor field found in cfg.\n",
      "2024-11-06 15:35:20,878 - modelscope - WARNING - No val key and type key found in preprocessor domain of configuration.json file.\n",
      "2024-11-06 15:35:20,878 - modelscope - WARNING - Cannot find available config to build preprocessor at mode inference, current config: {'model_dir': 'C:\\\\Users\\\\Liudong\\\\.cache\\\\modelscope\\\\hub\\\\damo\\\\speech_dfsmn_ans_psm_48k_causal'}. trying to build by task and model information.\n",
      "2024-11-06 15:35:20,878 - modelscope - WARNING - No preprocessor key ('speech_dfsmn_ans', 'acoustic-noise-suppression') found in PREPROCESSOR_MAP, skip building preprocessor.\n"
     ]
    },
    {
     "name": "stdout",
     "output_type": "stream",
     "text": [
      "正在进行语音识别...\n",
      "Converted temp_segment.wav to temp_segment_temp.wav\n",
      "No text content recognized!\n",
      "识别结果: None\n",
      "Converted temp_segment.wav to temp_segment_temp.wav\n",
      "识别结果: 你天天给我们，还能给他打，他这样啥的。\n",
      "Converted temp_segment.wav to temp_segment_temp.wav\n",
      "No text content recognized!\n",
      "识别结果: None\n",
      "Converted temp_segment.wav to temp_segment_temp.wav\n",
      "识别结果: 我们就拳头。\n",
      "完整识别结果: 你天天给我们，还能给他打，他这样啥的。 我们就拳头。\n",
      "语音段数: 4\n",
      "语音段语速: 304.69 帧/秒\n",
      "30.46875\n",
      "语音段语速: 9.45 帧/秒\n",
      "0.9447674418604652\n",
      "语音段语速: 2437.50 帧/秒\n",
      "243.75\n",
      "语音段语速: 33.93 帧/秒\n",
      "3.3930561974932707\n",
      "处理后的音频已保存至: C:/Users/Liudong/Desktop/MER/pipeline/VID_20241104_150939_adjusted.wav\n",
      "234.99070768846087\n",
      "0.36449805075240727\n",
      "Converted VID_20241104_150939_new3.wav to VID_20241104_150939_new3_temp.wav\n",
      "Recognized Text: 你诶，可以给我个拍个警察打个k2查的。\n",
      "Data has been appended to CSV file './label_test3.csv'.\n",
      "你诶，可以给我个拍个警察打个k2查的。\n",
      "MoviePy - Writing audio in C:/Users/Liudong/Desktop/MER/pipeline/VID_20241104_150939.wav\n"
     ]
    },
    {
     "name": "stderr",
     "output_type": "stream",
     "text": [
      "                                                       "
     ]
    },
    {
     "name": "stdout",
     "output_type": "stream",
     "text": [
      "MoviePy - Done.\n"
     ]
    },
    {
     "name": "stderr",
     "output_type": "stream",
     "text": [
      "2024-11-06 15:35:25,477 - modelscope - WARNING - Model revision not specified, use revision: v1.0.2\n",
      "2024-11-06 15:35:25,853 - modelscope - INFO - initiate model from C:\\Users\\Liudong\\.cache\\modelscope\\hub\\damo\\speech_dfsmn_ans_psm_48k_causal\n",
      "2024-11-06 15:35:25,853 - modelscope - INFO - initiate model from location C:\\Users\\Liudong\\.cache\\modelscope\\hub\\damo\\speech_dfsmn_ans_psm_48k_causal.\n",
      "2024-11-06 15:35:25,853 - modelscope - INFO - initialize model from C:\\Users\\Liudong\\.cache\\modelscope\\hub\\damo\\speech_dfsmn_ans_psm_48k_causal\n",
      "2024-11-06 15:35:25,884 - modelscope - WARNING - No preprocessor field found in cfg.\n",
      "2024-11-06 15:35:25,884 - modelscope - WARNING - No val key and type key found in preprocessor domain of configuration.json file.\n",
      "2024-11-06 15:35:25,884 - modelscope - WARNING - Cannot find available config to build preprocessor at mode inference, current config: {'model_dir': 'C:\\\\Users\\\\Liudong\\\\.cache\\\\modelscope\\\\hub\\\\damo\\\\speech_dfsmn_ans_psm_48k_causal'}. trying to build by task and model information.\n",
      "2024-11-06 15:35:25,884 - modelscope - WARNING - No preprocessor key ('speech_dfsmn_ans', 'acoustic-noise-suppression') found in PREPROCESSOR_MAP, skip building preprocessor.\n"
     ]
    },
    {
     "name": "stdout",
     "output_type": "stream",
     "text": [
      "正在进行语音识别...\n",
      "Converted temp_segment.wav to temp_segment_temp.wav\n",
      "识别结果: 我也不知道，我也不算什么。\n",
      "完整识别结果: 我也不知道，我也不算什么。\n",
      "语音段数: 1\n",
      "语音段语速: 6.90 帧/秒\n",
      "0.6902349453564002\n",
      "处理后的音频已保存至: C:/Users/Liudong/Desktop/MER/pipeline/VID_20241104_150939_adjusted.wav\n",
      "230.3840118262956\n",
      "0.37170876226406435\n",
      "Converted VID_20241104_150939_new3.wav to VID_20241104_150939_new3_temp.wav\n",
      "Recognized Text: 我我也不知道我有三个人了。\n",
      "Data has been appended to CSV file './label_test3.csv'.\n",
      "我我也不知道我有三个人了。\n",
      "MoviePy - Writing audio in C:/Users/Liudong/Desktop/MER/pipeline/VID_20241104_150939.wav\n"
     ]
    },
    {
     "name": "stderr",
     "output_type": "stream",
     "text": [
      "                                                       "
     ]
    },
    {
     "name": "stdout",
     "output_type": "stream",
     "text": [
      "MoviePy - Done.\n"
     ]
    },
    {
     "name": "stderr",
     "output_type": "stream",
     "text": [
      "2024-11-06 15:35:28,374 - modelscope - WARNING - Model revision not specified, use revision: v1.0.2\n",
      "2024-11-06 15:35:28,681 - modelscope - INFO - initiate model from C:\\Users\\Liudong\\.cache\\modelscope\\hub\\damo\\speech_dfsmn_ans_psm_48k_causal\n",
      "2024-11-06 15:35:28,681 - modelscope - INFO - initiate model from location C:\\Users\\Liudong\\.cache\\modelscope\\hub\\damo\\speech_dfsmn_ans_psm_48k_causal.\n",
      "2024-11-06 15:35:28,681 - modelscope - INFO - initialize model from C:\\Users\\Liudong\\.cache\\modelscope\\hub\\damo\\speech_dfsmn_ans_psm_48k_causal\n",
      "2024-11-06 15:35:28,717 - modelscope - WARNING - No preprocessor field found in cfg.\n",
      "2024-11-06 15:35:28,718 - modelscope - WARNING - No val key and type key found in preprocessor domain of configuration.json file.\n",
      "2024-11-06 15:35:28,719 - modelscope - WARNING - Cannot find available config to build preprocessor at mode inference, current config: {'model_dir': 'C:\\\\Users\\\\Liudong\\\\.cache\\\\modelscope\\\\hub\\\\damo\\\\speech_dfsmn_ans_psm_48k_causal'}. trying to build by task and model information.\n",
      "2024-11-06 15:35:28,719 - modelscope - WARNING - No preprocessor key ('speech_dfsmn_ans', 'acoustic-noise-suppression') found in PREPROCESSOR_MAP, skip building preprocessor.\n"
     ]
    },
    {
     "name": "stdout",
     "output_type": "stream",
     "text": [
      "正在进行语音识别...\n",
      "Converted temp_segment.wav to temp_segment_temp.wav\n",
      "识别结果: 你有什么心情可以对我说，不要伤害女同学。\n",
      "完整识别结果: 你有什么心情可以对我说，不要伤害女同学。\n",
      "语音段数: 1\n",
      "语音段语速: 8.54 帧/秒\n",
      "0.8538722215798413\n",
      "处理后的音频已保存至: C:/Users/Liudong/Desktop/MER/pipeline/VID_20241104_150939_adjusted.wav\n",
      "225.3344771257337\n",
      "0.3799476616673208\n",
      "Converted VID_20241104_150939_new3.wav to VID_20241104_150939_new3_temp.wav\n",
      "Recognized Text: 你有什么心结可以跟我说，不要伤害女同学。\n",
      "Data has been appended to CSV file './label_test3.csv'.\n",
      "你有什么心结可以跟我说，不要伤害女同学。\n",
      "MoviePy - Writing audio in C:/Users/Liudong/Desktop/MER/pipeline/VID_20241104_150939.wav\n"
     ]
    },
    {
     "name": "stderr",
     "output_type": "stream",
     "text": [
      "                                                       "
     ]
    },
    {
     "name": "stdout",
     "output_type": "stream",
     "text": [
      "MoviePy - Done.\n"
     ]
    },
    {
     "name": "stderr",
     "output_type": "stream",
     "text": [
      "2024-11-06 15:35:31,246 - modelscope - WARNING - Model revision not specified, use revision: v1.0.2\n",
      "2024-11-06 15:35:31,645 - modelscope - INFO - initiate model from C:\\Users\\Liudong\\.cache\\modelscope\\hub\\damo\\speech_dfsmn_ans_psm_48k_causal\n",
      "2024-11-06 15:35:31,646 - modelscope - INFO - initiate model from location C:\\Users\\Liudong\\.cache\\modelscope\\hub\\damo\\speech_dfsmn_ans_psm_48k_causal.\n",
      "2024-11-06 15:35:31,651 - modelscope - INFO - initialize model from C:\\Users\\Liudong\\.cache\\modelscope\\hub\\damo\\speech_dfsmn_ans_psm_48k_causal\n",
      "2024-11-06 15:35:31,676 - modelscope - WARNING - No preprocessor field found in cfg.\n",
      "2024-11-06 15:35:31,677 - modelscope - WARNING - No val key and type key found in preprocessor domain of configuration.json file.\n",
      "2024-11-06 15:35:31,678 - modelscope - WARNING - Cannot find available config to build preprocessor at mode inference, current config: {'model_dir': 'C:\\\\Users\\\\Liudong\\\\.cache\\\\modelscope\\\\hub\\\\damo\\\\speech_dfsmn_ans_psm_48k_causal'}. trying to build by task and model information.\n",
      "2024-11-06 15:35:31,678 - modelscope - WARNING - No preprocessor key ('speech_dfsmn_ans', 'acoustic-noise-suppression') found in PREPROCESSOR_MAP, skip building preprocessor.\n"
     ]
    },
    {
     "name": "stdout",
     "output_type": "stream",
     "text": [
      "正在进行语音识别...\n",
      "Converted temp_segment.wav to temp_segment_temp.wav\n",
      "识别结果: \n",
      "Converted temp_segment.wav to temp_segment_temp.wav\n",
      "识别结果: 讨厌。\n",
      "Converted temp_segment.wav to temp_segment_temp.wav\n",
      "识别结果: 就不要和你们这男孩玩玩，气死老娘了。\n",
      "完整识别结果: 讨厌。 就不要和你们这男孩玩玩，气死老娘了。\n",
      "语音段数: 3\n",
      "语音段语速: 98.21 帧/秒\n",
      "9.821428571428571\n",
      "语音段语速: 35.56 帧/秒\n",
      "3.5560344827586206\n",
      "语音段语速: 7.93 帧/秒\n",
      "0.7934063126892417\n",
      "处理后的音频已保存至: C:/Users/Liudong/Desktop/MER/pipeline/VID_20241104_150939_adjusted.wav\n",
      "150.88994732288887\n",
      "0.5643744574420098\n",
      "Converted VID_20241104_150939_new3.wav to VID_20241104_150939_new3_temp.wav\n",
      "Recognized Text: 哎，就该和你们男孩玩那气死老娘了。\n",
      "Data has been appended to CSV file './label_test3.csv'.\n",
      "哎，就该和你们男孩玩那气死老娘了。\n",
      "MoviePy - Writing audio in C:/Users/Liudong/Desktop/MER/pipeline/VID_20241104_150939.wav\n"
     ]
    },
    {
     "name": "stderr",
     "output_type": "stream",
     "text": [
      "                                                       "
     ]
    },
    {
     "name": "stdout",
     "output_type": "stream",
     "text": [
      "MoviePy - Done.\n"
     ]
    },
    {
     "name": "stderr",
     "output_type": "stream",
     "text": [
      "2024-11-06 15:35:36,126 - modelscope - WARNING - Model revision not specified, use revision: v1.0.2\n",
      "2024-11-06 15:35:36,465 - modelscope - INFO - initiate model from C:\\Users\\Liudong\\.cache\\modelscope\\hub\\damo\\speech_dfsmn_ans_psm_48k_causal\n",
      "2024-11-06 15:35:36,466 - modelscope - INFO - initiate model from location C:\\Users\\Liudong\\.cache\\modelscope\\hub\\damo\\speech_dfsmn_ans_psm_48k_causal.\n",
      "2024-11-06 15:35:36,469 - modelscope - INFO - initialize model from C:\\Users\\Liudong\\.cache\\modelscope\\hub\\damo\\speech_dfsmn_ans_psm_48k_causal\n",
      "2024-11-06 15:35:36,493 - modelscope - WARNING - No preprocessor field found in cfg.\n",
      "2024-11-06 15:35:36,493 - modelscope - WARNING - No val key and type key found in preprocessor domain of configuration.json file.\n",
      "2024-11-06 15:35:36,493 - modelscope - WARNING - Cannot find available config to build preprocessor at mode inference, current config: {'model_dir': 'C:\\\\Users\\\\Liudong\\\\.cache\\\\modelscope\\\\hub\\\\damo\\\\speech_dfsmn_ans_psm_48k_causal'}. trying to build by task and model information.\n",
      "2024-11-06 15:35:36,493 - modelscope - WARNING - No preprocessor key ('speech_dfsmn_ans', 'acoustic-noise-suppression') found in PREPROCESSOR_MAP, skip building preprocessor.\n"
     ]
    },
    {
     "name": "stdout",
     "output_type": "stream",
     "text": [
      "正在进行语音识别...\n",
      "Converted temp_segment.wav to temp_segment_temp.wav\n",
      "No text content recognized!\n",
      "识别结果: None\n",
      "Converted temp_segment.wav to temp_segment_temp.wav\n",
      "识别结果: \n",
      "Converted temp_segment.wav to temp_segment_temp.wav\n",
      "No text content recognized!\n",
      "识别结果: None\n",
      "Converted temp_segment.wav to temp_segment_temp.wav\n",
      "No text content recognized!\n",
      "识别结果: None\n",
      "Converted temp_segment.wav to temp_segment_temp.wav\n",
      "No text content recognized!\n",
      "识别结果: None\n",
      "Converted temp_segment.wav to temp_segment_temp.wav\n",
      "No text content recognized!\n",
      "识别结果: None\n",
      "Converted temp_segment.wav to temp_segment_temp.wav\n",
      "No text content recognized!\n",
      "识别结果: None\n",
      "Converted temp_segment.wav to temp_segment_temp.wav\n",
      "No text content recognized!\n",
      "识别结果: None\n",
      "Converted temp_segment.wav to temp_segment_temp.wav\n",
      "识别结果: 有时候下到什么时候能长大？\n",
      "完整识别结果: 有时候下到什么时候能长大？\n",
      "语音段数: 9\n",
      "语音段语速: 304.69 帧/秒\n",
      "30.46875\n",
      "语音段语速: 93.75 帧/秒\n",
      "9.375\n",
      "语音段语速: 152.34 帧/秒\n",
      "15.234375\n",
      "语音段语速: 174.11 帧/秒\n",
      "17.410714285714285\n",
      "语音段语速: 1218.75 帧/秒\n",
      "121.875\n",
      "语音段语速: 203.12 帧/秒\n",
      "20.3125\n",
      "语音段语速: 609.38 帧/秒\n",
      "60.9375\n",
      "语音段语速: 243.75 帧/秒\n",
      "24.374999999999996\n",
      "语音段语速: 7.57 帧/秒\n",
      "0.7569875776397516\n",
      "处理后的音频已保存至: C:/Users/Liudong/Desktop/MER/pipeline/VID_20241104_150939_adjusted.wav\n",
      "244.47443364023783\n",
      "0.3505004865378218\n",
      "Converted VID_20241104_150939_new3.wav to VID_20241104_150939_new3_temp.wav\n",
      "Recognized Text: 你说下到什么时候留着。\n",
      "Data has been appended to CSV file './label_test3.csv'.\n",
      "你说下到什么时候留着。\n",
      "MoviePy - Writing audio in C:/Users/Liudong/Desktop/MER/pipeline/VID_20241104_150939.wav\n"
     ]
    },
    {
     "name": "stderr",
     "output_type": "stream",
     "text": [
      "                                                                   "
     ]
    },
    {
     "name": "stdout",
     "output_type": "stream",
     "text": [
      "MoviePy - Done.\n"
     ]
    },
    {
     "name": "stderr",
     "output_type": "stream",
     "text": [
      "2024-11-06 15:35:42,902 - modelscope - WARNING - Model revision not specified, use revision: v1.0.2\n",
      "2024-11-06 15:35:43,312 - modelscope - INFO - initiate model from C:\\Users\\Liudong\\.cache\\modelscope\\hub\\damo\\speech_dfsmn_ans_psm_48k_causal\n",
      "2024-11-06 15:35:43,312 - modelscope - INFO - initiate model from location C:\\Users\\Liudong\\.cache\\modelscope\\hub\\damo\\speech_dfsmn_ans_psm_48k_causal.\n",
      "2024-11-06 15:35:43,321 - modelscope - INFO - initialize model from C:\\Users\\Liudong\\.cache\\modelscope\\hub\\damo\\speech_dfsmn_ans_psm_48k_causal\n",
      "2024-11-06 15:35:43,345 - modelscope - WARNING - No preprocessor field found in cfg.\n",
      "2024-11-06 15:35:43,346 - modelscope - WARNING - No val key and type key found in preprocessor domain of configuration.json file.\n",
      "2024-11-06 15:35:43,346 - modelscope - WARNING - Cannot find available config to build preprocessor at mode inference, current config: {'model_dir': 'C:\\\\Users\\\\Liudong\\\\.cache\\\\modelscope\\\\hub\\\\damo\\\\speech_dfsmn_ans_psm_48k_causal'}. trying to build by task and model information.\n",
      "2024-11-06 15:35:43,346 - modelscope - WARNING - No preprocessor key ('speech_dfsmn_ans', 'acoustic-noise-suppression') found in PREPROCESSOR_MAP, skip building preprocessor.\n"
     ]
    },
    {
     "name": "stdout",
     "output_type": "stream",
     "text": [
      "正在进行语音识别...\n",
      "Converted temp_segment.wav to temp_segment_temp.wav\n",
      "识别结果: 我。\n",
      "Converted temp_segment.wav to temp_segment_temp.wav\n",
      "识别结果: 警告你别瞎叫。\n",
      "Converted temp_segment.wav to temp_segment_temp.wav\n",
      "识别结果: 我给你下面，谁还会去呢？\n",
      "Converted temp_segment.wav to temp_segment_temp.wav\n",
      "识别结果: 好。\n",
      "Converted temp_segment.wav to temp_segment_temp.wav\n",
      "识别结果: 呀。\n",
      "完整识别结果: 我。 警告你别瞎叫。 我给你下面，谁还会去呢？ 好。 呀。\n",
      "语音段数: 5\n",
      "语音段语速: 226.56 帧/秒\n",
      "22.65625\n",
      "语音段语速: 22.47 帧/秒\n",
      "2.2469008264462813\n",
      "语音段语速: 18.49 帧/秒\n",
      "1.8494897959183672\n",
      "语音段语速: 73.48 帧/秒\n",
      "7.347972972972973\n",
      "语音段语速: 79.96 帧/秒\n",
      "7.996323529411764\n",
      "处理后的音频已保存至: C:/Users/Liudong/Desktop/MER/pipeline/VID_20241104_150939_adjusted.wav\n",
      "260.3055919453883\n",
      "0.3293853567014816\n",
      "Converted VID_20241104_150939_new3.wav to VID_20241104_150939_new3_temp.wav\n",
      "Recognized Text: 放假回家。\n",
      "Data has been appended to CSV file './label_test3.csv'.\n",
      "放假回家。\n",
      "MoviePy - Writing audio in C:/Users/Liudong/Desktop/MER/pipeline/VID_20241104_150939.wav\n"
     ]
    },
    {
     "name": "stderr",
     "output_type": "stream",
     "text": [
      "                                                       "
     ]
    },
    {
     "name": "stdout",
     "output_type": "stream",
     "text": [
      "MoviePy - Done.\n"
     ]
    },
    {
     "name": "stderr",
     "output_type": "stream",
     "text": [
      "2024-11-06 15:35:48,317 - modelscope - WARNING - Model revision not specified, use revision: v1.0.2\n",
      "2024-11-06 15:35:49,164 - modelscope - INFO - initiate model from C:\\Users\\Liudong\\.cache\\modelscope\\hub\\damo\\speech_dfsmn_ans_psm_48k_causal\n",
      "2024-11-06 15:35:49,164 - modelscope - INFO - initiate model from location C:\\Users\\Liudong\\.cache\\modelscope\\hub\\damo\\speech_dfsmn_ans_psm_48k_causal.\n",
      "2024-11-06 15:35:49,164 - modelscope - INFO - initialize model from C:\\Users\\Liudong\\.cache\\modelscope\\hub\\damo\\speech_dfsmn_ans_psm_48k_causal\n",
      "2024-11-06 15:35:49,201 - modelscope - WARNING - No preprocessor field found in cfg.\n",
      "2024-11-06 15:35:49,202 - modelscope - WARNING - No val key and type key found in preprocessor domain of configuration.json file.\n",
      "2024-11-06 15:35:49,202 - modelscope - WARNING - Cannot find available config to build preprocessor at mode inference, current config: {'model_dir': 'C:\\\\Users\\\\Liudong\\\\.cache\\\\modelscope\\\\hub\\\\damo\\\\speech_dfsmn_ans_psm_48k_causal'}. trying to build by task and model information.\n",
      "2024-11-06 15:35:49,203 - modelscope - WARNING - No preprocessor key ('speech_dfsmn_ans', 'acoustic-noise-suppression') found in PREPROCESSOR_MAP, skip building preprocessor.\n"
     ]
    },
    {
     "name": "stdout",
     "output_type": "stream",
     "text": [
      "正在进行语音识别...\n",
      "Converted temp_segment.wav to temp_segment_temp.wav\n",
      "识别结果: \n",
      "Converted temp_segment.wav to temp_segment_temp.wav\n",
      "识别结果: 我会对你负责任。\n",
      "完整识别结果: 我会对你负责任。\n",
      "语音段数: 2\n",
      "语音段语速: 27.78 帧/秒\n",
      "2.7777777777777777\n",
      "语音段语速: 6.67 帧/秒\n",
      "0.6674082313681868\n",
      "处理后的音频已保存至: C:/Users/Liudong/Desktop/MER/pipeline/VID_20241104_150939_adjusted.wav\n",
      "240.05325758143326\n",
      "0.35688973544674807\n",
      "Converted VID_20241104_150939_new3.wav to VID_20241104_150939_new3_temp.wav\n",
      "Recognized Text: 我会对你负责任。\n",
      "Data has been appended to CSV file './label_test3.csv'.\n",
      "我会对你负责任。\n",
      "MoviePy - Writing audio in C:/Users/Liudong/Desktop/MER/pipeline/VID_20241104_150939.wav\n"
     ]
    },
    {
     "name": "stderr",
     "output_type": "stream",
     "text": [
      "                                                        "
     ]
    },
    {
     "name": "stdout",
     "output_type": "stream",
     "text": [
      "MoviePy - Done.\n"
     ]
    },
    {
     "name": "stderr",
     "output_type": "stream",
     "text": [
      "2024-11-06 15:35:52,786 - modelscope - WARNING - Model revision not specified, use revision: v1.0.2\n",
      "2024-11-06 15:35:53,139 - modelscope - INFO - initiate model from C:\\Users\\Liudong\\.cache\\modelscope\\hub\\damo\\speech_dfsmn_ans_psm_48k_causal\n",
      "2024-11-06 15:35:53,140 - modelscope - INFO - initiate model from location C:\\Users\\Liudong\\.cache\\modelscope\\hub\\damo\\speech_dfsmn_ans_psm_48k_causal.\n",
      "2024-11-06 15:35:53,144 - modelscope - INFO - initialize model from C:\\Users\\Liudong\\.cache\\modelscope\\hub\\damo\\speech_dfsmn_ans_psm_48k_causal\n",
      "2024-11-06 15:35:53,168 - modelscope - WARNING - No preprocessor field found in cfg.\n",
      "2024-11-06 15:35:53,168 - modelscope - WARNING - No val key and type key found in preprocessor domain of configuration.json file.\n",
      "2024-11-06 15:35:53,168 - modelscope - WARNING - Cannot find available config to build preprocessor at mode inference, current config: {'model_dir': 'C:\\\\Users\\\\Liudong\\\\.cache\\\\modelscope\\\\hub\\\\damo\\\\speech_dfsmn_ans_psm_48k_causal'}. trying to build by task and model information.\n",
      "2024-11-06 15:35:53,168 - modelscope - WARNING - No preprocessor key ('speech_dfsmn_ans', 'acoustic-noise-suppression') found in PREPROCESSOR_MAP, skip building preprocessor.\n"
     ]
    },
    {
     "name": "stdout",
     "output_type": "stream",
     "text": [
      "正在进行语音识别...\n",
      "Converted temp_segment.wav to temp_segment_temp.wav\n",
      "No text content recognized!\n",
      "识别结果: None\n",
      "Converted temp_segment.wav to temp_segment_temp.wav\n",
      "识别结果: 都没。\n",
      "Converted temp_segment.wav to temp_segment_temp.wav\n",
      "识别结果: 不行。\n",
      "Converted temp_segment.wav to temp_segment_temp.wav\n",
      "识别结果: 你是入学以来。\n",
      "Converted temp_segment.wav to temp_segment_temp.wav\n",
      "识别结果: 第一个主动要求坐在我身上。\n",
      "完整识别结果: 都没。 不行。 你是入学以来。 第一个主动要求坐在我身上。\n",
      "语音段数: 5\n",
      "语音段语速: 339.84 帧/秒\n",
      "33.984375\n",
      "语音段语速: 33.98 帧/秒\n",
      "3.3984375\n",
      "语音段语速: 59.10 帧/秒\n",
      "5.9103260869565215\n",
      "语音段语速: 20.29 帧/秒\n",
      "2.028917910447761\n",
      "语音段语速: 19.78 帧/秒\n",
      "1.9780594554652418\n",
      "处理后的音频已保存至: C:/Users/Liudong/Desktop/MER/pipeline/VID_20241104_150939_adjusted.wav\n",
      "132.7680745605812\n",
      "0.6399999453055347\n",
      "Converted VID_20241104_150939_new3.wav to VID_20241104_150939_new3_temp.wav\n",
      "Recognized Text: 一直没买，一直在宿舍吃。\n",
      "Data has been appended to CSV file './label_test3.csv'.\n",
      "一直没买，一直在宿舍吃。\n",
      "MoviePy - Writing audio in C:/Users/Liudong/Desktop/MER/pipeline/VID_20241104_150939.wav\n"
     ]
    },
    {
     "name": "stderr",
     "output_type": "stream",
     "text": [
      "                                                                    "
     ]
    },
    {
     "name": "stdout",
     "output_type": "stream",
     "text": [
      "MoviePy - Done.\n"
     ]
    },
    {
     "name": "stderr",
     "output_type": "stream",
     "text": [
      "2024-11-06 15:35:57,539 - modelscope - WARNING - Model revision not specified, use revision: v1.0.2\n",
      "2024-11-06 15:35:58,145 - modelscope - INFO - initiate model from C:\\Users\\Liudong\\.cache\\modelscope\\hub\\damo\\speech_dfsmn_ans_psm_48k_causal\n",
      "2024-11-06 15:35:58,145 - modelscope - INFO - initiate model from location C:\\Users\\Liudong\\.cache\\modelscope\\hub\\damo\\speech_dfsmn_ans_psm_48k_causal.\n",
      "2024-11-06 15:35:58,153 - modelscope - INFO - initialize model from C:\\Users\\Liudong\\.cache\\modelscope\\hub\\damo\\speech_dfsmn_ans_psm_48k_causal\n",
      "2024-11-06 15:35:58,178 - modelscope - WARNING - No preprocessor field found in cfg.\n",
      "2024-11-06 15:35:58,178 - modelscope - WARNING - No val key and type key found in preprocessor domain of configuration.json file.\n",
      "2024-11-06 15:35:58,178 - modelscope - WARNING - Cannot find available config to build preprocessor at mode inference, current config: {'model_dir': 'C:\\\\Users\\\\Liudong\\\\.cache\\\\modelscope\\\\hub\\\\damo\\\\speech_dfsmn_ans_psm_48k_causal'}. trying to build by task and model information.\n",
      "2024-11-06 15:35:58,178 - modelscope - WARNING - No preprocessor key ('speech_dfsmn_ans', 'acoustic-noise-suppression') found in PREPROCESSOR_MAP, skip building preprocessor.\n"
     ]
    },
    {
     "name": "stdout",
     "output_type": "stream",
     "text": [
      "正在进行语音识别...\n",
      "Converted temp_segment.wav to temp_segment_temp.wav\n",
      "No text content recognized!\n",
      "识别结果: None\n",
      "Converted temp_segment.wav to temp_segment_temp.wav\n",
      "No text content recognized!\n",
      "识别结果: None\n",
      "Converted temp_segment.wav to temp_segment_temp.wav\n",
      "识别结果: \n",
      "Converted temp_segment.wav to temp_segment_temp.wav\n",
      "No text content recognized!\n",
      "识别结果: None\n",
      "Converted temp_segment.wav to temp_segment_temp.wav\n",
      "识别结果: \n",
      "Converted temp_segment.wav to temp_segment_temp.wav\n",
      "识别结果: 我去就不去了。\n",
      "Converted temp_segment.wav to temp_segment_temp.wav\n",
      "识别结果: 很少。\n",
      "Converted temp_segment.wav to temp_segment_temp.wav\n",
      "识别结果: 好像。\n",
      "Converted temp_segment.wav to temp_segment_temp.wav\n",
      "No text content recognized!\n",
      "识别结果: None\n",
      "Converted temp_segment.wav to temp_segment_temp.wav\n",
      "No text content recognized!\n",
      "识别结果: None\n",
      "Converted temp_segment.wav to temp_segment_temp.wav\n",
      "识别结果: 我感觉他是毁灭之前。\n",
      "Converted temp_segment.wav to temp_segment_temp.wav\n",
      "识别结果: \n",
      "Converted temp_segment.wav to temp_segment_temp.wav\n",
      "No text content recognized!\n",
      "识别结果: None\n",
      "Converted temp_segment.wav to temp_segment_temp.wav\n",
      "No text content recognized!\n",
      "识别结果: None\n",
      "Converted temp_segment.wav to temp_segment_temp.wav\n",
      "识别结果: 必须现场去捧场去。\n",
      "完整识别结果: 我去就不去了。 很少。 好像。 我感觉他是毁灭之前。 必须现场去捧场去。\n",
      "语音段数: 15\n",
      "语音段语速: 3375.00 帧/秒\n",
      "337.5\n",
      "语音段语速: 421.88 帧/秒\n",
      "42.1875\n",
      "语音段语速: 198.53 帧/秒\n",
      "19.852941176470587\n",
      "语音段语速: 675.00 帧/秒\n",
      "67.5\n",
      "语音段语速: 86.54 帧/秒\n",
      "8.653846153846155\n",
      "语音段语速: 26.37 帧/秒\n",
      "2.63671875\n",
      "语音段语速: 50.37 帧/秒\n",
      "5.037313432835822\n",
      "语音段语速: 241.07 帧/秒\n",
      "24.107142857142854\n",
      "语音段语速: 3375.00 帧/秒\n",
      "337.5\n",
      "语音段语速: 375.00 帧/秒\n",
      "37.5\n",
      "语音段语速: 21.63 帧/秒\n",
      "2.1634615384615388\n",
      "语音段语速: 225.00 帧/秒\n",
      "22.5\n",
      "语音段语速: 843.75 帧/秒\n",
      "84.375\n",
      "语音段语速: 3375.00 帧/秒\n",
      "337.5\n",
      "语音段语速: 21.36 帧/秒\n",
      "2.136075949367089\n",
      "处理后的音频已保存至: C:/Users/Liudong/Desktop/MER/pipeline/VID_20241104_150939_adjusted.wav\n",
      "151.61604617881903\n",
      "0.5617150087173847\n",
      "Converted VID_20241104_150939_new3.wav to VID_20241104_150939_new3_temp.wav\n",
      "Recognized Text: 这个手机我就去，必须进去。\n",
      "Data has been appended to CSV file './label_test3.csv'.\n",
      "这个手机我就去，必须进去。\n",
      "MoviePy - Writing audio in C:/Users/Liudong/Desktop/MER/pipeline/VID_20241104_150939.wav\n"
     ]
    },
    {
     "name": "stderr",
     "output_type": "stream",
     "text": [
      "                                                                    "
     ]
    },
    {
     "name": "stdout",
     "output_type": "stream",
     "text": [
      "MoviePy - Done.\n"
     ]
    },
    {
     "name": "stderr",
     "output_type": "stream",
     "text": [
      "2024-11-06 15:36:05,576 - modelscope - WARNING - Model revision not specified, use revision: v1.0.2\n",
      "2024-11-06 15:36:05,910 - modelscope - INFO - initiate model from C:\\Users\\Liudong\\.cache\\modelscope\\hub\\damo\\speech_dfsmn_ans_psm_48k_causal\n",
      "2024-11-06 15:36:05,910 - modelscope - INFO - initiate model from location C:\\Users\\Liudong\\.cache\\modelscope\\hub\\damo\\speech_dfsmn_ans_psm_48k_causal.\n",
      "2024-11-06 15:36:05,919 - modelscope - INFO - initialize model from C:\\Users\\Liudong\\.cache\\modelscope\\hub\\damo\\speech_dfsmn_ans_psm_48k_causal\n",
      "2024-11-06 15:36:05,952 - modelscope - WARNING - No preprocessor field found in cfg.\n",
      "2024-11-06 15:36:05,952 - modelscope - WARNING - No val key and type key found in preprocessor domain of configuration.json file.\n",
      "2024-11-06 15:36:05,953 - modelscope - WARNING - Cannot find available config to build preprocessor at mode inference, current config: {'model_dir': 'C:\\\\Users\\\\Liudong\\\\.cache\\\\modelscope\\\\hub\\\\damo\\\\speech_dfsmn_ans_psm_48k_causal'}. trying to build by task and model information.\n",
      "2024-11-06 15:36:05,953 - modelscope - WARNING - No preprocessor key ('speech_dfsmn_ans', 'acoustic-noise-suppression') found in PREPROCESSOR_MAP, skip building preprocessor.\n"
     ]
    },
    {
     "name": "stdout",
     "output_type": "stream",
     "text": [
      "正在进行语音识别...\n",
      "Converted temp_segment.wav to temp_segment_temp.wav\n",
      "No text content recognized!\n",
      "识别结果: None\n",
      "Converted temp_segment.wav to temp_segment_temp.wav\n",
      "识别结果: \n",
      "Converted temp_segment.wav to temp_segment_temp.wav\n",
      "识别结果: \n",
      "Converted temp_segment.wav to temp_segment_temp.wav\n",
      "识别结果: \n",
      "Converted temp_segment.wav to temp_segment_temp.wav\n",
      "识别结果: 现在还没有。\n",
      "Converted temp_segment.wav to temp_segment_temp.wav\n",
      "识别结果: 汽水或冰。\n",
      "Converted temp_segment.wav to temp_segment_temp.wav\n",
      "识别结果: \n",
      "Converted temp_segment.wav to temp_segment_temp.wav\n",
      "识别结果: 对对对。\n",
      "Converted temp_segment.wav to temp_segment_temp.wav\n",
      "识别结果: 跟我的心。\n",
      "Converted temp_segment.wav to temp_segment_temp.wav\n",
      "识别结果: 不想听。\n",
      "Converted temp_segment.wav to temp_segment_temp.wav\n",
      "No text content recognized!\n",
      "识别结果: None\n",
      "Converted temp_segment.wav to temp_segment_temp.wav\n",
      "No text content recognized!\n",
      "识别结果: None\n",
      "Converted temp_segment.wav to temp_segment_temp.wav\n",
      "识别结果: 确实没有。\n",
      "完整识别结果: 现在还没有。 汽水或冰。 对对对。 跟我的心。 不想听。 确实没有。\n",
      "语音段数: 13\n",
      "语音段语速: 531.25 帧/秒\n",
      "53.125\n",
      "语音段语速: 318.75 帧/秒\n",
      "31.875\n",
      "语音段语速: 138.59 帧/秒\n",
      "13.858695652173912\n",
      "语音段语速: 132.81 帧/秒\n",
      "13.28125\n",
      "语音段语速: 22.77 帧/秒\n",
      "2.2767857142857144\n",
      "语音段语速: 16.87 帧/秒\n",
      "1.6865079365079363\n",
      "语音段语速: 199.22 帧/秒\n",
      "19.921875\n",
      "语音段语速: 83.88 帧/秒\n",
      "8.388157894736842\n",
      "语音段语速: 24.71 帧/秒\n",
      "2.47093023255814\n",
      "语音段语速: 354.17 帧/秒\n",
      "35.41666666666667\n",
      "语音段语速: 1593.75 帧/秒\n",
      "159.375\n",
      "语音段语速: 3187.50 帧/秒\n",
      "318.75\n",
      "语音段语速: 18.33 帧/秒\n",
      "1.8332135154565061\n",
      "处理后的音频已保存至: C:/Users/Liudong/Desktop/MER/pipeline/VID_20241104_150939_adjusted.wav\n",
      "140.95899732129405\n",
      "0.6034509384961895\n",
      "Converted VID_20241104_150939_new3.wav to VID_20241104_150939_new3_temp.wav\n",
      "Recognized Text: 这样可以。\n",
      "Data has been appended to CSV file './label_test3.csv'.\n",
      "这样可以。\n",
      "MoviePy - Writing audio in C:/Users/Liudong/Desktop/MER/pipeline/VID_20241104_150939.wav\n"
     ]
    },
    {
     "name": "stderr",
     "output_type": "stream",
     "text": [
      "                                                                   "
     ]
    },
    {
     "name": "stdout",
     "output_type": "stream",
     "text": [
      "MoviePy - Done.\n"
     ]
    },
    {
     "name": "stderr",
     "output_type": "stream",
     "text": [
      "2024-11-06 15:36:13,746 - modelscope - WARNING - Model revision not specified, use revision: v1.0.2\n",
      "2024-11-06 15:36:14,108 - modelscope - INFO - initiate model from C:\\Users\\Liudong\\.cache\\modelscope\\hub\\damo\\speech_dfsmn_ans_psm_48k_causal\n",
      "2024-11-06 15:36:14,108 - modelscope - INFO - initiate model from location C:\\Users\\Liudong\\.cache\\modelscope\\hub\\damo\\speech_dfsmn_ans_psm_48k_causal.\n",
      "2024-11-06 15:36:14,115 - modelscope - INFO - initialize model from C:\\Users\\Liudong\\.cache\\modelscope\\hub\\damo\\speech_dfsmn_ans_psm_48k_causal\n",
      "2024-11-06 15:36:14,139 - modelscope - WARNING - No preprocessor field found in cfg.\n",
      "2024-11-06 15:36:14,139 - modelscope - WARNING - No val key and type key found in preprocessor domain of configuration.json file.\n",
      "2024-11-06 15:36:14,139 - modelscope - WARNING - Cannot find available config to build preprocessor at mode inference, current config: {'model_dir': 'C:\\\\Users\\\\Liudong\\\\.cache\\\\modelscope\\\\hub\\\\damo\\\\speech_dfsmn_ans_psm_48k_causal'}. trying to build by task and model information.\n",
      "2024-11-06 15:36:14,139 - modelscope - WARNING - No preprocessor key ('speech_dfsmn_ans', 'acoustic-noise-suppression') found in PREPROCESSOR_MAP, skip building preprocessor.\n"
     ]
    },
    {
     "name": "stdout",
     "output_type": "stream",
     "text": [
      "正在进行语音识别...\n",
      "Converted temp_segment.wav to temp_segment_temp.wav\n",
      "识别结果: 好。\n",
      "Converted temp_segment.wav to temp_segment_temp.wav\n",
      "识别结果: \n",
      "Converted temp_segment.wav to temp_segment_temp.wav\n",
      "识别结果: 只要你现在告诉我，你讨厌我。\n",
      "Converted temp_segment.wav to temp_segment_temp.wav\n",
      "识别结果: 我就永远在里面。\n",
      "完整识别结果: 好。 只要你现在告诉我，你讨厌我。 我就永远在里面。\n",
      "语音段数: 4\n",
      "语音段语速: 73.86 帧/秒\n",
      "7.386363636363638\n",
      "语音段语速: 174.11 帧/秒\n",
      "17.410714285714285\n",
      "语音段语速: 13.85 帧/秒\n",
      "1.3849431818181819\n",
      "语音段语速: 26.49 帧/秒\n",
      "2.649175316818442\n",
      "处理后的音频已保存至: C:/Users/Liudong/Desktop/MER/pipeline/VID_20241104_150939_adjusted.wav\n",
      "282.7362081592448\n",
      "0.3034815237955173\n",
      "Converted VID_20241104_150939_new3.wav to VID_20241104_150939_new3_temp.wav\n",
      "Recognized Text: 只要你现在告诉我，你讨厌我。\n",
      "Data has been appended to CSV file './label_test3.csv'.\n",
      "只要你现在告诉我，你讨厌我。\n",
      "MoviePy - Writing audio in C:/Users/Liudong/Desktop/MER/pipeline/VID_20241104_150939.wav\n"
     ]
    },
    {
     "name": "stderr",
     "output_type": "stream",
     "text": [
      "                                                       "
     ]
    },
    {
     "name": "stdout",
     "output_type": "stream",
     "text": [
      "MoviePy - Done.\n"
     ]
    },
    {
     "name": "stderr",
     "output_type": "stream",
     "text": [
      "2024-11-06 15:36:20,021 - modelscope - WARNING - Model revision not specified, use revision: v1.0.2\n",
      "2024-11-06 15:36:20,421 - modelscope - INFO - initiate model from C:\\Users\\Liudong\\.cache\\modelscope\\hub\\damo\\speech_dfsmn_ans_psm_48k_causal\n",
      "2024-11-06 15:36:20,421 - modelscope - INFO - initiate model from location C:\\Users\\Liudong\\.cache\\modelscope\\hub\\damo\\speech_dfsmn_ans_psm_48k_causal.\n",
      "2024-11-06 15:36:20,425 - modelscope - INFO - initialize model from C:\\Users\\Liudong\\.cache\\modelscope\\hub\\damo\\speech_dfsmn_ans_psm_48k_causal\n",
      "2024-11-06 15:36:20,448 - modelscope - WARNING - No preprocessor field found in cfg.\n",
      "2024-11-06 15:36:20,448 - modelscope - WARNING - No val key and type key found in preprocessor domain of configuration.json file.\n",
      "2024-11-06 15:36:20,448 - modelscope - WARNING - Cannot find available config to build preprocessor at mode inference, current config: {'model_dir': 'C:\\\\Users\\\\Liudong\\\\.cache\\\\modelscope\\\\hub\\\\damo\\\\speech_dfsmn_ans_psm_48k_causal'}. trying to build by task and model information.\n",
      "2024-11-06 15:36:20,453 - modelscope - WARNING - No preprocessor key ('speech_dfsmn_ans', 'acoustic-noise-suppression') found in PREPROCESSOR_MAP, skip building preprocessor.\n"
     ]
    },
    {
     "name": "stdout",
     "output_type": "stream",
     "text": [
      "正在进行语音识别...\n",
      "Converted temp_segment.wav to temp_segment_temp.wav\n",
      "识别结果: \n",
      "Converted temp_segment.wav to temp_segment_temp.wav\n",
      "识别结果: 就出来呀，小伙子。\n",
      "Converted temp_segment.wav to temp_segment_temp.wav\n",
      "识别结果: 有空聊天啊！\n",
      "完整识别结果: 就出来呀，小伙子。 有空聊天啊！\n",
      "语音段数: 3\n",
      "语音段语速: 150.00 帧/秒\n",
      "15.0\n",
      "语音段语速: 14.29 帧/秒\n",
      "1.4285714285714284\n",
      "语音段语速: 23.10 帧/秒\n",
      "2.3096355106459763\n",
      "处理后的音频已保存至: C:/Users/Liudong/Desktop/MER/pipeline/VID_20241104_150939_adjusted.wav\n",
      "264.11529462163634\n",
      "0.3246784460538178\n",
      "Converted VID_20241104_150939_new3.wav to VID_20241104_150939_new3_temp.wav\n",
      "Recognized Text: 怎么来找我的？\n",
      "Data has been appended to CSV file './label_test3.csv'.\n",
      "怎么来找我的？\n",
      "MoviePy - Writing audio in C:/Users/Liudong/Desktop/MER/pipeline/VID_20241104_150939.wav\n"
     ]
    },
    {
     "name": "stderr",
     "output_type": "stream",
     "text": [
      "                                                       "
     ]
    },
    {
     "name": "stdout",
     "output_type": "stream",
     "text": [
      "MoviePy - Done.\n"
     ]
    },
    {
     "name": "stderr",
     "output_type": "stream",
     "text": [
      "2024-11-06 15:36:23,555 - modelscope - WARNING - Model revision not specified, use revision: v1.0.2\n",
      "2024-11-06 15:36:24,096 - modelscope - INFO - initiate model from C:\\Users\\Liudong\\.cache\\modelscope\\hub\\damo\\speech_dfsmn_ans_psm_48k_causal\n",
      "2024-11-06 15:36:24,096 - modelscope - INFO - initiate model from location C:\\Users\\Liudong\\.cache\\modelscope\\hub\\damo\\speech_dfsmn_ans_psm_48k_causal.\n",
      "2024-11-06 15:36:24,096 - modelscope - INFO - initialize model from C:\\Users\\Liudong\\.cache\\modelscope\\hub\\damo\\speech_dfsmn_ans_psm_48k_causal\n",
      "2024-11-06 15:36:24,130 - modelscope - WARNING - No preprocessor field found in cfg.\n",
      "2024-11-06 15:36:24,130 - modelscope - WARNING - No val key and type key found in preprocessor domain of configuration.json file.\n",
      "2024-11-06 15:36:24,131 - modelscope - WARNING - Cannot find available config to build preprocessor at mode inference, current config: {'model_dir': 'C:\\\\Users\\\\Liudong\\\\.cache\\\\modelscope\\\\hub\\\\damo\\\\speech_dfsmn_ans_psm_48k_causal'}. trying to build by task and model information.\n",
      "2024-11-06 15:36:24,131 - modelscope - WARNING - No preprocessor key ('speech_dfsmn_ans', 'acoustic-noise-suppression') found in PREPROCESSOR_MAP, skip building preprocessor.\n"
     ]
    },
    {
     "name": "stdout",
     "output_type": "stream",
     "text": [
      "正在进行语音识别...\n",
      "Converted temp_segment.wav to temp_segment_temp.wav\n",
      "识别结果: 他的话你。\n",
      "Converted temp_segment.wav to temp_segment_temp.wav\n",
      "识别结果: 告诉我哥说我回去做还不行。\n",
      "完整识别结果: 他的话你。 告诉我哥说我回去做还不行。\n",
      "语音段数: 2\n",
      "语音段语速: 28.73 帧/秒\n",
      "2.872983870967742\n",
      "语音段语速: 10.49 帧/秒\n",
      "1.048938984415435\n",
      "处理后的音频已保存至: C:/Users/Liudong/Desktop/MER/pipeline/VID_20241104_150939_adjusted.wav\n",
      "312.9151387173075\n",
      "0.27444312136306515\n",
      "Converted VID_20241104_150939_new3.wav to VID_20241104_150939_new3_temp.wav\n",
      "Recognized Text: 前面告诉我的，说我必须做完，行吗？\n",
      "Data has been appended to CSV file './label_test3.csv'.\n",
      "前面告诉我的，说我必须做完，行吗？\n",
      "MoviePy - Writing audio in C:/Users/Liudong/Desktop/MER/pipeline/VID_20241104_150939.wav\n"
     ]
    },
    {
     "name": "stderr",
     "output_type": "stream",
     "text": [
      "                                                        "
     ]
    },
    {
     "name": "stdout",
     "output_type": "stream",
     "text": [
      "MoviePy - Done.\n"
     ]
    },
    {
     "name": "stderr",
     "output_type": "stream",
     "text": [
      "2024-11-06 15:36:28,443 - modelscope - WARNING - Model revision not specified, use revision: v1.0.2\n",
      "2024-11-06 15:36:29,148 - modelscope - INFO - initiate model from C:\\Users\\Liudong\\.cache\\modelscope\\hub\\damo\\speech_dfsmn_ans_psm_48k_causal\n",
      "2024-11-06 15:36:29,148 - modelscope - INFO - initiate model from location C:\\Users\\Liudong\\.cache\\modelscope\\hub\\damo\\speech_dfsmn_ans_psm_48k_causal.\n",
      "2024-11-06 15:36:29,148 - modelscope - INFO - initialize model from C:\\Users\\Liudong\\.cache\\modelscope\\hub\\damo\\speech_dfsmn_ans_psm_48k_causal\n",
      "2024-11-06 15:36:29,179 - modelscope - WARNING - No preprocessor field found in cfg.\n",
      "2024-11-06 15:36:29,179 - modelscope - WARNING - No val key and type key found in preprocessor domain of configuration.json file.\n",
      "2024-11-06 15:36:29,180 - modelscope - WARNING - Cannot find available config to build preprocessor at mode inference, current config: {'model_dir': 'C:\\\\Users\\\\Liudong\\\\.cache\\\\modelscope\\\\hub\\\\damo\\\\speech_dfsmn_ans_psm_48k_causal'}. trying to build by task and model information.\n",
      "2024-11-06 15:36:29,181 - modelscope - WARNING - No preprocessor key ('speech_dfsmn_ans', 'acoustic-noise-suppression') found in PREPROCESSOR_MAP, skip building preprocessor.\n"
     ]
    },
    {
     "name": "stdout",
     "output_type": "stream",
     "text": [
      "正在进行语音识别...\n",
      "Converted temp_segment.wav to temp_segment_temp.wav\n",
      "识别结果: 哎，你能不能？\n",
      "Converted temp_segment.wav to temp_segment_temp.wav\n",
      "No text content recognized!\n",
      "识别结果: None\n",
      "Converted temp_segment.wav to temp_segment_temp.wav\n",
      "识别结果: 就我现在这身儿行头。\n",
      "Converted temp_segment.wav to temp_segment_temp.wav\n",
      "识别结果: 进行不实也是。\n",
      "完整识别结果: 哎，你能不能？ 就我现在这身儿行头。 进行不实也是。\n",
      "语音段数: 4\n",
      "语音段语速: 21.01 帧/秒\n",
      "2.101293103448276\n",
      "语音段语速: 1218.75 帧/秒\n",
      "121.875\n",
      "语音段语速: 18.19 帧/秒\n",
      "1.8190298507462686\n",
      "语音段语速: 21.34 帧/秒\n",
      "2.134318403365656\n",
      "处理后的音频已保存至: C:/Users/Liudong/Desktop/MER/pipeline/VID_20241104_150939_adjusted.wav\n",
      "133.14606670436606\n",
      "0.6382161130732661\n",
      "Converted VID_20241104_150939_new3.wav to VID_20241104_150939_new3_temp.wav\n",
      "Recognized Text: 哎，你能不能调现在这个性能？\n",
      "Data has been appended to CSV file './label_test3.csv'.\n",
      "哎，你能不能调现在这个性能？\n",
      "MoviePy - Writing audio in C:/Users/Liudong/Desktop/MER/pipeline/VID_20241104_150939.wav\n"
     ]
    },
    {
     "name": "stderr",
     "output_type": "stream",
     "text": [
      "                                                                   "
     ]
    },
    {
     "name": "stdout",
     "output_type": "stream",
     "text": [
      "MoviePy - Done.\n"
     ]
    },
    {
     "name": "stderr",
     "output_type": "stream",
     "text": [
      "2024-11-06 15:36:32,899 - modelscope - WARNING - Model revision not specified, use revision: v1.0.2\n",
      "2024-11-06 15:36:33,273 - modelscope - INFO - initiate model from C:\\Users\\Liudong\\.cache\\modelscope\\hub\\damo\\speech_dfsmn_ans_psm_48k_causal\n",
      "2024-11-06 15:36:33,273 - modelscope - INFO - initiate model from location C:\\Users\\Liudong\\.cache\\modelscope\\hub\\damo\\speech_dfsmn_ans_psm_48k_causal.\n",
      "2024-11-06 15:36:33,282 - modelscope - INFO - initialize model from C:\\Users\\Liudong\\.cache\\modelscope\\hub\\damo\\speech_dfsmn_ans_psm_48k_causal\n",
      "2024-11-06 15:36:33,304 - modelscope - WARNING - No preprocessor field found in cfg.\n",
      "2024-11-06 15:36:33,304 - modelscope - WARNING - No val key and type key found in preprocessor domain of configuration.json file.\n",
      "2024-11-06 15:36:33,304 - modelscope - WARNING - Cannot find available config to build preprocessor at mode inference, current config: {'model_dir': 'C:\\\\Users\\\\Liudong\\\\.cache\\\\modelscope\\\\hub\\\\damo\\\\speech_dfsmn_ans_psm_48k_causal'}. trying to build by task and model information.\n",
      "2024-11-06 15:36:33,304 - modelscope - WARNING - No preprocessor key ('speech_dfsmn_ans', 'acoustic-noise-suppression') found in PREPROCESSOR_MAP, skip building preprocessor.\n"
     ]
    },
    {
     "name": "stdout",
     "output_type": "stream",
     "text": [
      "正在进行语音识别...\n",
      "Converted temp_segment.wav to temp_segment_temp.wav\n",
      "识别结果: 我就不练了，有一年比赛，我把标枪扎人，裁判谁身上了？\n",
      "Converted temp_segment.wav to temp_segment_temp.wav\n",
      "识别结果: 后来就被终身禁赛。\n",
      "完整识别结果: 我就不练了，有一年比赛，我把标枪扎人，裁判谁身上了？ 后来就被终身禁赛。\n",
      "语音段数: 2\n",
      "语音段语速: 7.35 帧/秒\n",
      "0.7352941176470589\n",
      "语音段语速: 17.90 帧/秒\n",
      "1.7904509283819627\n",
      "处理后的音频已保存至: C:/Users/Liudong/Desktop/MER/pipeline/VID_20241104_150939_adjusted.wav\n",
      "220.01514930045863\n",
      "0.38903124220857177\n",
      "Converted VID_20241104_150939_new3.wav to VID_20241104_150939_new3_temp.wav\n",
      "Recognized Text: 早就不练了，有一年比赛，我把标枪杀人才判人呀来就是神奇太。\n",
      "Data has been appended to CSV file './label_test3.csv'.\n",
      "早就不练了，有一年比赛，我把标枪杀人才判人呀来就是神奇太。\n",
      "MoviePy - Writing audio in C:/Users/Liudong/Desktop/MER/pipeline/VID_20241104_150939.wav\n"
     ]
    },
    {
     "name": "stderr",
     "output_type": "stream",
     "text": [
      "                                                       "
     ]
    },
    {
     "name": "stdout",
     "output_type": "stream",
     "text": [
      "MoviePy - Done.\n"
     ]
    },
    {
     "name": "stderr",
     "output_type": "stream",
     "text": [
      "2024-11-06 15:36:38,049 - modelscope - WARNING - Model revision not specified, use revision: v1.0.2\n",
      "2024-11-06 15:36:38,600 - modelscope - INFO - initiate model from C:\\Users\\Liudong\\.cache\\modelscope\\hub\\damo\\speech_dfsmn_ans_psm_48k_causal\n",
      "2024-11-06 15:36:38,600 - modelscope - INFO - initiate model from location C:\\Users\\Liudong\\.cache\\modelscope\\hub\\damo\\speech_dfsmn_ans_psm_48k_causal.\n",
      "2024-11-06 15:36:38,609 - modelscope - INFO - initialize model from C:\\Users\\Liudong\\.cache\\modelscope\\hub\\damo\\speech_dfsmn_ans_psm_48k_causal\n",
      "2024-11-06 15:36:38,640 - modelscope - WARNING - No preprocessor field found in cfg.\n",
      "2024-11-06 15:36:38,640 - modelscope - WARNING - No val key and type key found in preprocessor domain of configuration.json file.\n",
      "2024-11-06 15:36:38,641 - modelscope - WARNING - Cannot find available config to build preprocessor at mode inference, current config: {'model_dir': 'C:\\\\Users\\\\Liudong\\\\.cache\\\\modelscope\\\\hub\\\\damo\\\\speech_dfsmn_ans_psm_48k_causal'}. trying to build by task and model information.\n",
      "2024-11-06 15:36:38,641 - modelscope - WARNING - No preprocessor key ('speech_dfsmn_ans', 'acoustic-noise-suppression') found in PREPROCESSOR_MAP, skip building preprocessor.\n"
     ]
    },
    {
     "name": "stdout",
     "output_type": "stream",
     "text": [
      "正在进行语音识别...\n",
      "Converted temp_segment.wav to temp_segment_temp.wav\n",
      "No text content recognized!\n",
      "识别结果: None\n",
      "Converted temp_segment.wav to temp_segment_temp.wav\n",
      "No text content recognized!\n",
      "识别结果: None\n",
      "Converted temp_segment.wav to temp_segment_temp.wav\n",
      "识别结果: 我不知道啊！\n",
      "完整识别结果: 我不知道啊！\n",
      "语音段数: 3\n",
      "语音段语速: 562.50 帧/秒\n",
      "56.25\n",
      "语音段语速: 80.36 帧/秒\n",
      "8.035714285714285\n",
      "语音段语速: 2.82 帧/秒\n",
      "语速在标准范围内，无需调整。\n",
      "处理后的音频已保存至: C:/Users/Liudong/Desktop/MER/pipeline/VID_20241104_150939_adjusted.wav\n",
      "238.14113980155054\n",
      "0.3597257597525338\n",
      "Converted VID_20241104_150939_new3.wav to VID_20241104_150939_new3_temp.wav\n",
      "Recognized Text: 可能。\n",
      "Data has been appended to CSV file './label_test3.csv'.\n",
      "可能。\n",
      "MoviePy - Writing audio in C:/Users/Liudong/Desktop/MER/pipeline/VID_20241104_150939.wav\n"
     ]
    },
    {
     "name": "stderr",
     "output_type": "stream",
     "text": [
      "                                                       "
     ]
    },
    {
     "name": "stdout",
     "output_type": "stream",
     "text": [
      "MoviePy - Done.\n"
     ]
    },
    {
     "name": "stderr",
     "output_type": "stream",
     "text": [
      "2024-11-06 15:36:43,927 - modelscope - WARNING - Model revision not specified, use revision: v1.0.2\n",
      "2024-11-06 15:36:44,474 - modelscope - INFO - initiate model from C:\\Users\\Liudong\\.cache\\modelscope\\hub\\damo\\speech_dfsmn_ans_psm_48k_causal\n",
      "2024-11-06 15:36:44,474 - modelscope - INFO - initiate model from location C:\\Users\\Liudong\\.cache\\modelscope\\hub\\damo\\speech_dfsmn_ans_psm_48k_causal.\n",
      "2024-11-06 15:36:44,474 - modelscope - INFO - initialize model from C:\\Users\\Liudong\\.cache\\modelscope\\hub\\damo\\speech_dfsmn_ans_psm_48k_causal\n",
      "2024-11-06 15:36:44,511 - modelscope - WARNING - No preprocessor field found in cfg.\n",
      "2024-11-06 15:36:44,511 - modelscope - WARNING - No val key and type key found in preprocessor domain of configuration.json file.\n",
      "2024-11-06 15:36:44,511 - modelscope - WARNING - Cannot find available config to build preprocessor at mode inference, current config: {'model_dir': 'C:\\\\Users\\\\Liudong\\\\.cache\\\\modelscope\\\\hub\\\\damo\\\\speech_dfsmn_ans_psm_48k_causal'}. trying to build by task and model information.\n",
      "2024-11-06 15:36:44,511 - modelscope - WARNING - No preprocessor key ('speech_dfsmn_ans', 'acoustic-noise-suppression') found in PREPROCESSOR_MAP, skip building preprocessor.\n"
     ]
    },
    {
     "name": "stdout",
     "output_type": "stream",
     "text": [
      "正在进行语音识别...\n",
      "Converted temp_segment.wav to temp_segment_temp.wav\n",
      "识别结果: 那你慢点吃。\n",
      "完整识别结果: 那你慢点吃。\n",
      "语音段数: 1\n",
      "语音段语速: 2.42 帧/秒\n",
      "4.124444444444445\n",
      "处理后的音频已保存至: C:/Users/Liudong/Desktop/MER/pipeline/VID_20241104_150939_adjusted.wav\n",
      "294.5058969760313\n",
      "0.2914546403543848\n",
      "Converted VID_20241104_150939_new3.wav to VID_20241104_150939_new3_temp.wav\n",
      "Recognized Text: 想下什么？\n",
      "Data has been appended to CSV file './label_test3.csv'.\n",
      "想下什么？\n",
      "MoviePy - Writing audio in C:/Users/Liudong/Desktop/MER/pipeline/VID_20241104_150939.wav\n"
     ]
    },
    {
     "name": "stderr",
     "output_type": "stream",
     "text": [
      "                                                                   "
     ]
    },
    {
     "name": "stdout",
     "output_type": "stream",
     "text": [
      "MoviePy - Done.\n"
     ]
    },
    {
     "name": "stderr",
     "output_type": "stream",
     "text": [
      "2024-11-06 15:36:47,614 - modelscope - WARNING - Model revision not specified, use revision: v1.0.2\n",
      "2024-11-06 15:36:47,918 - modelscope - INFO - initiate model from C:\\Users\\Liudong\\.cache\\modelscope\\hub\\damo\\speech_dfsmn_ans_psm_48k_causal\n",
      "2024-11-06 15:36:47,919 - modelscope - INFO - initiate model from location C:\\Users\\Liudong\\.cache\\modelscope\\hub\\damo\\speech_dfsmn_ans_psm_48k_causal.\n",
      "2024-11-06 15:36:47,923 - modelscope - INFO - initialize model from C:\\Users\\Liudong\\.cache\\modelscope\\hub\\damo\\speech_dfsmn_ans_psm_48k_causal\n",
      "2024-11-06 15:36:47,947 - modelscope - WARNING - No preprocessor field found in cfg.\n",
      "2024-11-06 15:36:47,947 - modelscope - WARNING - No val key and type key found in preprocessor domain of configuration.json file.\n",
      "2024-11-06 15:36:47,947 - modelscope - WARNING - Cannot find available config to build preprocessor at mode inference, current config: {'model_dir': 'C:\\\\Users\\\\Liudong\\\\.cache\\\\modelscope\\\\hub\\\\damo\\\\speech_dfsmn_ans_psm_48k_causal'}. trying to build by task and model information.\n",
      "2024-11-06 15:36:47,947 - modelscope - WARNING - No preprocessor key ('speech_dfsmn_ans', 'acoustic-noise-suppression') found in PREPROCESSOR_MAP, skip building preprocessor.\n"
     ]
    },
    {
     "name": "stdout",
     "output_type": "stream",
     "text": [
      "正在进行语音识别...\n",
      "Converted temp_segment.wav to temp_segment_temp.wav\n",
      "识别结果: 曾经做过一个梦。\n",
      "Converted temp_segment.wav to temp_segment_temp.wav\n",
      "识别结果: \n",
      "Converted temp_segment.wav to temp_segment_temp.wav\n",
      "识别结果: \n",
      "Converted temp_segment.wav to temp_segment_temp.wav\n",
      "No text content recognized!\n",
      "识别结果: None\n",
      "Converted temp_segment.wav to temp_segment_temp.wav\n",
      "No text content recognized!\n",
      "识别结果: None\n",
      "Converted temp_segment.wav to temp_segment_temp.wav\n",
      "No text content recognized!\n",
      "识别结果: None\n",
      "Converted temp_segment.wav to temp_segment_temp.wav\n",
      "No text content recognized!\n",
      "识别结果: None\n",
      "Converted temp_segment.wav to temp_segment_temp.wav\n",
      "No text content recognized!\n",
      "识别结果: None\n",
      "Converted temp_segment.wav to temp_segment_temp.wav\n",
      "识别结果: \n",
      "Converted temp_segment.wav to temp_segment_temp.wav\n",
      "识别结果: \n",
      "Converted temp_segment.wav to temp_segment_temp.wav\n",
      "No text content recognized!\n",
      "识别结果: None\n",
      "Converted temp_segment.wav to temp_segment_temp.wav\n",
      "识别结果: 不想听。\n",
      "Converted temp_segment.wav to temp_segment_temp.wav\n",
      "识别结果: \n",
      "Converted temp_segment.wav to temp_segment_temp.wav\n",
      "识别结果: 梦见咱俩结婚。\n",
      "Converted temp_segment.wav to temp_segment_temp.wav\n",
      "识别结果: \n",
      "Converted temp_segment.wav to temp_segment_temp.wav\n",
      "识别结果: \n",
      "Converted temp_segment.wav to temp_segment_temp.wav\n",
      "No text content recognized!\n",
      "识别结果: None\n",
      "完整识别结果: 曾经做过一个梦。 不想听。 梦见咱俩结婚。\n",
      "语音段数: 17\n",
      "语音段语速: 18.93 帧/秒\n",
      "1.8930288461538463\n",
      "语音段语速: 123.05 帧/秒\n",
      "12.3046875\n",
      "语音段语速: 82.03 帧/秒\n",
      "8.203125\n",
      "语音段语速: 393.75 帧/秒\n",
      "39.375\n",
      "语音段语速: 1968.75 帧/秒\n",
      "196.875\n",
      "语音段语速: 393.75 帧/秒\n",
      "39.375\n",
      "语音段语速: 281.25 帧/秒\n",
      "28.125\n",
      "语音段语速: 1968.75 帧/秒\n",
      "196.875\n",
      "语音段语速: 218.75 帧/秒\n",
      "21.875\n",
      "语音段语速: 72.92 帧/秒\n",
      "7.291666666666667\n",
      "语音段语速: 1968.75 帧/秒\n",
      "196.875\n",
      "语音段语速: 196.88 帧/秒\n",
      "19.6875\n",
      "语音段语速: 164.06 帧/秒\n",
      "16.40625\n",
      "语音段语速: 11.93 帧/秒\n",
      "1.1931818181818181\n",
      "语音段语速: 123.05 帧/秒\n",
      "12.3046875\n",
      "语音段语速: 151.44 帧/秒\n",
      "15.14423076923077\n",
      "语音段语速: 492.19 帧/秒\n",
      "49.21875\n",
      "处理后的音频已保存至: C:/Users/Liudong/Desktop/MER/pipeline/VID_20241104_150939_adjusted.wav\n",
      "101.24607200647077\n",
      "0.8345228064560051\n",
      "Converted VID_20241104_150939_new3.wav to VID_20241104_150939_new3_temp.wav\n",
      "Recognized Text: 都怎么了？\n",
      "Data has been appended to CSV file './label_test3.csv'.\n",
      "都怎么了？\n",
      "MoviePy - Writing audio in C:/Users/Liudong/Desktop/MER/pipeline/VID_20241104_150939.wav\n"
     ]
    },
    {
     "name": "stderr",
     "output_type": "stream",
     "text": [
      "                                                        "
     ]
    },
    {
     "name": "stdout",
     "output_type": "stream",
     "text": [
      "MoviePy - Done.\n"
     ]
    },
    {
     "name": "stderr",
     "output_type": "stream",
     "text": [
      "2024-11-06 15:36:53,426 - modelscope - WARNING - Model revision not specified, use revision: v1.0.2\n",
      "2024-11-06 15:36:53,768 - modelscope - INFO - initiate model from C:\\Users\\Liudong\\.cache\\modelscope\\hub\\damo\\speech_dfsmn_ans_psm_48k_causal\n",
      "2024-11-06 15:36:53,769 - modelscope - INFO - initiate model from location C:\\Users\\Liudong\\.cache\\modelscope\\hub\\damo\\speech_dfsmn_ans_psm_48k_causal.\n",
      "2024-11-06 15:36:53,774 - modelscope - INFO - initialize model from C:\\Users\\Liudong\\.cache\\modelscope\\hub\\damo\\speech_dfsmn_ans_psm_48k_causal\n",
      "2024-11-06 15:36:53,802 - modelscope - WARNING - No preprocessor field found in cfg.\n",
      "2024-11-06 15:36:53,802 - modelscope - WARNING - No val key and type key found in preprocessor domain of configuration.json file.\n",
      "2024-11-06 15:36:53,803 - modelscope - WARNING - Cannot find available config to build preprocessor at mode inference, current config: {'model_dir': 'C:\\\\Users\\\\Liudong\\\\.cache\\\\modelscope\\\\hub\\\\damo\\\\speech_dfsmn_ans_psm_48k_causal'}. trying to build by task and model information.\n",
      "2024-11-06 15:36:53,803 - modelscope - WARNING - No preprocessor key ('speech_dfsmn_ans', 'acoustic-noise-suppression') found in PREPROCESSOR_MAP, skip building preprocessor.\n"
     ]
    },
    {
     "name": "stdout",
     "output_type": "stream",
     "text": [
      "正在进行语音识别...\n",
      "Converted temp_segment.wav to temp_segment_temp.wav\n",
      "识别结果: 你非得让我去演。\n",
      "Converted temp_segment.wav to temp_segment_temp.wav\n",
      "识别结果: 真的。\n",
      "Converted temp_segment.wav to temp_segment_temp.wav\n",
      "No text content recognized!\n",
      "识别结果: None\n",
      "Converted temp_segment.wav to temp_segment_temp.wav\n",
      "识别结果: 把家里所有的灯好，其实藏在暖气片后面。\n",
      "完整识别结果: 你非得让我去演。 真的。 把家里所有的灯好，其实藏在暖气片后面。\n",
      "语音段数: 4\n",
      "语音段语速: 30.30 帧/秒\n",
      "3.0303030303030303\n",
      "语音段语速: 33.71 帧/秒\n",
      "3.370786516853933\n",
      "语音段语速: 750.00 帧/秒\n",
      "75.0\n",
      "语音段语速: 14.95 帧/秒\n",
      "1.4949196091408106\n",
      "处理后的音频已保存至: C:/Users/Liudong/Desktop/MER/pipeline/VID_20241104_150939_adjusted.wav\n",
      "170.92531276319255\n",
      "0.49916415195407404\n",
      "Converted VID_20241104_150939_new3.wav to VID_20241104_150939_new3_temp.wav\n",
      "Recognized Text: 而且狠心狠心很辛苦。\n",
      "Data has been appended to CSV file './label_test3.csv'.\n",
      "而且狠心狠心很辛苦。\n",
      "MoviePy - Writing audio in C:/Users/Liudong/Desktop/MER/pipeline/VID_20241104_150939.wav\n"
     ]
    },
    {
     "name": "stderr",
     "output_type": "stream",
     "text": [
      "                                                                    "
     ]
    },
    {
     "name": "stdout",
     "output_type": "stream",
     "text": [
      "MoviePy - Done.\n"
     ]
    },
    {
     "name": "stderr",
     "output_type": "stream",
     "text": [
      "2024-11-06 15:36:58,003 - modelscope - WARNING - Model revision not specified, use revision: v1.0.2\n",
      "2024-11-06 15:36:58,294 - modelscope - INFO - initiate model from C:\\Users\\Liudong\\.cache\\modelscope\\hub\\damo\\speech_dfsmn_ans_psm_48k_causal\n",
      "2024-11-06 15:36:58,295 - modelscope - INFO - initiate model from location C:\\Users\\Liudong\\.cache\\modelscope\\hub\\damo\\speech_dfsmn_ans_psm_48k_causal.\n",
      "2024-11-06 15:36:58,299 - modelscope - INFO - initialize model from C:\\Users\\Liudong\\.cache\\modelscope\\hub\\damo\\speech_dfsmn_ans_psm_48k_causal\n",
      "2024-11-06 15:36:58,327 - modelscope - WARNING - No preprocessor field found in cfg.\n",
      "2024-11-06 15:36:58,328 - modelscope - WARNING - No val key and type key found in preprocessor domain of configuration.json file.\n",
      "2024-11-06 15:36:58,328 - modelscope - WARNING - Cannot find available config to build preprocessor at mode inference, current config: {'model_dir': 'C:\\\\Users\\\\Liudong\\\\.cache\\\\modelscope\\\\hub\\\\damo\\\\speech_dfsmn_ans_psm_48k_causal'}. trying to build by task and model information.\n",
      "2024-11-06 15:36:58,329 - modelscope - WARNING - No preprocessor key ('speech_dfsmn_ans', 'acoustic-noise-suppression') found in PREPROCESSOR_MAP, skip building preprocessor.\n"
     ]
    },
    {
     "name": "stdout",
     "output_type": "stream",
     "text": [
      "正在进行语音识别...\n",
      "Converted temp_segment.wav to temp_segment_temp.wav\n",
      "识别结果: 你说茴香的味道。\n",
      "Converted temp_segment.wav to temp_segment_temp.wav\n",
      "识别结果: \n",
      "Converted temp_segment.wav to temp_segment_temp.wav\n",
      "识别结果: 能让我在将来厌倦你再说我多久会想你的。\n",
      "Converted temp_segment.wav to temp_segment_temp.wav\n",
      "识别结果: \n",
      "完整识别结果: 你说茴香的味道。 能让我在将来厌倦你再说我多久会想你的。\n",
      "语音段数: 4\n",
      "语音段语速: 25.74 帧/秒\n",
      "2.5735294117647056\n",
      "语音段语速: 218.75 帧/秒\n",
      "21.875\n",
      "语音段语速: 10.21 帧/秒\n",
      "1.0214007782101167\n",
      "语音段语速: 49.81 帧/秒\n",
      "4.980544747081713\n",
      "处理后的音频已保存至: C:/Users/Liudong/Desktop/MER/pipeline/VID_20241104_150939_adjusted.wav\n",
      "147.31276399993845\n",
      "0.5778528911952694\n",
      "Converted VID_20241104_150939_new3.wav to VID_20241104_150939_new3_temp.wav\n",
      "Recognized Text: 要回家了，就让我在家里呆着，你再瘦的多，这会让你更好。\n",
      "Data has been appended to CSV file './label_test3.csv'.\n",
      "要回家了，就让我在家里呆着，你再瘦的多，这会让你更好。\n",
      "MoviePy - Writing audio in C:/Users/Liudong/Desktop/MER/pipeline/VID_20241104_150939.wav\n"
     ]
    },
    {
     "name": "stderr",
     "output_type": "stream",
     "text": [
      "                                                                    "
     ]
    },
    {
     "name": "stdout",
     "output_type": "stream",
     "text": [
      "MoviePy - Done.\n"
     ]
    },
    {
     "name": "stderr",
     "output_type": "stream",
     "text": [
      "2024-11-06 15:37:01,857 - modelscope - WARNING - Model revision not specified, use revision: v1.0.2\n",
      "2024-11-06 15:37:02,271 - modelscope - INFO - initiate model from C:\\Users\\Liudong\\.cache\\modelscope\\hub\\damo\\speech_dfsmn_ans_psm_48k_causal\n",
      "2024-11-06 15:37:02,271 - modelscope - INFO - initiate model from location C:\\Users\\Liudong\\.cache\\modelscope\\hub\\damo\\speech_dfsmn_ans_psm_48k_causal.\n",
      "2024-11-06 15:37:02,271 - modelscope - INFO - initialize model from C:\\Users\\Liudong\\.cache\\modelscope\\hub\\damo\\speech_dfsmn_ans_psm_48k_causal\n",
      "2024-11-06 15:37:02,306 - modelscope - WARNING - No preprocessor field found in cfg.\n",
      "2024-11-06 15:37:02,307 - modelscope - WARNING - No val key and type key found in preprocessor domain of configuration.json file.\n",
      "2024-11-06 15:37:02,308 - modelscope - WARNING - Cannot find available config to build preprocessor at mode inference, current config: {'model_dir': 'C:\\\\Users\\\\Liudong\\\\.cache\\\\modelscope\\\\hub\\\\damo\\\\speech_dfsmn_ans_psm_48k_causal'}. trying to build by task and model information.\n",
      "2024-11-06 15:37:02,308 - modelscope - WARNING - No preprocessor key ('speech_dfsmn_ans', 'acoustic-noise-suppression') found in PREPROCESSOR_MAP, skip building preprocessor.\n"
     ]
    },
    {
     "name": "stdout",
     "output_type": "stream",
     "text": [
      "正在进行语音识别...\n",
      "Converted temp_segment.wav to temp_segment_temp.wav\n",
      "No text content recognized!\n",
      "识别结果: None\n",
      "Converted temp_segment.wav to temp_segment_temp.wav\n",
      "识别结果: 对。\n",
      "Converted temp_segment.wav to temp_segment_temp.wav\n",
      "识别结果: 行了行了，差不多行了。\n",
      "Converted temp_segment.wav to temp_segment_temp.wav\n",
      "识别结果: 差不多就知道了，我为了打败你这套连招我练了多少年？\n",
      "完整识别结果: 对。 行了行了，差不多行了。 差不多就知道了，我为了打败你这套连招我练了多少年？\n",
      "语音段数: 4\n",
      "语音段语速: 750.00 帧/秒\n",
      "75.0\n",
      "语音段语速: 58.59 帧/秒\n",
      "5.859375\n",
      "语音段语速: 12.84 帧/秒\n",
      "1.284246575342466\n",
      "语音段语速: 10.57 帧/秒\n",
      "1.0574317626065692\n",
      "处理后的音频已保存至: C:/Users/Liudong/Desktop/MER/pipeline/VID_20241104_150939_adjusted.wav\n",
      "267.8857445842445\n",
      "0.32015064039930086\n",
      "Converted VID_20241104_150939_new3.wav to VID_20241104_150939_new3_temp.wav\n",
      "Recognized Text: 就行了吧？瞎子上课不行了，下可热了，我说那你这栋给他开了多少年了？\n",
      "Data has been appended to CSV file './label_test3.csv'.\n",
      "就行了吧？瞎子上课不行了，下可热了，我说那你这栋给他开了多少年了？\n",
      "MoviePy - Writing audio in C:/Users/Liudong/Desktop/MER/pipeline/VID_20241104_150939.wav\n"
     ]
    },
    {
     "name": "stderr",
     "output_type": "stream",
     "text": [
      "                                                                    "
     ]
    },
    {
     "name": "stdout",
     "output_type": "stream",
     "text": [
      "MoviePy - Done.\n"
     ]
    },
    {
     "name": "stderr",
     "output_type": "stream",
     "text": [
      "2024-11-06 15:37:07,598 - modelscope - WARNING - Model revision not specified, use revision: v1.0.2\n",
      "2024-11-06 15:37:07,901 - modelscope - INFO - initiate model from C:\\Users\\Liudong\\.cache\\modelscope\\hub\\damo\\speech_dfsmn_ans_psm_48k_causal\n",
      "2024-11-06 15:37:07,902 - modelscope - INFO - initiate model from location C:\\Users\\Liudong\\.cache\\modelscope\\hub\\damo\\speech_dfsmn_ans_psm_48k_causal.\n",
      "2024-11-06 15:37:07,906 - modelscope - INFO - initialize model from C:\\Users\\Liudong\\.cache\\modelscope\\hub\\damo\\speech_dfsmn_ans_psm_48k_causal\n",
      "2024-11-06 15:37:07,929 - modelscope - WARNING - No preprocessor field found in cfg.\n",
      "2024-11-06 15:37:07,929 - modelscope - WARNING - No val key and type key found in preprocessor domain of configuration.json file.\n",
      "2024-11-06 15:37:07,929 - modelscope - WARNING - Cannot find available config to build preprocessor at mode inference, current config: {'model_dir': 'C:\\\\Users\\\\Liudong\\\\.cache\\\\modelscope\\\\hub\\\\damo\\\\speech_dfsmn_ans_psm_48k_causal'}. trying to build by task and model information.\n",
      "2024-11-06 15:37:07,929 - modelscope - WARNING - No preprocessor key ('speech_dfsmn_ans', 'acoustic-noise-suppression') found in PREPROCESSOR_MAP, skip building preprocessor.\n"
     ]
    },
    {
     "name": "stdout",
     "output_type": "stream",
     "text": [
      "正在进行语音识别...\n",
      "Converted temp_segment.wav to temp_segment_temp.wav\n",
      "No text content recognized!\n",
      "识别结果: None\n",
      "Converted temp_segment.wav to temp_segment_temp.wav\n",
      "No text content recognized!\n",
      "识别结果: None\n",
      "Converted temp_segment.wav to temp_segment_temp.wav\n",
      "No text content recognized!\n",
      "识别结果: None\n",
      "Converted temp_segment.wav to temp_segment_temp.wav\n",
      "识别结果: \n",
      "Converted temp_segment.wav to temp_segment_temp.wav\n",
      "识别结果: \n",
      "Converted temp_segment.wav to temp_segment_temp.wav\n",
      "No text content recognized!\n",
      "识别结果: None\n",
      "Converted temp_segment.wav to temp_segment_temp.wav\n",
      "No text content recognized!\n",
      "识别结果: None\n",
      "Converted temp_segment.wav to temp_segment_temp.wav\n",
      "识别结果: \n",
      "Converted temp_segment.wav to temp_segment_temp.wav\n",
      "识别结果: \n",
      "Converted temp_segment.wav to temp_segment_temp.wav\n",
      "No text content recognized!\n",
      "识别结果: None\n",
      "Converted temp_segment.wav to temp_segment_temp.wav\n",
      "识别结果: 他出手真记得了。\n",
      "Converted temp_segment.wav to temp_segment_temp.wav\n",
      "识别结果: 啊？\n",
      "Converted temp_segment.wav to temp_segment_temp.wav\n",
      "No text content recognized!\n",
      "识别结果: None\n",
      "Converted temp_segment.wav to temp_segment_temp.wav\n",
      "识别结果: 对对。\n",
      "Converted temp_segment.wav to temp_segment_temp.wav\n",
      "识别结果: \n",
      "Converted temp_segment.wav to temp_segment_temp.wav\n",
      "识别结果: 我像个傻逼似的。\n",
      "完整识别结果: 他出手真记得了。 啊？ 对对。 我像个傻逼似的。\n",
      "语音段数: 16\n",
      "语音段语速: 375.00 帧/秒\n",
      "37.5\n",
      "语音段语速: 750.00 帧/秒\n",
      "75.0\n",
      "语音段语速: 375.00 帧/秒\n",
      "37.5\n",
      "语音段语速: 225.00 帧/秒\n",
      "22.499999999999996\n",
      "语音段语速: 140.62 帧/秒\n",
      "14.0625\n",
      "语音段语速: 450.00 帧/秒\n",
      "44.99999999999999\n",
      "语音段语速: 450.00 帧/秒\n",
      "44.99999999999999\n",
      "语音段语速: 97.83 帧/秒\n",
      "9.782608695652176\n",
      "语音段语速: 118.42 帧/秒\n",
      "11.842105263157894\n",
      "语音段语速: 2250.00 帧/秒\n",
      "225.0\n",
      "语音段语速: 19.91 帧/秒\n",
      "1.9911504424778763\n",
      "语音段语速: 42.45 帧/秒\n",
      "4.245283018867925\n",
      "语音段语速: 450.00 帧/秒\n",
      "44.99999999999999\n",
      "语音段语速: 62.50 帧/秒\n",
      "6.25\n",
      "语音段语速: 112.50 帧/秒\n",
      "11.249999999999998\n",
      "语音段语速: 21.57 帧/秒\n",
      "2.1569398415997303\n",
      "处理后的音频已保存至: C:/Users/Liudong/Desktop/MER/pipeline/VID_20241104_150939_adjusted.wav\n",
      "110.47026324166579\n",
      "0.7663595231308367\n",
      "Converted VID_20241104_150939_new3.wav to VID_20241104_150939_new3_temp.wav\n",
      "Recognized Text: 他说不记得了。\n",
      "Data has been appended to CSV file './label_test3.csv'.\n",
      "他说不记得了。\n",
      "MoviePy - Writing audio in C:/Users/Liudong/Desktop/MER/pipeline/VID_20241104_150939.wav\n"
     ]
    },
    {
     "name": "stderr",
     "output_type": "stream",
     "text": [
      "                                                       "
     ]
    },
    {
     "name": "stdout",
     "output_type": "stream",
     "text": [
      "MoviePy - Done.\n"
     ]
    },
    {
     "name": "stderr",
     "output_type": "stream",
     "text": [
      "2024-11-06 15:37:14,244 - modelscope - WARNING - Model revision not specified, use revision: v1.0.2\n",
      "2024-11-06 15:37:14,520 - modelscope - INFO - initiate model from C:\\Users\\Liudong\\.cache\\modelscope\\hub\\damo\\speech_dfsmn_ans_psm_48k_causal\n",
      "2024-11-06 15:37:14,520 - modelscope - INFO - initiate model from location C:\\Users\\Liudong\\.cache\\modelscope\\hub\\damo\\speech_dfsmn_ans_psm_48k_causal.\n",
      "2024-11-06 15:37:14,531 - modelscope - INFO - initialize model from C:\\Users\\Liudong\\.cache\\modelscope\\hub\\damo\\speech_dfsmn_ans_psm_48k_causal\n",
      "2024-11-06 15:37:14,554 - modelscope - WARNING - No preprocessor field found in cfg.\n",
      "2024-11-06 15:37:14,554 - modelscope - WARNING - No val key and type key found in preprocessor domain of configuration.json file.\n",
      "2024-11-06 15:37:14,554 - modelscope - WARNING - Cannot find available config to build preprocessor at mode inference, current config: {'model_dir': 'C:\\\\Users\\\\Liudong\\\\.cache\\\\modelscope\\\\hub\\\\damo\\\\speech_dfsmn_ans_psm_48k_causal'}. trying to build by task and model information.\n",
      "2024-11-06 15:37:14,554 - modelscope - WARNING - No preprocessor key ('speech_dfsmn_ans', 'acoustic-noise-suppression') found in PREPROCESSOR_MAP, skip building preprocessor.\n"
     ]
    },
    {
     "name": "stdout",
     "output_type": "stream",
     "text": [
      "正在进行语音识别...\n",
      "Converted temp_segment.wav to temp_segment_temp.wav\n",
      "No text content recognized!\n",
      "识别结果: None\n",
      "Converted temp_segment.wav to temp_segment_temp.wav\n",
      "识别结果: 谁那么不知道？敢抢下落的女。\n",
      "完整识别结果: 谁那么不知道？敢抢下落的女。\n",
      "语音段数: 2\n",
      "语音段语速: 437.50 帧/秒\n",
      "43.75\n",
      "语音段语速: 7.39 帧/秒\n",
      "0.7394040755248448\n",
      "处理后的音频已保存至: C:/Users/Liudong/Desktop/MER/pipeline/VID_20241104_150939_adjusted.wav\n",
      "270.31872915566413\n",
      "0.317295391512235\n",
      "Converted VID_20241104_150939_new3.wav to VID_20241104_150939_new3_temp.wav\n",
      "Recognized Text: 谁这么不像咱想下落的女人？\n",
      "Data has been appended to CSV file './label_test3.csv'.\n",
      "谁这么不像咱想下落的女人？\n",
      "MoviePy - Writing audio in C:/Users/Liudong/Desktop/MER/pipeline/VID_20241104_150939.wav\n"
     ]
    },
    {
     "name": "stderr",
     "output_type": "stream",
     "text": [
      "                                                       "
     ]
    },
    {
     "name": "stdout",
     "output_type": "stream",
     "text": [
      "MoviePy - Done.\n"
     ]
    },
    {
     "name": "stderr",
     "output_type": "stream",
     "text": [
      "2024-11-06 15:37:17,046 - modelscope - WARNING - Model revision not specified, use revision: v1.0.2\n",
      "2024-11-06 15:37:17,368 - modelscope - INFO - initiate model from C:\\Users\\Liudong\\.cache\\modelscope\\hub\\damo\\speech_dfsmn_ans_psm_48k_causal\n",
      "2024-11-06 15:37:17,369 - modelscope - INFO - initiate model from location C:\\Users\\Liudong\\.cache\\modelscope\\hub\\damo\\speech_dfsmn_ans_psm_48k_causal.\n",
      "2024-11-06 15:37:17,373 - modelscope - INFO - initialize model from C:\\Users\\Liudong\\.cache\\modelscope\\hub\\damo\\speech_dfsmn_ans_psm_48k_causal\n",
      "2024-11-06 15:37:17,399 - modelscope - WARNING - No preprocessor field found in cfg.\n",
      "2024-11-06 15:37:17,399 - modelscope - WARNING - No val key and type key found in preprocessor domain of configuration.json file.\n",
      "2024-11-06 15:37:17,400 - modelscope - WARNING - Cannot find available config to build preprocessor at mode inference, current config: {'model_dir': 'C:\\\\Users\\\\Liudong\\\\.cache\\\\modelscope\\\\hub\\\\damo\\\\speech_dfsmn_ans_psm_48k_causal'}. trying to build by task and model information.\n",
      "2024-11-06 15:37:17,400 - modelscope - WARNING - No preprocessor key ('speech_dfsmn_ans', 'acoustic-noise-suppression') found in PREPROCESSOR_MAP, skip building preprocessor.\n"
     ]
    },
    {
     "name": "stdout",
     "output_type": "stream",
     "text": [
      "正在进行语音识别...\n",
      "Converted temp_segment.wav to temp_segment_temp.wav\n",
      "识别结果: \n",
      "Converted temp_segment.wav to temp_segment_temp.wav\n",
      "识别结果: 爸爸带。\n",
      "Converted temp_segment.wav to temp_segment_temp.wav\n",
      "识别结果: \n",
      "完整识别结果: 爸爸带。\n",
      "语音段数: 3\n",
      "语音段语速: 37.50 帧/秒\n",
      "3.75\n",
      "语音段语速: 1.88 帧/秒\n",
      "5.333333333333333\n",
      "语音段语速: 9.38 帧/秒\n",
      "0.9375\n",
      "处理后的音频已保存至: C:/Users/Liudong/Desktop/MER/pipeline/VID_20241104_150939_adjusted.wav\n",
      "244.20183401981518\n",
      "0.3508878076866356\n",
      "Converted VID_20241104_150939_new3.wav to VID_20241104_150939_new3_temp.wav\n",
      "Recognized Text: 八九十五。\n",
      "Data has been appended to CSV file './label_test3.csv'.\n",
      "八九十五。\n",
      "MoviePy - Writing audio in C:/Users/Liudong/Desktop/MER/pipeline/VID_20241104_150939.wav\n"
     ]
    },
    {
     "name": "stderr",
     "output_type": "stream",
     "text": [
      "                                                       "
     ]
    },
    {
     "name": "stdout",
     "output_type": "stream",
     "text": [
      "MoviePy - Done.\n"
     ]
    },
    {
     "name": "stderr",
     "output_type": "stream",
     "text": [
      "2024-11-06 15:37:19,986 - modelscope - WARNING - Model revision not specified, use revision: v1.0.2\n",
      "2024-11-06 15:37:20,255 - modelscope - INFO - initiate model from C:\\Users\\Liudong\\.cache\\modelscope\\hub\\damo\\speech_dfsmn_ans_psm_48k_causal\n",
      "2024-11-06 15:37:20,255 - modelscope - INFO - initiate model from location C:\\Users\\Liudong\\.cache\\modelscope\\hub\\damo\\speech_dfsmn_ans_psm_48k_causal.\n",
      "2024-11-06 15:37:20,264 - modelscope - INFO - initialize model from C:\\Users\\Liudong\\.cache\\modelscope\\hub\\damo\\speech_dfsmn_ans_psm_48k_causal\n",
      "2024-11-06 15:37:20,288 - modelscope - WARNING - No preprocessor field found in cfg.\n",
      "2024-11-06 15:37:20,289 - modelscope - WARNING - No val key and type key found in preprocessor domain of configuration.json file.\n",
      "2024-11-06 15:37:20,289 - modelscope - WARNING - Cannot find available config to build preprocessor at mode inference, current config: {'model_dir': 'C:\\\\Users\\\\Liudong\\\\.cache\\\\modelscope\\\\hub\\\\damo\\\\speech_dfsmn_ans_psm_48k_causal'}. trying to build by task and model information.\n",
      "2024-11-06 15:37:20,289 - modelscope - WARNING - No preprocessor key ('speech_dfsmn_ans', 'acoustic-noise-suppression') found in PREPROCESSOR_MAP, skip building preprocessor.\n"
     ]
    },
    {
     "name": "stdout",
     "output_type": "stream",
     "text": [
      "正在进行语音识别...\n",
      "Converted temp_segment.wav to temp_segment_temp.wav\n",
      "识别结果: 嗨。\n",
      "Converted temp_segment.wav to temp_segment_temp.wav\n",
      "识别结果: 我今天去了。\n",
      "Converted temp_segment.wav to temp_segment_temp.wav\n",
      "No text content recognized!\n",
      "识别结果: None\n",
      "Converted temp_segment.wav to temp_segment_temp.wav\n",
      "识别结果: \n",
      "Converted temp_segment.wav to temp_segment_temp.wav\n",
      "识别结果: 啊？\n",
      "完整识别结果: 嗨。 我今天去了。 啊？\n",
      "语音段数: 5\n",
      "语音段语速: 66.18 帧/秒\n",
      "6.617647058823529\n",
      "语音段语速: 8.65 帧/秒\n",
      "0.8653846153846153\n",
      "语音段语速: 140.62 帧/秒\n",
      "14.0625\n",
      "语音段语速: 125.00 帧/秒\n",
      "12.5\n",
      "语音段语速: 67.41 帧/秒\n",
      "6.740784084259802\n",
      "处理后的音频已保存至: C:/Users/Liudong/Desktop/MER/pipeline/VID_20241104_150939_adjusted.wav\n",
      "203.857568423488\n",
      "0.41949485251930274\n",
      "Converted VID_20241104_150939_new3.wav to VID_20241104_150939_new3_temp.wav\n",
      "Recognized Text: 他把你见笑了。\n",
      "Data has been appended to CSV file './label_test3.csv'.\n",
      "他把你见笑了。\n",
      "MoviePy - Writing audio in C:/Users/Liudong/Desktop/MER/pipeline/VID_20241104_150939.wav\n"
     ]
    },
    {
     "name": "stderr",
     "output_type": "stream",
     "text": [
      "                                                       "
     ]
    },
    {
     "name": "stdout",
     "output_type": "stream",
     "text": [
      "MoviePy - Done.\n"
     ]
    },
    {
     "name": "stderr",
     "output_type": "stream",
     "text": [
      "2024-11-06 15:37:23,468 - modelscope - WARNING - Model revision not specified, use revision: v1.0.2\n",
      "2024-11-06 15:37:23,850 - modelscope - INFO - initiate model from C:\\Users\\Liudong\\.cache\\modelscope\\hub\\damo\\speech_dfsmn_ans_psm_48k_causal\n",
      "2024-11-06 15:37:23,851 - modelscope - INFO - initiate model from location C:\\Users\\Liudong\\.cache\\modelscope\\hub\\damo\\speech_dfsmn_ans_psm_48k_causal.\n",
      "2024-11-06 15:37:23,856 - modelscope - INFO - initialize model from C:\\Users\\Liudong\\.cache\\modelscope\\hub\\damo\\speech_dfsmn_ans_psm_48k_causal\n",
      "2024-11-06 15:37:23,878 - modelscope - WARNING - No preprocessor field found in cfg.\n",
      "2024-11-06 15:37:23,883 - modelscope - WARNING - No val key and type key found in preprocessor domain of configuration.json file.\n",
      "2024-11-06 15:37:23,883 - modelscope - WARNING - Cannot find available config to build preprocessor at mode inference, current config: {'model_dir': 'C:\\\\Users\\\\Liudong\\\\.cache\\\\modelscope\\\\hub\\\\damo\\\\speech_dfsmn_ans_psm_48k_causal'}. trying to build by task and model information.\n",
      "2024-11-06 15:37:23,883 - modelscope - WARNING - No preprocessor key ('speech_dfsmn_ans', 'acoustic-noise-suppression') found in PREPROCESSOR_MAP, skip building preprocessor.\n"
     ]
    },
    {
     "name": "stdout",
     "output_type": "stream",
     "text": [
      "正在进行语音识别...\n",
      "Converted temp_segment.wav to temp_segment_temp.wav\n",
      "识别结果: 感觉不像是个傻子。\n",
      "完整识别结果: 感觉不像是个傻子。\n",
      "语音段数: 1\n",
      "语音段语速: 4.52 帧/秒\n",
      "0.4524318210380797\n",
      "处理后的音频已保存至: C:/Users/Liudong/Desktop/MER/pipeline/VID_20241104_150939_adjusted.wav\n",
      "130.126366797431\n",
      "0.6527507245560986\n",
      "Converted VID_20241104_150939_new3.wav to VID_20241104_150939_new3_temp.wav\n",
      "Recognized Text: 横街潮汕的。\n",
      "Data has been appended to CSV file './label_test3.csv'.\n",
      "横街潮汕的。\n",
      "MoviePy - Writing audio in C:/Users/Liudong/Desktop/MER/pipeline/VID_20241104_150939.wav\n"
     ]
    },
    {
     "name": "stderr",
     "output_type": "stream",
     "text": [
      "                                                                   "
     ]
    },
    {
     "name": "stdout",
     "output_type": "stream",
     "text": [
      "MoviePy - Done.\n"
     ]
    },
    {
     "name": "stderr",
     "output_type": "stream",
     "text": [
      "2024-11-06 15:37:26,415 - modelscope - WARNING - Model revision not specified, use revision: v1.0.2\n",
      "2024-11-06 15:37:26,777 - modelscope - INFO - initiate model from C:\\Users\\Liudong\\.cache\\modelscope\\hub\\damo\\speech_dfsmn_ans_psm_48k_causal\n",
      "2024-11-06 15:37:26,778 - modelscope - INFO - initiate model from location C:\\Users\\Liudong\\.cache\\modelscope\\hub\\damo\\speech_dfsmn_ans_psm_48k_causal.\n",
      "2024-11-06 15:37:26,782 - modelscope - INFO - initialize model from C:\\Users\\Liudong\\.cache\\modelscope\\hub\\damo\\speech_dfsmn_ans_psm_48k_causal\n",
      "2024-11-06 15:37:26,810 - modelscope - WARNING - No preprocessor field found in cfg.\n",
      "2024-11-06 15:37:26,810 - modelscope - WARNING - No val key and type key found in preprocessor domain of configuration.json file.\n",
      "2024-11-06 15:37:26,810 - modelscope - WARNING - Cannot find available config to build preprocessor at mode inference, current config: {'model_dir': 'C:\\\\Users\\\\Liudong\\\\.cache\\\\modelscope\\\\hub\\\\damo\\\\speech_dfsmn_ans_psm_48k_causal'}. trying to build by task and model information.\n",
      "2024-11-06 15:37:26,810 - modelscope - WARNING - No preprocessor key ('speech_dfsmn_ans', 'acoustic-noise-suppression') found in PREPROCESSOR_MAP, skip building preprocessor.\n"
     ]
    },
    {
     "name": "stdout",
     "output_type": "stream",
     "text": [
      "正在进行语音识别...\n",
      "Converted temp_segment.wav to temp_segment_temp.wav\n",
      "识别结果: \n",
      "Converted temp_segment.wav to temp_segment_temp.wav\n",
      "No text content recognized!\n",
      "识别结果: None\n",
      "Converted temp_segment.wav to temp_segment_temp.wav\n",
      "No text content recognized!\n",
      "识别结果: None\n",
      "Converted temp_segment.wav to temp_segment_temp.wav\n",
      "No text content recognized!\n",
      "识别结果: None\n",
      "Converted temp_segment.wav to temp_segment_temp.wav\n",
      "识别结果: 看完。\n",
      "Converted temp_segment.wav to temp_segment_temp.wav\n",
      "No text content recognized!\n",
      "识别结果: None\n",
      "Converted temp_segment.wav to temp_segment_temp.wav\n",
      "识别结果: 唉。\n",
      "Converted temp_segment.wav to temp_segment_temp.wav\n",
      "No text content recognized!\n",
      "识别结果: None\n",
      "Converted temp_segment.wav to temp_segment_temp.wav\n",
      "识别结果: 你看你现在变成什么样子了。\n",
      "Converted temp_segment.wav to temp_segment_temp.wav\n",
      "No text content recognized!\n",
      "识别结果: None\n",
      "完整识别结果: 看完。 唉。 你看你现在变成什么样子了。\n",
      "语音段数: 10\n",
      "语音段语速: 144.23 帧/秒\n",
      "14.423076923076923\n",
      "语音段语速: 375.00 帧/秒\n",
      "37.5\n",
      "语音段语速: 312.50 帧/秒\n",
      "31.25\n",
      "语音段语速: 267.86 帧/秒\n",
      "26.785714285714285\n",
      "语音段语速: 42.61 帧/秒\n",
      "4.261363636363637\n",
      "语音段语速: 312.50 帧/秒\n",
      "31.25\n",
      "语音段语速: 69.44 帧/秒\n",
      "6.944444444444445\n",
      "语音段语速: 1875.00 帧/秒\n",
      "187.5\n",
      "语音段语速: 8.33 帧/秒\n",
      "0.8333333333333334\n",
      "语音段语速: 312.50 帧/秒\n",
      "31.25\n",
      "处理后的音频已保存至: C:/Users/Liudong/Desktop/MER/pipeline/VID_20241104_150939_adjusted.wav\n",
      "198.18759436564648\n",
      "0.43134794019228695\n",
      "Converted VID_20241104_150939_new3.wav to VID_20241104_150939_new3_temp.wav\n",
      "Recognized Text: 那看看你现在混成什么样子了？\n",
      "Data has been appended to CSV file './label_test3.csv'.\n",
      "那看看你现在混成什么样子了？\n",
      "MoviePy - Writing audio in C:/Users/Liudong/Desktop/MER/pipeline/VID_20241104_150939.wav\n"
     ]
    },
    {
     "name": "stderr",
     "output_type": "stream",
     "text": [
      "                                                                    "
     ]
    },
    {
     "name": "stdout",
     "output_type": "stream",
     "text": [
      "MoviePy - Done.\n"
     ]
    },
    {
     "name": "stderr",
     "output_type": "stream",
     "text": [
      "2024-11-06 15:37:32,147 - modelscope - WARNING - Model revision not specified, use revision: v1.0.2\n",
      "2024-11-06 15:37:32,558 - modelscope - INFO - initiate model from C:\\Users\\Liudong\\.cache\\modelscope\\hub\\damo\\speech_dfsmn_ans_psm_48k_causal\n",
      "2024-11-06 15:37:32,558 - modelscope - INFO - initiate model from location C:\\Users\\Liudong\\.cache\\modelscope\\hub\\damo\\speech_dfsmn_ans_psm_48k_causal.\n",
      "2024-11-06 15:37:32,565 - modelscope - INFO - initialize model from C:\\Users\\Liudong\\.cache\\modelscope\\hub\\damo\\speech_dfsmn_ans_psm_48k_causal\n",
      "2024-11-06 15:37:32,588 - modelscope - WARNING - No preprocessor field found in cfg.\n",
      "2024-11-06 15:37:32,588 - modelscope - WARNING - No val key and type key found in preprocessor domain of configuration.json file.\n",
      "2024-11-06 15:37:32,588 - modelscope - WARNING - Cannot find available config to build preprocessor at mode inference, current config: {'model_dir': 'C:\\\\Users\\\\Liudong\\\\.cache\\\\modelscope\\\\hub\\\\damo\\\\speech_dfsmn_ans_psm_48k_causal'}. trying to build by task and model information.\n",
      "2024-11-06 15:37:32,593 - modelscope - WARNING - No preprocessor key ('speech_dfsmn_ans', 'acoustic-noise-suppression') found in PREPROCESSOR_MAP, skip building preprocessor.\n"
     ]
    },
    {
     "name": "stdout",
     "output_type": "stream",
     "text": [
      "正在进行语音识别...\n",
      "Converted temp_segment.wav to temp_segment_temp.wav\n",
      "识别结果: \n",
      "Converted temp_segment.wav to temp_segment_temp.wav\n",
      "No text content recognized!\n",
      "识别结果: None\n",
      "Converted temp_segment.wav to temp_segment_temp.wav\n",
      "识别结果: 干啥呢？\n",
      "Converted temp_segment.wav to temp_segment_temp.wav\n",
      "识别结果: \n",
      "Converted temp_segment.wav to temp_segment_temp.wav\n",
      "识别结果: \n",
      "Converted temp_segment.wav to temp_segment_temp.wav\n",
      "No text content recognized!\n",
      "识别结果: None\n",
      "Converted temp_segment.wav to temp_segment_temp.wav\n",
      "No text content recognized!\n",
      "识别结果: None\n",
      "Converted temp_segment.wav to temp_segment_temp.wav\n",
      "识别结果: \n",
      "Converted temp_segment.wav to temp_segment_temp.wav\n",
      "No text content recognized!\n",
      "识别结果: None\n",
      "Converted temp_segment.wav to temp_segment_temp.wav\n",
      "识别结果: 不想听。\n",
      "Converted temp_segment.wav to temp_segment_temp.wav\n",
      "No text content recognized!\n",
      "识别结果: None\n",
      "Converted temp_segment.wav to temp_segment_temp.wav\n",
      "No text content recognized!\n",
      "识别结果: None\n",
      "Converted temp_segment.wav to temp_segment_temp.wav\n",
      "No text content recognized!\n",
      "识别结果: None\n",
      "Converted temp_segment.wav to temp_segment_temp.wav\n",
      "No text content recognized!\n",
      "识别结果: None\n",
      "Converted temp_segment.wav to temp_segment_temp.wav\n",
      "No text content recognized!\n",
      "识别结果: None\n",
      "Converted temp_segment.wav to temp_segment_temp.wav\n",
      "识别结果: 这是。\n",
      "Converted temp_segment.wav to temp_segment_temp.wav\n",
      "No text content recognized!\n",
      "识别结果: None\n",
      "Converted temp_segment.wav to temp_segment_temp.wav\n",
      "No text content recognized!\n",
      "识别结果: None\n",
      "完整识别结果: 干啥呢？ 不想听。 这是。\n",
      "语音段数: 18\n",
      "语音段语速: 19.98 帧/秒\n",
      "1.9979508196721312\n",
      "语音段语速: 406.25 帧/秒\n",
      "40.625\n",
      "语音段语速: 16.93 帧/秒\n",
      "1.6927083333333333\n",
      "语音段语速: 35.85 帧/秒\n",
      "3.5845588235294117\n",
      "语音段语速: 55.40 帧/秒\n",
      "5.5397727272727275\n",
      "语音段语速: 304.69 帧/秒\n",
      "30.46875\n",
      "语音段语速: 243.75 帧/秒\n",
      "24.374999999999996\n",
      "语音段语速: 46.88 帧/秒\n",
      "4.6875\n",
      "语音段语速: 1218.75 帧/秒\n",
      "121.875\n",
      "语音段语速: 110.80 帧/秒\n",
      "11.079545454545455\n",
      "语音段语速: 1218.75 帧/秒\n",
      "121.875\n",
      "语音段语速: 1218.75 帧/秒\n",
      "121.875\n",
      "语音段语速: 152.34 帧/秒\n",
      "15.234375\n",
      "语音段语速: 203.12 帧/秒\n",
      "20.3125\n",
      "语音段语速: 304.69 帧/秒\n",
      "30.46875\n",
      "语音段语速: 17.17 帧/秒\n",
      "1.716549295774648\n",
      "语音段语速: 609.38 帧/秒\n",
      "60.9375\n",
      "语音段语速: 204.39 帧/秒\n",
      "20.438912545037667\n",
      "处理后的音频已保存至: C:/Users/Liudong/Desktop/MER/pipeline/VID_20241104_150939_adjusted.wav\n",
      "150.13404960624197\n",
      "0.5671699378280346\n",
      "Converted VID_20241104_150939_new3.wav to VID_20241104_150939_new3_temp.wav\n",
      "Recognized Text: 哦。\n",
      "Data has been appended to CSV file './label_test3.csv'.\n",
      "哦。\n",
      "MoviePy - Writing audio in C:/Users/Liudong/Desktop/MER/pipeline/VID_20241104_150939.wav\n"
     ]
    },
    {
     "name": "stderr",
     "output_type": "stream",
     "text": [
      "                                                                    "
     ]
    },
    {
     "name": "stdout",
     "output_type": "stream",
     "text": [
      "MoviePy - Done.\n"
     ]
    },
    {
     "name": "stderr",
     "output_type": "stream",
     "text": [
      "2024-11-06 15:37:38,479 - modelscope - WARNING - Model revision not specified, use revision: v1.0.2\n",
      "2024-11-06 15:37:38,762 - modelscope - INFO - initiate model from C:\\Users\\Liudong\\.cache\\modelscope\\hub\\damo\\speech_dfsmn_ans_psm_48k_causal\n",
      "2024-11-06 15:37:38,763 - modelscope - INFO - initiate model from location C:\\Users\\Liudong\\.cache\\modelscope\\hub\\damo\\speech_dfsmn_ans_psm_48k_causal.\n",
      "2024-11-06 15:37:38,768 - modelscope - INFO - initialize model from C:\\Users\\Liudong\\.cache\\modelscope\\hub\\damo\\speech_dfsmn_ans_psm_48k_causal\n",
      "2024-11-06 15:37:38,793 - modelscope - WARNING - No preprocessor field found in cfg.\n",
      "2024-11-06 15:37:38,793 - modelscope - WARNING - No val key and type key found in preprocessor domain of configuration.json file.\n",
      "2024-11-06 15:37:38,793 - modelscope - WARNING - Cannot find available config to build preprocessor at mode inference, current config: {'model_dir': 'C:\\\\Users\\\\Liudong\\\\.cache\\\\modelscope\\\\hub\\\\damo\\\\speech_dfsmn_ans_psm_48k_causal'}. trying to build by task and model information.\n",
      "2024-11-06 15:37:38,793 - modelscope - WARNING - No preprocessor key ('speech_dfsmn_ans', 'acoustic-noise-suppression') found in PREPROCESSOR_MAP, skip building preprocessor.\n"
     ]
    },
    {
     "name": "stdout",
     "output_type": "stream",
     "text": [
      "正在进行语音识别...\n",
      "Converted temp_segment.wav to temp_segment_temp.wav\n",
      "No text content recognized!\n",
      "识别结果: None\n",
      "Converted temp_segment.wav to temp_segment_temp.wav\n",
      "No text content recognized!\n",
      "识别结果: None\n",
      "Converted temp_segment.wav to temp_segment_temp.wav\n",
      "识别结果: 打今儿起。\n",
      "Converted temp_segment.wav to temp_segment_temp.wav\n",
      "No text content recognized!\n",
      "识别结果: None\n",
      "Converted temp_segment.wav to temp_segment_temp.wav\n",
      "识别结果: 咱俩各论各。\n",
      "Converted temp_segment.wav to temp_segment_temp.wav\n",
      "No text content recognized!\n",
      "识别结果: None\n",
      "Converted temp_segment.wav to temp_segment_temp.wav\n",
      "识别结果: 你看。\n",
      "Converted temp_segment.wav to temp_segment_temp.wav\n",
      "识别结果: 我管你叫哥。\n",
      "完整识别结果: 打今儿起。 咱俩各论各。 你看。 我管你叫哥。\n",
      "语音段数: 8\n",
      "语音段语速: 718.75 帧/秒\n",
      "71.875\n",
      "语音段语速: 2156.25 帧/秒\n",
      "215.625\n",
      "语音段语速: 38.50 帧/秒\n",
      "3.8504464285714284\n",
      "语音段语速: 359.38 帧/秒\n",
      "35.9375\n",
      "语音段语速: 25.07 帧/秒\n",
      "2.5072674418604652\n",
      "语音段语速: 1078.12 帧/秒\n",
      "107.8125\n",
      "语音段语速: 44.92 帧/秒\n",
      "4.4921875\n",
      "语音段语速: 28.21 帧/秒\n",
      "2.8206438426162492\n",
      "处理后的音频已保存至: C:/Users/Liudong/Desktop/MER/pipeline/VID_20241104_150939_adjusted.wav\n",
      "180.29018989873242\n",
      "0.4735872337284748\n",
      "Converted VID_20241104_150939_new3.wav to VID_20241104_150939_new3_temp.wav\n",
      "Recognized Text: 太惨了。\n",
      "Data has been appended to CSV file './label_test3.csv'.\n",
      "太惨了。\n",
      "MoviePy - Writing audio in C:/Users/Liudong/Desktop/MER/pipeline/VID_20241104_150939.wav\n"
     ]
    },
    {
     "name": "stderr",
     "output_type": "stream",
     "text": [
      "                                                       "
     ]
    },
    {
     "name": "stdout",
     "output_type": "stream",
     "text": [
      "MoviePy - Done.\n"
     ]
    },
    {
     "name": "stderr",
     "output_type": "stream",
     "text": [
      "2024-11-06 15:37:42,556 - modelscope - WARNING - Model revision not specified, use revision: v1.0.2\n",
      "2024-11-06 15:37:42,899 - modelscope - INFO - initiate model from C:\\Users\\Liudong\\.cache\\modelscope\\hub\\damo\\speech_dfsmn_ans_psm_48k_causal\n",
      "2024-11-06 15:37:42,899 - modelscope - INFO - initiate model from location C:\\Users\\Liudong\\.cache\\modelscope\\hub\\damo\\speech_dfsmn_ans_psm_48k_causal.\n",
      "2024-11-06 15:37:42,905 - modelscope - INFO - initialize model from C:\\Users\\Liudong\\.cache\\modelscope\\hub\\damo\\speech_dfsmn_ans_psm_48k_causal\n",
      "2024-11-06 15:37:42,929 - modelscope - WARNING - No preprocessor field found in cfg.\n",
      "2024-11-06 15:37:42,933 - modelscope - WARNING - No val key and type key found in preprocessor domain of configuration.json file.\n",
      "2024-11-06 15:37:42,933 - modelscope - WARNING - Cannot find available config to build preprocessor at mode inference, current config: {'model_dir': 'C:\\\\Users\\\\Liudong\\\\.cache\\\\modelscope\\\\hub\\\\damo\\\\speech_dfsmn_ans_psm_48k_causal'}. trying to build by task and model information.\n",
      "2024-11-06 15:37:42,934 - modelscope - WARNING - No preprocessor key ('speech_dfsmn_ans', 'acoustic-noise-suppression') found in PREPROCESSOR_MAP, skip building preprocessor.\n"
     ]
    },
    {
     "name": "stdout",
     "output_type": "stream",
     "text": [
      "正在进行语音识别...\n",
      "Converted temp_segment.wav to temp_segment_temp.wav\n",
      "识别结果: 不许这样对你这样说。\n",
      "完整识别结果: 不许这样对你这样说。\n",
      "语音段数: 1\n",
      "语音段语速: 8.89 帧/秒\n",
      "0.8890041301650214\n",
      "处理后的音频已保存至: C:/Users/Liudong/Desktop/MER/pipeline/VID_20241104_150939_adjusted.wav\n",
      "265.53010984024536\n",
      "0.32296450905582846\n",
      "Converted VID_20241104_150939_new3.wav to VID_20241104_150939_new3_temp.wav\n",
      "Recognized Text: 不行，竟然被你炸死。\n",
      "Data has been appended to CSV file './label_test3.csv'.\n",
      "不行，竟然被你炸死。\n",
      "MoviePy - Writing audio in C:/Users/Liudong/Desktop/MER/pipeline/VID_20241104_150939.wav\n"
     ]
    },
    {
     "name": "stderr",
     "output_type": "stream",
     "text": [
      "                                                       "
     ]
    },
    {
     "name": "stdout",
     "output_type": "stream",
     "text": [
      "MoviePy - Done.\n"
     ]
    },
    {
     "name": "stderr",
     "output_type": "stream",
     "text": [
      "2024-11-06 15:37:45,049 - modelscope - WARNING - Model revision not specified, use revision: v1.0.2\n",
      "2024-11-06 15:37:45,337 - modelscope - INFO - initiate model from C:\\Users\\Liudong\\.cache\\modelscope\\hub\\damo\\speech_dfsmn_ans_psm_48k_causal\n",
      "2024-11-06 15:37:45,337 - modelscope - INFO - initiate model from location C:\\Users\\Liudong\\.cache\\modelscope\\hub\\damo\\speech_dfsmn_ans_psm_48k_causal.\n",
      "2024-11-06 15:37:45,337 - modelscope - INFO - initialize model from C:\\Users\\Liudong\\.cache\\modelscope\\hub\\damo\\speech_dfsmn_ans_psm_48k_causal\n",
      "2024-11-06 15:37:45,373 - modelscope - WARNING - No preprocessor field found in cfg.\n",
      "2024-11-06 15:37:45,374 - modelscope - WARNING - No val key and type key found in preprocessor domain of configuration.json file.\n",
      "2024-11-06 15:37:45,374 - modelscope - WARNING - Cannot find available config to build preprocessor at mode inference, current config: {'model_dir': 'C:\\\\Users\\\\Liudong\\\\.cache\\\\modelscope\\\\hub\\\\damo\\\\speech_dfsmn_ans_psm_48k_causal'}. trying to build by task and model information.\n",
      "2024-11-06 15:37:45,376 - modelscope - WARNING - No preprocessor key ('speech_dfsmn_ans', 'acoustic-noise-suppression') found in PREPROCESSOR_MAP, skip building preprocessor.\n"
     ]
    },
    {
     "name": "stdout",
     "output_type": "stream",
     "text": [
      "正在进行语音识别...\n",
      "Converted temp_segment.wav to temp_segment_temp.wav\n",
      "No text content recognized!\n",
      "识别结果: None\n",
      "Converted temp_segment.wav to temp_segment_temp.wav\n",
      "识别结果: 那。\n",
      "Converted temp_segment.wav to temp_segment_temp.wav\n",
      "No text content recognized!\n",
      "识别结果: None\n",
      "Converted temp_segment.wav to temp_segment_temp.wav\n",
      "No text content recognized!\n",
      "识别结果: None\n",
      "Converted temp_segment.wav to temp_segment_temp.wav\n",
      "No text content recognized!\n",
      "识别结果: None\n",
      "Converted temp_segment.wav to temp_segment_temp.wav\n",
      "识别结果: 麻烦您能告诉我它现在情况怎么样了吗？\n",
      "完整识别结果: 那。 麻烦您能告诉我它现在情况怎么样了吗？\n",
      "语音段数: 6\n",
      "语音段语速: 393.75 帧/秒\n",
      "39.375\n",
      "语音段语速: 61.52 帧/秒\n",
      "6.15234375\n",
      "语音段语速: 393.75 帧/秒\n",
      "39.375\n",
      "语音段语速: 492.19 帧/秒\n",
      "49.21875\n",
      "语音段语速: 393.75 帧/秒\n",
      "39.375\n",
      "语音段语速: 8.90 帧/秒\n",
      "0.8900819440519921\n",
      "处理后的音频已保存至: C:/Users/Liudong/Desktop/MER/pipeline/VID_20241104_150939_adjusted.wav\n",
      "256.95396883028985\n",
      "0.3336406143200389\n",
      "Converted VID_20241104_150939_new3.wav to VID_20241104_150939_new3_temp.wav\n",
      "Recognized Text: 麻烦您能告诉我它现在情况怎么样了？\n",
      "Data has been appended to CSV file './label_test3.csv'.\n",
      "麻烦您能告诉我它现在情况怎么样了？\n",
      "MoviePy - Writing audio in C:/Users/Liudong/Desktop/MER/pipeline/VID_20241104_150939.wav\n"
     ]
    },
    {
     "name": "stderr",
     "output_type": "stream",
     "text": [
      "                                                                 "
     ]
    },
    {
     "name": "stdout",
     "output_type": "stream",
     "text": [
      "MoviePy - Done.\n"
     ]
    },
    {
     "name": "stderr",
     "output_type": "stream",
     "text": [
      "2024-11-06 15:37:48,905 - modelscope - WARNING - Model revision not specified, use revision: v1.0.2\n",
      "2024-11-06 15:37:49,221 - modelscope - INFO - initiate model from C:\\Users\\Liudong\\.cache\\modelscope\\hub\\damo\\speech_dfsmn_ans_psm_48k_causal\n",
      "2024-11-06 15:37:49,222 - modelscope - INFO - initiate model from location C:\\Users\\Liudong\\.cache\\modelscope\\hub\\damo\\speech_dfsmn_ans_psm_48k_causal.\n",
      "2024-11-06 15:37:49,226 - modelscope - INFO - initialize model from C:\\Users\\Liudong\\.cache\\modelscope\\hub\\damo\\speech_dfsmn_ans_psm_48k_causal\n",
      "2024-11-06 15:37:49,252 - modelscope - WARNING - No preprocessor field found in cfg.\n",
      "2024-11-06 15:37:49,252 - modelscope - WARNING - No val key and type key found in preprocessor domain of configuration.json file.\n",
      "2024-11-06 15:37:49,252 - modelscope - WARNING - Cannot find available config to build preprocessor at mode inference, current config: {'model_dir': 'C:\\\\Users\\\\Liudong\\\\.cache\\\\modelscope\\\\hub\\\\damo\\\\speech_dfsmn_ans_psm_48k_causal'}. trying to build by task and model information.\n",
      "2024-11-06 15:37:49,252 - modelscope - WARNING - No preprocessor key ('speech_dfsmn_ans', 'acoustic-noise-suppression') found in PREPROCESSOR_MAP, skip building preprocessor.\n"
     ]
    },
    {
     "name": "stdout",
     "output_type": "stream",
     "text": [
      "正在进行语音识别...\n",
      "Converted temp_segment.wav to temp_segment_temp.wav\n",
      "识别结果: 病人很不配合治疗。\n",
      "Converted temp_segment.wav to temp_segment_temp.wav\n",
      "识别结果: 不太乐观。\n",
      "Converted temp_segment.wav to temp_segment_temp.wav\n",
      "No text content recognized!\n",
      "识别结果: None\n",
      "Converted temp_segment.wav to temp_segment_temp.wav\n",
      "No text content recognized!\n",
      "识别结果: None\n",
      "Converted temp_segment.wav to temp_segment_temp.wav\n",
      "识别结果: 不想听。\n",
      "完整识别结果: 病人很不配合治疗。 不太乐观。 不想听。\n",
      "语音段数: 5\n",
      "语音段语速: 12.93 帧/秒\n",
      "1.293103448275862\n",
      "语音段语速: 23.44 帧/秒\n",
      "2.34375\n",
      "语音段语速: 312.50 帧/秒\n",
      "31.25\n",
      "语音段语速: 312.50 帧/秒\n",
      "31.25\n",
      "语音段语速: 125.00 帧/秒\n",
      "12.5\n",
      "处理后的音频已保存至: C:/Users/Liudong/Desktop/MER/pipeline/VID_20241104_150939_adjusted.wav\n",
      "249.28791047384942\n",
      "0.34379945811048374\n",
      "Converted VID_20241104_150939_new3.wav to VID_20241104_150939_new3_temp.wav\n",
      "Recognized Text: 病人很不配合治疗他的吧！\n",
      "Data has been appended to CSV file './label_test3.csv'.\n",
      "病人很不配合治疗他的吧！\n",
      "MoviePy - Writing audio in C:/Users/Liudong/Desktop/MER/pipeline/VID_20241104_150939.wav\n"
     ]
    },
    {
     "name": "stderr",
     "output_type": "stream",
     "text": [
      "                                                       "
     ]
    },
    {
     "name": "stdout",
     "output_type": "stream",
     "text": [
      "MoviePy - Done.\n"
     ]
    },
    {
     "name": "stderr",
     "output_type": "stream",
     "text": [
      "2024-11-06 15:37:52,312 - modelscope - WARNING - Model revision not specified, use revision: v1.0.2\n",
      "2024-11-06 15:37:52,619 - modelscope - INFO - initiate model from C:\\Users\\Liudong\\.cache\\modelscope\\hub\\damo\\speech_dfsmn_ans_psm_48k_causal\n",
      "2024-11-06 15:37:52,620 - modelscope - INFO - initiate model from location C:\\Users\\Liudong\\.cache\\modelscope\\hub\\damo\\speech_dfsmn_ans_psm_48k_causal.\n",
      "2024-11-06 15:37:52,624 - modelscope - INFO - initialize model from C:\\Users\\Liudong\\.cache\\modelscope\\hub\\damo\\speech_dfsmn_ans_psm_48k_causal\n",
      "2024-11-06 15:37:52,647 - modelscope - WARNING - No preprocessor field found in cfg.\n",
      "2024-11-06 15:37:52,647 - modelscope - WARNING - No val key and type key found in preprocessor domain of configuration.json file.\n",
      "2024-11-06 15:37:52,647 - modelscope - WARNING - Cannot find available config to build preprocessor at mode inference, current config: {'model_dir': 'C:\\\\Users\\\\Liudong\\\\.cache\\\\modelscope\\\\hub\\\\damo\\\\speech_dfsmn_ans_psm_48k_causal'}. trying to build by task and model information.\n",
      "2024-11-06 15:37:52,647 - modelscope - WARNING - No preprocessor key ('speech_dfsmn_ans', 'acoustic-noise-suppression') found in PREPROCESSOR_MAP, skip building preprocessor.\n"
     ]
    },
    {
     "name": "stdout",
     "output_type": "stream",
     "text": [
      "正在进行语音识别...\n",
      "Converted temp_segment.wav to temp_segment_temp.wav\n",
      "识别结果: 怎么样？\n",
      "Converted temp_segment.wav to temp_segment_temp.wav\n",
      "识别结果: 我。\n",
      "Converted temp_segment.wav to temp_segment_temp.wav\n",
      "识别结果: 可不可以？是不是不来啦？\n",
      "完整识别结果: 怎么样？ 我。 可不可以？是不是不来啦？\n",
      "语音段数: 3\n",
      "语音段语速: 46.88 帧/秒\n",
      "4.6875\n",
      "语音段语速: 125.00 帧/秒\n",
      "12.5\n",
      "语音段语速: 14.53 帧/秒\n",
      "1.4534883720930234\n",
      "处理后的音频已保存至: C:/Users/Liudong/Desktop/MER/pipeline/VID_20241104_150939_adjusted.wav\n",
      "262.61619002006006\n",
      "0.3265144551156416\n",
      "Converted VID_20241104_150939_new3.wav to VID_20241104_150939_new3_temp.wav\n",
      "Recognized Text: 他滚出去，去年。\n",
      "Data has been appended to CSV file './label_test3.csv'.\n",
      "他滚出去，去年。\n",
      "MoviePy - Writing audio in C:/Users/Liudong/Desktop/MER/pipeline/VID_20241104_150939.wav\n"
     ]
    },
    {
     "name": "stderr",
     "output_type": "stream",
     "text": [
      "                                                        "
     ]
    },
    {
     "name": "stdout",
     "output_type": "stream",
     "text": [
      "MoviePy - Done.\n"
     ]
    },
    {
     "name": "stderr",
     "output_type": "stream",
     "text": [
      "2024-11-06 15:37:55,548 - modelscope - WARNING - Model revision not specified, use revision: v1.0.2\n",
      "2024-11-06 15:37:55,833 - modelscope - INFO - initiate model from C:\\Users\\Liudong\\.cache\\modelscope\\hub\\damo\\speech_dfsmn_ans_psm_48k_causal\n",
      "2024-11-06 15:37:55,834 - modelscope - INFO - initiate model from location C:\\Users\\Liudong\\.cache\\modelscope\\hub\\damo\\speech_dfsmn_ans_psm_48k_causal.\n",
      "2024-11-06 15:37:55,838 - modelscope - INFO - initialize model from C:\\Users\\Liudong\\.cache\\modelscope\\hub\\damo\\speech_dfsmn_ans_psm_48k_causal\n",
      "2024-11-06 15:37:55,866 - modelscope - WARNING - No preprocessor field found in cfg.\n",
      "2024-11-06 15:37:55,867 - modelscope - WARNING - No val key and type key found in preprocessor domain of configuration.json file.\n",
      "2024-11-06 15:37:55,868 - modelscope - WARNING - Cannot find available config to build preprocessor at mode inference, current config: {'model_dir': 'C:\\\\Users\\\\Liudong\\\\.cache\\\\modelscope\\\\hub\\\\damo\\\\speech_dfsmn_ans_psm_48k_causal'}. trying to build by task and model information.\n",
      "2024-11-06 15:37:55,868 - modelscope - WARNING - No preprocessor key ('speech_dfsmn_ans', 'acoustic-noise-suppression') found in PREPROCESSOR_MAP, skip building preprocessor.\n"
     ]
    },
    {
     "name": "stdout",
     "output_type": "stream",
     "text": [
      "正在进行语音识别...\n",
      "Converted temp_segment.wav to temp_segment_temp.wav\n",
      "No text content recognized!\n",
      "识别结果: None\n",
      "Converted temp_segment.wav to temp_segment_temp.wav\n",
      "识别结果: 小的时候吧！\n",
      "Converted temp_segment.wav to temp_segment_temp.wav\n",
      "识别结果: 我就喜欢赖着你，跟你玩过家家。\n",
      "Converted temp_segment.wav to temp_segment_temp.wav\n",
      "识别结果: 给我当爸。\n",
      "完整识别结果: 小的时候吧！ 我就喜欢赖着你，跟你玩过家家。 给我当爸。\n",
      "语音段数: 4\n",
      "语音段语速: 525.00 帧/秒\n",
      "52.5\n",
      "语音段语速: 22.83 帧/秒\n",
      "2.2826086956521743\n",
      "语音段语速: 10.94 帧/秒\n",
      "1.09375\n",
      "语音段语速: 26.10 帧/秒\n",
      "2.6101141924959217\n",
      "处理后的音频已保存至: C:/Users/Liudong/Desktop/MER/pipeline/VID_20241104_150939_adjusted.wav\n",
      "202.00410366752524\n",
      "0.42329720188933584\n",
      "Converted VID_20241104_150939_new3.wav to VID_20241104_150939_new3_temp.wav\n",
      "Recognized Text: 他说他我就喜欢那一只仙女牌，给我加一个。\n",
      "Data has been appended to CSV file './label_test3.csv'.\n",
      "他说他我就喜欢那一只仙女牌，给我加一个。\n",
      "MoviePy - Writing audio in C:/Users/Liudong/Desktop/MER/pipeline/VID_20241104_150939.wav\n"
     ]
    },
    {
     "name": "stderr",
     "output_type": "stream",
     "text": [
      "                                                                   "
     ]
    },
    {
     "name": "stdout",
     "output_type": "stream",
     "text": [
      "MoviePy - Done.\n"
     ]
    },
    {
     "name": "stderr",
     "output_type": "stream",
     "text": [
      "2024-11-06 15:37:59,295 - modelscope - WARNING - Model revision not specified, use revision: v1.0.2\n",
      "2024-11-06 15:37:59,600 - modelscope - INFO - initiate model from C:\\Users\\Liudong\\.cache\\modelscope\\hub\\damo\\speech_dfsmn_ans_psm_48k_causal\n",
      "2024-11-06 15:37:59,601 - modelscope - INFO - initiate model from location C:\\Users\\Liudong\\.cache\\modelscope\\hub\\damo\\speech_dfsmn_ans_psm_48k_causal.\n",
      "2024-11-06 15:37:59,605 - modelscope - INFO - initialize model from C:\\Users\\Liudong\\.cache\\modelscope\\hub\\damo\\speech_dfsmn_ans_psm_48k_causal\n",
      "2024-11-06 15:37:59,632 - modelscope - WARNING - No preprocessor field found in cfg.\n",
      "2024-11-06 15:37:59,633 - modelscope - WARNING - No val key and type key found in preprocessor domain of configuration.json file.\n",
      "2024-11-06 15:37:59,634 - modelscope - WARNING - Cannot find available config to build preprocessor at mode inference, current config: {'model_dir': 'C:\\\\Users\\\\Liudong\\\\.cache\\\\modelscope\\\\hub\\\\damo\\\\speech_dfsmn_ans_psm_48k_causal'}. trying to build by task and model information.\n",
      "2024-11-06 15:37:59,635 - modelscope - WARNING - No preprocessor key ('speech_dfsmn_ans', 'acoustic-noise-suppression') found in PREPROCESSOR_MAP, skip building preprocessor.\n"
     ]
    },
    {
     "name": "stdout",
     "output_type": "stream",
     "text": [
      "正在进行语音识别...\n",
      "Converted temp_segment.wav to temp_segment_temp.wav\n",
      "No text content recognized!\n",
      "识别结果: None\n",
      "Converted temp_segment.wav to temp_segment_temp.wav\n",
      "识别结果: 再后来呢？\n",
      "Converted temp_segment.wav to temp_segment_temp.wav\n",
      "No text content recognized!\n",
      "识别结果: None\n",
      "Converted temp_segment.wav to temp_segment_temp.wav\n",
      "No text content recognized!\n",
      "识别结果: None\n",
      "Converted temp_segment.wav to temp_segment_temp.wav\n",
      "识别结果: 你就成了大明星了。\n",
      "Converted temp_segment.wav to temp_segment_temp.wav\n",
      "No text content recognized!\n",
      "识别结果: None\n",
      "Converted temp_segment.wav to temp_segment_temp.wav\n",
      "No text content recognized!\n",
      "识别结果: None\n",
      "Converted temp_segment.wav to temp_segment_temp.wav\n",
      "No text content recognized!\n",
      "识别结果: None\n",
      "Converted temp_segment.wav to temp_segment_temp.wav\n",
      "识别结果: 我想听。\n",
      "Converted temp_segment.wav to temp_segment_temp.wav\n",
      "No text content recognized!\n",
      "识别结果: None\n",
      "Converted temp_segment.wav to temp_segment_temp.wav\n",
      "No text content recognized!\n",
      "识别结果: None\n",
      "Converted temp_segment.wav to temp_segment_temp.wav\n",
      "识别结果: 我也就不敢再喜欢。\n",
      "Converted temp_segment.wav to temp_segment_temp.wav\n",
      "识别结果: \n",
      "Converted temp_segment.wav to temp_segment_temp.wav\n",
      "识别结果: \n",
      "Converted temp_segment.wav to temp_segment_temp.wav\n",
      "No text content recognized!\n",
      "识别结果: None\n",
      "Converted temp_segment.wav to temp_segment_temp.wav\n",
      "No text content recognized!\n",
      "识别结果: None\n",
      "完整识别结果: 再后来呢？ 你就成了大明星了。 我想听。 我也就不敢再喜欢。\n",
      "语音段数: 16\n",
      "语音段语速: 562.50 帧/秒\n",
      "56.25\n",
      "语音段语速: 16.16 帧/秒\n",
      "1.6163793103448274\n",
      "语音段语速: 2812.50 帧/秒\n",
      "281.25\n",
      "语音段语速: 2812.50 帧/秒\n",
      "281.25\n",
      "语音段语速: 22.68 帧/秒\n",
      "2.2681451612903225\n",
      "语音段语速: 2812.50 帧/秒\n",
      "281.25\n",
      "语音段语速: 1406.25 帧/秒\n",
      "140.625\n",
      "语音段语速: 1406.25 帧/秒\n",
      "140.625\n",
      "语音段语速: 255.68 帧/秒\n",
      "25.56818181818182\n",
      "语音段语速: 703.12 帧/秒\n",
      "70.3125\n",
      "语音段语速: 468.75 帧/秒\n",
      "46.875\n",
      "语音段语速: 22.87 帧/秒\n",
      "2.286585365853658\n",
      "语音段语速: 312.50 帧/秒\n",
      "31.25\n",
      "语音段语速: 312.50 帧/秒\n",
      "31.25\n",
      "语音段语速: 562.50 帧/秒\n",
      "56.25\n",
      "语音段语速: 405.41 帧/秒\n",
      "40.54054054054054\n",
      "处理后的音频已保存至: C:/Users/Liudong/Desktop/MER/pipeline/VID_20241104_150939_adjusted.wav\n",
      "192.44831770491038\n",
      "0.4440481920690794\n",
      "Converted VID_20241104_150939_new3.wav to VID_20241104_150939_new3_temp.wav\n",
      "Recognized Text: 再来一个一室，安静，我们安下。\n",
      "Data has been appended to CSV file './label_test3.csv'.\n",
      "再来一个一室，安静，我们安下。\n"
     ]
    }
   ],
   "source": [
    "folder_path = 'E:/BaiduNetdiskDownload/video_0016'\n",
    "\n",
    "for file_name in os.listdir(folder_path):\n",
    "    file_path = os.path.join(folder_path, file_name)\n",
    "    if os.path.isfile(file_path):\n",
    "        video_path = folder_path + '/'+ file_name\n",
    "        audio_path = 'C:/Users/Liudong/Desktop/MER/pipeline/VID_20241104_150939.wav'\n",
    "        output_file = 'C:/Users/Liudong/Desktop/MER/pipeline/VID_20241104_150939_new.wav'\n",
    "        output_path = 'C:/Users/Liudong/Desktop/MER/pipeline/VID_20241104_150939_new2.wav'\n",
    "        output_adjusted = 'C:/Users/Liudong/Desktop/MER/pipeline/VID_20241104_150939_adjusted.wav'\n",
    "        output_path2 = 'C:/Users/Liudong/Desktop/MER/pipeline/VID_20241104_150939_new3.wav'\n",
    "        extract_audio_from_mp4(video_path, audio_path)\n",
    "        convert_wav(audio_path, output_file)\n",
    "        denoisings(output_file, output_path)\n",
    "        speed_by_segment(output_path, output_adjusted)\n",
    "        pitch_by_segment(output_adjusted, output_path2)\n",
    "        result_text = wav2csv(output_path2, showDetail=False, select_model=1, saveCsv=True, csv_path=\"./label_test3.csv\")\n",
    "        print(result_text)"
   ]
  },
  {
   "cell_type": "code",
   "execution_count": null,
   "metadata": {},
   "outputs": [],
   "source": []
  }
 ],
 "metadata": {
  "kernelspec": {
   "display_name": "dfsmn",
   "language": "python",
   "name": "python3"
  },
  "language_info": {
   "codemirror_mode": {
    "name": "ipython",
    "version": 3
   },
   "file_extension": ".py",
   "mimetype": "text/x-python",
   "name": "python",
   "nbconvert_exporter": "python",
   "pygments_lexer": "ipython3",
   "version": "3.8.20"
  }
 },
 "nbformat": 4,
 "nbformat_minor": 2
}
